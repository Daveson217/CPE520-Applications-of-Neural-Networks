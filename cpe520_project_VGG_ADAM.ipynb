{
 "cells": [
  {
   "cell_type": "markdown",
   "metadata": {},
   "source": [
    "### Importing the Libraries"
   ]
  },
  {
   "cell_type": "code",
   "execution_count": 1,
   "metadata": {},
   "outputs": [],
   "source": [
    "import torch\n",
    "from torch.autograd import Variable\n",
    "import torch.nn as nn\n",
    "import torch.nn.functional as F\n",
    "import torch.optim as optim\n",
    "from torchsummary import summary\n",
    "import torchvision.transforms as T\n",
    "from torchvision import models\n",
    "from torchvision import datasets\n",
    "from torch.utils.data import DataLoader\n",
    "from tqdm import tqdm\n",
    "import numpy as np\n",
    "import matplotlib.pyplot as plt"
   ]
  },
  {
   "cell_type": "code",
   "execution_count": 2,
   "metadata": {},
   "outputs": [
    {
     "data": {
      "text/plain": [
       "device(type='cuda')"
      ]
     },
     "execution_count": 2,
     "metadata": {},
     "output_type": "execute_result"
    }
   ],
   "source": [
    "BATCH_SIZE = 128\n",
    "DEVICE = torch.device('cuda' if torch.cuda.is_available() else 'cpu')\n",
    "#DEVICE = 'cpu'\n",
    "DEVICE"
   ]
  },
  {
   "cell_type": "code",
   "execution_count": 3,
   "metadata": {},
   "outputs": [],
   "source": [
    "# Images are already in 48 X 48, so no need to resize\n",
    "training_augs = T.Compose([\n",
    "    T.Grayscale(num_output_channels=3),\n",
    "    T.Resize((48, 48)),\n",
    "    T.ToTensor(),\n",
    "    T.Normalize(mean=[0.5, 0.5, 0.5], std=[0.5, 0.5, 0.5]),  # Normalize with mean=0.5 and std=0.5 (adjust for specific needs)\n",
    "    T.RandomHorizontalFlip(),\n",
    "    T.RandomAffine(degrees=0, shear=0.2, scale=(0.8, 1.2))\n",
    "])\n",
    "\n",
    "\n",
    "training_set = datasets.ImageFolder(root='jonathan_oheix/train', transform=training_augs)\n",
    "\n",
    "training_loader = DataLoader(training_set, batch_size=BATCH_SIZE, shuffle=True)"
   ]
  },
  {
   "cell_type": "code",
   "execution_count": 4,
   "metadata": {},
   "outputs": [],
   "source": [
    "valid_augs = T.Compose([\n",
    "    T.Grayscale(num_output_channels=3),\n",
    "    T.ToTensor(),\n",
    "    T.Normalize(mean=[0.5, 0.5, 0.5], std=[0.5, 0.5, 0.5])\n",
    "])\n",
    "\n",
    "test_set = datasets.ImageFolder(root='jonathan_oheix/validation', transform=valid_augs)\n",
    "test_loader = DataLoader(test_set, batch_size=BATCH_SIZE, shuffle=True)"
   ]
  },
  {
   "cell_type": "code",
   "execution_count": 5,
   "metadata": {},
   "outputs": [
    {
     "name": "stdout",
     "output_type": "stream",
     "text": [
      "{'angry': 0, 'disgust': 1, 'fear': 2, 'happy': 3, 'neutral': 4, 'sad': 5, 'surprise': 6}\n"
     ]
    }
   ],
   "source": [
    "print(training_set.class_to_idx)"
   ]
  },
  {
   "cell_type": "code",
   "execution_count": 6,
   "metadata": {},
   "outputs": [],
   "source": [
    "num_classes = len(training_set.classes)  # Number of emotion labels\n",
    "\n",
    "# Load pretrained ResNet-50\n",
    "model = models.vgg16(weights=models.VGG16_Weights.DEFAULT)\n",
    "\n",
    "# Replace the last fully connected layer\n",
    "#model.fc = nn.Linear(model.fc.in_features, num_classes)\n",
    "model.classifier[6] = nn.Linear(model.classifier[6].in_features, num_classes)\n",
    "\n",
    "# Send the model to GPU if available\n",
    "cnn = model.to(DEVICE)\n"
   ]
  },
  {
   "cell_type": "code",
   "execution_count": 7,
   "metadata": {},
   "outputs": [
    {
     "name": "stdout",
     "output_type": "stream",
     "text": [
      "VGG(\n",
      "  (features): Sequential(\n",
      "    (0): Conv2d(3, 64, kernel_size=(3, 3), stride=(1, 1), padding=(1, 1))\n",
      "    (1): ReLU(inplace=True)\n",
      "    (2): Conv2d(64, 64, kernel_size=(3, 3), stride=(1, 1), padding=(1, 1))\n",
      "    (3): ReLU(inplace=True)\n",
      "    (4): MaxPool2d(kernel_size=2, stride=2, padding=0, dilation=1, ceil_mode=False)\n",
      "    (5): Conv2d(64, 128, kernel_size=(3, 3), stride=(1, 1), padding=(1, 1))\n",
      "    (6): ReLU(inplace=True)\n",
      "    (7): Conv2d(128, 128, kernel_size=(3, 3), stride=(1, 1), padding=(1, 1))\n",
      "    (8): ReLU(inplace=True)\n",
      "    (9): MaxPool2d(kernel_size=2, stride=2, padding=0, dilation=1, ceil_mode=False)\n",
      "    (10): Conv2d(128, 256, kernel_size=(3, 3), stride=(1, 1), padding=(1, 1))\n",
      "    (11): ReLU(inplace=True)\n",
      "    (12): Conv2d(256, 256, kernel_size=(3, 3), stride=(1, 1), padding=(1, 1))\n",
      "    (13): ReLU(inplace=True)\n",
      "    (14): Conv2d(256, 256, kernel_size=(3, 3), stride=(1, 1), padding=(1, 1))\n",
      "    (15): ReLU(inplace=True)\n",
      "    (16): MaxPool2d(kernel_size=2, stride=2, padding=0, dilation=1, ceil_mode=False)\n",
      "    (17): Conv2d(256, 512, kernel_size=(3, 3), stride=(1, 1), padding=(1, 1))\n",
      "    (18): ReLU(inplace=True)\n",
      "    (19): Conv2d(512, 512, kernel_size=(3, 3), stride=(1, 1), padding=(1, 1))\n",
      "    (20): ReLU(inplace=True)\n",
      "    (21): Conv2d(512, 512, kernel_size=(3, 3), stride=(1, 1), padding=(1, 1))\n",
      "    (22): ReLU(inplace=True)\n",
      "    (23): MaxPool2d(kernel_size=2, stride=2, padding=0, dilation=1, ceil_mode=False)\n",
      "    (24): Conv2d(512, 512, kernel_size=(3, 3), stride=(1, 1), padding=(1, 1))\n",
      "    (25): ReLU(inplace=True)\n",
      "    (26): Conv2d(512, 512, kernel_size=(3, 3), stride=(1, 1), padding=(1, 1))\n",
      "    (27): ReLU(inplace=True)\n",
      "    (28): Conv2d(512, 512, kernel_size=(3, 3), stride=(1, 1), padding=(1, 1))\n",
      "    (29): ReLU(inplace=True)\n",
      "    (30): MaxPool2d(kernel_size=2, stride=2, padding=0, dilation=1, ceil_mode=False)\n",
      "  )\n",
      "  (avgpool): AdaptiveAvgPool2d(output_size=(7, 7))\n",
      "  (classifier): Sequential(\n",
      "    (0): Linear(in_features=25088, out_features=4096, bias=True)\n",
      "    (1): ReLU(inplace=True)\n",
      "    (2): Dropout(p=0.5, inplace=False)\n",
      "    (3): Linear(in_features=4096, out_features=4096, bias=True)\n",
      "    (4): ReLU(inplace=True)\n",
      "    (5): Dropout(p=0.5, inplace=False)\n",
      "    (6): Linear(in_features=4096, out_features=7, bias=True)\n",
      "  )\n",
      ")\n"
     ]
    }
   ],
   "source": [
    "print(cnn)"
   ]
  },
  {
   "cell_type": "code",
   "execution_count": 8,
   "metadata": {},
   "outputs": [
    {
     "name": "stdout",
     "output_type": "stream",
     "text": [
      "----------------------------------------------------------------\n",
      "        Layer (type)               Output Shape         Param #\n",
      "================================================================\n",
      "            Conv2d-1           [-1, 64, 48, 48]           1,792\n",
      "              ReLU-2           [-1, 64, 48, 48]               0\n",
      "            Conv2d-3           [-1, 64, 48, 48]          36,928\n",
      "              ReLU-4           [-1, 64, 48, 48]               0\n",
      "         MaxPool2d-5           [-1, 64, 24, 24]               0\n",
      "            Conv2d-6          [-1, 128, 24, 24]          73,856\n",
      "              ReLU-7          [-1, 128, 24, 24]               0\n",
      "            Conv2d-8          [-1, 128, 24, 24]         147,584\n",
      "              ReLU-9          [-1, 128, 24, 24]               0\n",
      "        MaxPool2d-10          [-1, 128, 12, 12]               0\n",
      "           Conv2d-11          [-1, 256, 12, 12]         295,168\n",
      "             ReLU-12          [-1, 256, 12, 12]               0\n",
      "           Conv2d-13          [-1, 256, 12, 12]         590,080\n",
      "             ReLU-14          [-1, 256, 12, 12]               0\n",
      "           Conv2d-15          [-1, 256, 12, 12]         590,080\n",
      "             ReLU-16          [-1, 256, 12, 12]               0\n",
      "        MaxPool2d-17            [-1, 256, 6, 6]               0\n",
      "           Conv2d-18            [-1, 512, 6, 6]       1,180,160\n",
      "             ReLU-19            [-1, 512, 6, 6]               0\n",
      "           Conv2d-20            [-1, 512, 6, 6]       2,359,808\n",
      "             ReLU-21            [-1, 512, 6, 6]               0\n",
      "           Conv2d-22            [-1, 512, 6, 6]       2,359,808\n",
      "             ReLU-23            [-1, 512, 6, 6]               0\n",
      "        MaxPool2d-24            [-1, 512, 3, 3]               0\n",
      "           Conv2d-25            [-1, 512, 3, 3]       2,359,808\n",
      "             ReLU-26            [-1, 512, 3, 3]               0\n",
      "           Conv2d-27            [-1, 512, 3, 3]       2,359,808\n",
      "             ReLU-28            [-1, 512, 3, 3]               0\n",
      "           Conv2d-29            [-1, 512, 3, 3]       2,359,808\n",
      "             ReLU-30            [-1, 512, 3, 3]               0\n",
      "        MaxPool2d-31            [-1, 512, 1, 1]               0\n",
      "AdaptiveAvgPool2d-32            [-1, 512, 7, 7]               0\n",
      "           Linear-33                 [-1, 4096]     102,764,544\n",
      "             ReLU-34                 [-1, 4096]               0\n",
      "          Dropout-35                 [-1, 4096]               0\n",
      "           Linear-36                 [-1, 4096]      16,781,312\n",
      "             ReLU-37                 [-1, 4096]               0\n",
      "          Dropout-38                 [-1, 4096]               0\n",
      "           Linear-39                    [-1, 7]          28,679\n",
      "================================================================\n",
      "Total params: 134,289,223\n",
      "Trainable params: 134,289,223\n",
      "Non-trainable params: 0\n",
      "----------------------------------------------------------------\n",
      "Input size (MB): 0.03\n",
      "Forward/backward pass size (MB): 10.40\n",
      "Params size (MB): 512.27\n",
      "Estimated Total Size (MB): 522.70\n",
      "----------------------------------------------------------------\n"
     ]
    }
   ],
   "source": [
    "summary(cnn, input_size=(3, 48, 48), device=DEVICE.type)"
   ]
  },
  {
   "cell_type": "code",
   "execution_count": 9,
   "metadata": {},
   "outputs": [],
   "source": [
    "LR = 0.1\n",
    "EPOCHS = 50"
   ]
  },
  {
   "cell_type": "code",
   "execution_count": 10,
   "metadata": {},
   "outputs": [],
   "source": [
    "criterion = nn.CrossEntropyLoss()\n",
    "optimizer = optim.Adam(model.parameters(), lr=LR)"
   ]
  },
  {
   "cell_type": "code",
   "execution_count": 11,
   "metadata": {},
   "outputs": [],
   "source": [
    "def multiclass_accuracy(y_pred,y_true):\n",
    "    top_p,top_class = y_pred.topk(1,dim = 1)\n",
    "    equals = top_class == y_true.view(*top_class.shape)\n",
    "    return torch.mean(equals.type(torch.cuda.FloatTensor))"
   ]
  },
  {
   "cell_type": "code",
   "execution_count": 12,
   "metadata": {},
   "outputs": [],
   "source": [
    "def train_model(model, current_epoch, training_loader, optimizer, criterion, DEVICE):\n",
    "    \"\"\"\n",
    "    Function to train the model for one epoch.\n",
    "    \"\"\"\n",
    "    model.train()  # Set model to training mode\n",
    "    running_loss = 0.0\n",
    "    running_acc = 0.0\n",
    "    tk = tqdm(training_loader, desc=\"EPOCH\" + \"[TRAIN]\" + str(current_epoch + 1) + \"/\" + str(EPOCHS))\n",
    "    \n",
    "    for t, data in enumerate(tk):\n",
    "        # Transfer images and labels to the specified device\n",
    "        images, labels = data\n",
    "        images, labels = images.to(DEVICE), labels.to(DEVICE)\n",
    "        \n",
    "        # Prepare the data for input\n",
    "        #train = Variable(images.view(images.size(0), 1, 48, 48))\n",
    "        train = images\n",
    "        labels = Variable(labels)\n",
    "\n",
    "        # Reset gradients\n",
    "        optimizer.zero_grad()\n",
    "\n",
    "        # Forward pass\n",
    "        outputs = model(train)\n",
    "        loss = criterion(outputs, labels)\n",
    "        \n",
    "\n",
    "        # Backward pass and optimize\n",
    "        loss.backward()\n",
    "        optimizer.step()\n",
    "\n",
    "        running_loss += loss.item() # Total loss\n",
    "        running_acc += multiclass_accuracy(outputs, labels)\n",
    "\n",
    "        tk.set_postfix({'loss': '%6f' % float(running_loss / (t + 1)), 'acc': '%6f' % float(running_acc / (t + 1))})\n",
    "    \n",
    "    return running_loss / len(training_loader), running_acc / len(training_loader)"
   ]
  },
  {
   "cell_type": "code",
   "execution_count": 13,
   "metadata": {},
   "outputs": [],
   "source": [
    "def test_model(model, current_epoch, test_loader, DEVICE):\n",
    "    \"\"\"\n",
    "    Function to test the model and compute accuracy.\n",
    "    \"\"\"\n",
    "    model.eval()  # Set model to evaluation mode\n",
    "    correct = 0\n",
    "    total = 0\n",
    "    predictions_list = []\n",
    "    labels_list = []\n",
    "    running_loss = 0.0\n",
    "    running_acc = 0.0\n",
    "\n",
    "    tk = tqdm(test_loader, desc=\"EPOCH\" + \"[VALID]\" + str(current_epoch + 1) + \"/\" + str(EPOCHS))\n",
    "\n",
    "    with torch.no_grad():  # Disable gradient calculation for testing\n",
    "        for t, data in enumerate(tk):\n",
    "            images, labels = data\n",
    "            images, labels = images.to(DEVICE), labels.to(DEVICE)\n",
    "            labels_list.append(labels)\n",
    "\n",
    "            #test = images.view(images.size(0), 1, 48, 48)\n",
    "            test = images\n",
    "            \n",
    "            # Forward pass\n",
    "            outputs = model(test)\n",
    "            loss = criterion(outputs, labels)\n",
    "\n",
    "            # Get predictions\n",
    "            predictions = torch.max(outputs, 1)[1].to(DEVICE)\n",
    "            predictions_list.append(predictions)\n",
    "            correct += (predictions == labels).sum().item()\n",
    "            total += len(labels)\n",
    "\n",
    "            running_loss += loss.item()\n",
    "            running_acc += multiclass_accuracy(outputs, labels)\n",
    "            tk.set_postfix({'loss': '%6f' %float(running_loss / (t+1)), 'acc': '%6f' %float(running_acc / (t+1)), })\n",
    "\n",
    "    #accuracy = 100 * correct / total\n",
    "    return running_loss / len(test_loader), running_acc / len(test_loader), predictions_list, labels_list, \n"
   ]
  },
  {
   "cell_type": "code",
   "execution_count": 14,
   "metadata": {},
   "outputs": [],
   "source": [
    "# Reduce LR on Plateau\n",
    "# Reduces the learning rate when a monitored metric (e.g., validation loss) stops improving.\n",
    "scheduler = torch.optim.lr_scheduler.ReduceLROnPlateau(optimizer, mode='min', patience=3, factor=0.1)\n"
   ]
  },
  {
   "cell_type": "code",
   "execution_count": 15,
   "metadata": {},
   "outputs": [
    {
     "name": "stdout",
     "output_type": "stream",
     "text": [
      "Epoch 1, LR: 0.1\n",
      "\n"
     ]
    },
    {
     "name": "stderr",
     "output_type": "stream",
     "text": [
      "EPOCH[TRAIN]1/50: 100%|██████████| 226/226 [02:07<00:00,  1.77it/s, loss=49501039880713158000640.000000, acc=0.174069] \n",
      "EPOCH[VALID]1/50: 100%|██████████| 56/56 [00:56<00:00,  1.01s/it, loss=1.955518, acc=0.162185]\n"
     ]
    },
    {
     "name": "stdout",
     "output_type": "stream",
     "text": [
      "SAVED-BEST-WEIGHTS\n",
      "Epoch 2, LR: 0.1\n",
      "\n"
     ]
    },
    {
     "name": "stderr",
     "output_type": "stream",
     "text": [
      "EPOCH[TRAIN]2/50: 100%|██████████| 226/226 [02:43<00:00,  1.38it/s, loss=1.898929, acc=0.229542]\n",
      "EPOCH[VALID]2/50: 100%|██████████| 56/56 [00:28<00:00,  1.95it/s, loss=1.812568, acc=0.256793]\n"
     ]
    },
    {
     "name": "stdout",
     "output_type": "stream",
     "text": [
      "SAVED-BEST-WEIGHTS\n",
      "Epoch 3, LR: 0.1\n",
      "\n"
     ]
    },
    {
     "name": "stderr",
     "output_type": "stream",
     "text": [
      "EPOCH[TRAIN]3/50: 100%|██████████| 226/226 [02:49<00:00,  1.33it/s, loss=1.813019, acc=0.249058]\n",
      "EPOCH[VALID]3/50: 100%|██████████| 56/56 [00:26<00:00,  2.15it/s, loss=1.818781, acc=0.256246]\n"
     ]
    },
    {
     "name": "stdout",
     "output_type": "stream",
     "text": [
      "No improvement in validation loss for 1 epoch(s).\n",
      "Epoch 4, LR: 0.1\n",
      "\n"
     ]
    },
    {
     "name": "stderr",
     "output_type": "stream",
     "text": [
      "EPOCH[TRAIN]4/50: 100%|██████████| 226/226 [02:35<00:00,  1.45it/s, loss=1.813312, acc=0.248882]\n",
      "EPOCH[VALID]4/50: 100%|██████████| 56/56 [00:23<00:00,  2.38it/s, loss=1.810146, acc=0.257888]\n"
     ]
    },
    {
     "name": "stdout",
     "output_type": "stream",
     "text": [
      "SAVED-BEST-WEIGHTS\n",
      "Epoch 5, LR: 0.1\n",
      "\n"
     ]
    },
    {
     "name": "stderr",
     "output_type": "stream",
     "text": [
      "EPOCH[TRAIN]5/50: 100%|██████████| 226/226 [02:34<00:00,  1.46it/s, loss=1.813641, acc=0.248882]\n",
      "EPOCH[VALID]5/50: 100%|██████████| 56/56 [00:26<00:00,  2.12it/s, loss=1.810511, acc=0.258435]\n"
     ]
    },
    {
     "name": "stdout",
     "output_type": "stream",
     "text": [
      "No improvement in validation loss for 1 epoch(s).\n",
      "Epoch 6, LR: 0.1\n",
      "\n"
     ]
    },
    {
     "name": "stderr",
     "output_type": "stream",
     "text": [
      "EPOCH[TRAIN]6/50: 100%|██████████| 226/226 [02:37<00:00,  1.43it/s, loss=1.814098, acc=0.248178]\n",
      "EPOCH[VALID]6/50: 100%|██████████| 56/56 [00:24<00:00,  2.32it/s, loss=1.813936, acc=0.257888]\n"
     ]
    },
    {
     "name": "stdout",
     "output_type": "stream",
     "text": [
      "No improvement in validation loss for 2 epoch(s).\n",
      "Epoch 7, LR: 0.1\n",
      "\n"
     ]
    },
    {
     "name": "stderr",
     "output_type": "stream",
     "text": [
      "EPOCH[TRAIN]7/50: 100%|██████████| 226/226 [02:39<00:00,  1.42it/s, loss=1.814431, acc=0.248882]\n",
      "EPOCH[VALID]7/50: 100%|██████████| 56/56 [00:23<00:00,  2.42it/s, loss=1.816378, acc=0.256246]\n"
     ]
    },
    {
     "name": "stdout",
     "output_type": "stream",
     "text": [
      "No improvement in validation loss for 3 epoch(s).\n",
      "Epoch 8, LR: 0.1\n",
      "\n"
     ]
    },
    {
     "name": "stderr",
     "output_type": "stream",
     "text": [
      "EPOCH[TRAIN]8/50: 100%|██████████| 226/226 [02:28<00:00,  1.52it/s, loss=1.815468, acc=0.248530]\n",
      "EPOCH[VALID]8/50: 100%|██████████| 56/56 [00:25<00:00,  2.23it/s, loss=1.812676, acc=0.255698]\n"
     ]
    },
    {
     "name": "stdout",
     "output_type": "stream",
     "text": [
      "No improvement in validation loss for 4 epoch(s).\n",
      "Epoch 9, LR: 0.010000000000000002\n",
      "\n"
     ]
    },
    {
     "name": "stderr",
     "output_type": "stream",
     "text": [
      "EPOCH[TRAIN]9/50: 100%|██████████| 226/226 [02:36<00:00,  1.45it/s, loss=1.811326, acc=0.248706]\n",
      "EPOCH[VALID]9/50: 100%|██████████| 56/56 [00:25<00:00,  2.21it/s, loss=1.810231, acc=0.258982]\n"
     ]
    },
    {
     "name": "stdout",
     "output_type": "stream",
     "text": [
      "No improvement in validation loss for 5 epoch(s).\n",
      "Epoch 10, LR: 0.010000000000000002\n",
      "\n"
     ]
    },
    {
     "name": "stderr",
     "output_type": "stream",
     "text": [
      "EPOCH[TRAIN]10/50: 100%|██████████| 226/226 [02:24<00:00,  1.57it/s, loss=1.810885, acc=0.248882]\n",
      "EPOCH[VALID]10/50: 100%|██████████| 56/56 [00:24<00:00,  2.32it/s, loss=1.809681, acc=0.257340]\n"
     ]
    },
    {
     "name": "stdout",
     "output_type": "stream",
     "text": [
      "SAVED-BEST-WEIGHTS\n",
      "Epoch 11, LR: 0.010000000000000002\n",
      "\n"
     ]
    },
    {
     "name": "stderr",
     "output_type": "stream",
     "text": [
      "EPOCH[TRAIN]11/50: 100%|██████████| 226/226 [02:22<00:00,  1.59it/s, loss=1.811854, acc=0.247825]\n",
      "EPOCH[VALID]11/50: 100%|██████████| 56/56 [00:25<00:00,  2.22it/s, loss=1.808793, acc=0.256793]\n"
     ]
    },
    {
     "name": "stdout",
     "output_type": "stream",
     "text": [
      "SAVED-BEST-WEIGHTS\n",
      "Epoch 12, LR: 0.010000000000000002\n",
      "\n"
     ]
    },
    {
     "name": "stderr",
     "output_type": "stream",
     "text": [
      "EPOCH[TRAIN]12/50: 100%|██████████| 226/226 [02:25<00:00,  1.55it/s, loss=1.811094, acc=0.248354]\n",
      "EPOCH[VALID]12/50: 100%|██████████| 56/56 [00:22<00:00,  2.49it/s, loss=1.810014, acc=0.257888]\n"
     ]
    },
    {
     "name": "stdout",
     "output_type": "stream",
     "text": [
      "No improvement in validation loss for 1 epoch(s).\n",
      "Epoch 13, LR: 0.010000000000000002\n",
      "\n"
     ]
    },
    {
     "name": "stderr",
     "output_type": "stream",
     "text": [
      "EPOCH[TRAIN]13/50: 100%|██████████| 226/226 [02:16<00:00,  1.66it/s, loss=77821220345658.562500, acc=0.248530] \n",
      "EPOCH[VALID]13/50: 100%|██████████| 56/56 [00:20<00:00,  2.76it/s, loss=1.811791, acc=0.256793]\n"
     ]
    },
    {
     "name": "stdout",
     "output_type": "stream",
     "text": [
      "No improvement in validation loss for 2 epoch(s).\n",
      "Epoch 14, LR: 0.010000000000000002\n",
      "\n"
     ]
    },
    {
     "name": "stderr",
     "output_type": "stream",
     "text": [
      "EPOCH[TRAIN]14/50: 100%|██████████| 226/226 [02:17<00:00,  1.64it/s, loss=1.811120, acc=0.248354]\n",
      "EPOCH[VALID]14/50: 100%|██████████| 56/56 [00:21<00:00,  2.59it/s, loss=1.809474, acc=0.257888]\n"
     ]
    },
    {
     "name": "stdout",
     "output_type": "stream",
     "text": [
      "No improvement in validation loss for 3 epoch(s).\n",
      "Epoch 15, LR: 0.010000000000000002\n",
      "\n"
     ]
    },
    {
     "name": "stderr",
     "output_type": "stream",
     "text": [
      "EPOCH[TRAIN]15/50: 100%|██████████| 226/226 [02:14<00:00,  1.68it/s, loss=1.810928, acc=0.248706]\n",
      "EPOCH[VALID]15/50: 100%|██████████| 56/56 [00:14<00:00,  3.98it/s, loss=1.808968, acc=0.257888]\n"
     ]
    },
    {
     "name": "stdout",
     "output_type": "stream",
     "text": [
      "No improvement in validation loss for 4 epoch(s).\n",
      "Epoch 16, LR: 0.0010000000000000002\n",
      "\n"
     ]
    },
    {
     "name": "stderr",
     "output_type": "stream",
     "text": [
      "EPOCH[TRAIN]16/50: 100%|██████████| 226/226 [01:54<00:00,  1.98it/s, loss=1.810585, acc=0.248706]\n",
      "EPOCH[VALID]16/50: 100%|██████████| 56/56 [00:27<00:00,  2.01it/s, loss=1.807524, acc=0.258982]\n"
     ]
    },
    {
     "name": "stdout",
     "output_type": "stream",
     "text": [
      "SAVED-BEST-WEIGHTS\n",
      "Epoch 17, LR: 0.0010000000000000002\n",
      "\n"
     ]
    },
    {
     "name": "stderr",
     "output_type": "stream",
     "text": [
      "EPOCH[TRAIN]17/50: 100%|██████████| 226/226 [01:50<00:00,  2.04it/s, loss=1.810838, acc=0.248354]\n",
      "EPOCH[VALID]17/50: 100%|██████████| 56/56 [00:16<00:00,  3.46it/s, loss=1.808946, acc=0.258982]\n"
     ]
    },
    {
     "name": "stdout",
     "output_type": "stream",
     "text": [
      "No improvement in validation loss for 1 epoch(s).\n",
      "Epoch 18, LR: 0.0010000000000000002\n",
      "\n"
     ]
    },
    {
     "name": "stderr",
     "output_type": "stream",
     "text": [
      "EPOCH[TRAIN]18/50: 100%|██████████| 226/226 [01:33<00:00,  2.43it/s, loss=1.810784, acc=0.248002]\n",
      "EPOCH[VALID]18/50: 100%|██████████| 56/56 [00:13<00:00,  4.08it/s, loss=1.808554, acc=0.259530]\n"
     ]
    },
    {
     "name": "stdout",
     "output_type": "stream",
     "text": [
      "No improvement in validation loss for 2 epoch(s).\n",
      "Epoch 19, LR: 0.0010000000000000002\n",
      "\n"
     ]
    },
    {
     "name": "stderr",
     "output_type": "stream",
     "text": [
      "EPOCH[TRAIN]19/50: 100%|██████████| 226/226 [02:15<00:00,  1.67it/s, loss=1.810490, acc=0.248530]\n",
      "EPOCH[VALID]19/50: 100%|██████████| 56/56 [00:24<00:00,  2.26it/s, loss=1.808189, acc=0.257888]\n"
     ]
    },
    {
     "name": "stdout",
     "output_type": "stream",
     "text": [
      "No improvement in validation loss for 3 epoch(s).\n",
      "Epoch 20, LR: 0.0010000000000000002\n",
      "\n"
     ]
    },
    {
     "name": "stderr",
     "output_type": "stream",
     "text": [
      "EPOCH[TRAIN]20/50: 100%|██████████| 226/226 [02:29<00:00,  1.51it/s, loss=1.810440, acc=0.248882]\n",
      "EPOCH[VALID]20/50: 100%|██████████| 56/56 [00:13<00:00,  4.09it/s, loss=1.808269, acc=0.257888]\n"
     ]
    },
    {
     "name": "stdout",
     "output_type": "stream",
     "text": [
      "No improvement in validation loss for 4 epoch(s).\n",
      "Epoch 21, LR: 0.00010000000000000003\n",
      "\n"
     ]
    },
    {
     "name": "stderr",
     "output_type": "stream",
     "text": [
      "EPOCH[TRAIN]21/50: 100%|██████████| 226/226 [01:26<00:00,  2.61it/s, loss=1.810707, acc=0.248178]\n",
      "EPOCH[VALID]21/50: 100%|██████████| 56/56 [00:12<00:00,  4.38it/s, loss=1.808472, acc=0.258435]\n"
     ]
    },
    {
     "name": "stdout",
     "output_type": "stream",
     "text": [
      "No improvement in validation loss for 5 epoch(s).\n",
      "Epoch 22, LR: 0.00010000000000000003\n",
      "\n"
     ]
    },
    {
     "name": "stderr",
     "output_type": "stream",
     "text": [
      "EPOCH[TRAIN]22/50: 100%|██████████| 226/226 [01:19<00:00,  2.84it/s, loss=1.810466, acc=0.248706]\n",
      "EPOCH[VALID]22/50: 100%|██████████| 56/56 [00:14<00:00,  3.78it/s, loss=1.808418, acc=0.258982]"
     ]
    },
    {
     "name": "stdout",
     "output_type": "stream",
     "text": [
      "No improvement in validation loss for 6 epoch(s).\n",
      "Patience exceeded. Early stopping at epoch 22\n",
      "Early stopping triggered. Stopping training.\n"
     ]
    },
    {
     "name": "stderr",
     "output_type": "stream",
     "text": [
      "\n"
     ]
    }
   ],
   "source": [
    "# Main training loop\n",
    "\n",
    "# Dictionary to store loss values over epochs\n",
    "metrics_loss = {\n",
    "    'training_loss': [],\n",
    "    'validation_loss': []\n",
    "}\n",
    "# Dictionary to store accuracy values over epochs\n",
    "metrics_accuracy = {\n",
    "    'training_accuracy': [],\n",
    "    'validation_accuracy': []\n",
    "}\n",
    "\n",
    "iteration_list = []\n",
    "count = 0\n",
    "best_valid_loss = np.inf\n",
    "patience_counter = 0   # Tracks the number of epochs without improvement\n",
    "early_stop = False # Flag to indicate whether to stop training\n",
    "patience = 6\n",
    "\n",
    "for current_epoch in range(EPOCHS):\n",
    "    if early_stop:\n",
    "        print(\"Early stopping triggered. Stopping training.\")\n",
    "        break\n",
    "    print(f\"Epoch {current_epoch + 1}, LR: {scheduler.optimizer.param_groups[0]['lr']}\")\n",
    "    print(\"\")\n",
    "    \n",
    "    # Training step\n",
    "    train_loss, train_accuracy = train_model(cnn, current_epoch, training_loader, optimizer, criterion, DEVICE)\n",
    "    \n",
    "    # Increment count for iterations\n",
    "    count += len(training_loader)\n",
    "\n",
    "    valid_loss, valid_accuracy, predictions_list, labels_list,  = test_model(cnn, current_epoch, test_loader, DEVICE)\n",
    "\n",
    "    # Record metrics\n",
    "    metrics_loss['training_loss'].append(train_loss)\n",
    "    metrics_loss['validation_loss'].append(valid_loss)\n",
    "\n",
    "    metrics_accuracy['training_accuracy'].append(train_accuracy)\n",
    "    metrics_accuracy['validation_accuracy'].append(valid_accuracy)\n",
    "\n",
    "    iteration_list.append(count)\n",
    "\n",
    "    # Update the learning rate based on validation loss and print\n",
    "    scheduler.step(valid_loss)\n",
    "    \n",
    "\n",
    "    if valid_loss < best_valid_loss:\n",
    "        torch.save(cnn.state_dict(), 'best_weights_vgg_ADAM.pt')\n",
    "        print(\"SAVED-BEST-WEIGHTS\")\n",
    "        best_valid_loss = valid_loss\n",
    "        patience_counter = 0 # Reset early stopping\n",
    "    else:\n",
    "        patience_counter += 1\n",
    "        print(f\"No improvement in validation loss for {patience_counter} epoch(s).\")\n",
    "\n",
    "    if patience_counter >= patience:\n",
    "        print(\"Patience exceeded. Early stopping at epoch \" +str(current_epoch + 1))\n",
    "        early_stop = True\n"
   ]
  },
  {
   "cell_type": "code",
   "execution_count": 16,
   "metadata": {},
   "outputs": [],
   "source": [
    "import importlib\n",
    "import visualization_plots"
   ]
  },
  {
   "cell_type": "code",
   "execution_count": 17,
   "metadata": {},
   "outputs": [
    {
     "data": {
      "text/plain": [
       "<module 'visualization_plots' from 'c:\\\\Python_Codes\\\\cpe520\\\\visualization_plots.py'>"
      ]
     },
     "execution_count": 17,
     "metadata": {},
     "output_type": "execute_result"
    }
   ],
   "source": [
    "importlib.reload(visualization_plots)"
   ]
  },
  {
   "cell_type": "markdown",
   "metadata": {},
   "source": [
    "### SGD Optimizer"
   ]
  },
  {
   "cell_type": "markdown",
   "metadata": {},
   "source": [
    "#### ROC Curve"
   ]
  },
  {
   "cell_type": "markdown",
   "metadata": {},
   "source": [
    "#### Plot of Accuracy over epochs"
   ]
  },
  {
   "cell_type": "code",
   "execution_count": 18,
   "metadata": {},
   "outputs": [
    {
     "data": {
      "image/png": "[encoded data removed]",
      "text/plain": [
       "<Figure size 600x400 with 1 Axes>"
      ]
     },
     "metadata": {},
     "output_type": "display_data"
    }
   ],
   "source": [
    "visualization_plots.plot_accuracy(metrics_accuracy, model_extra_desc=\"VGG with Adam and LR from 0.1\")"
   ]
  },
  {
   "cell_type": "markdown",
   "metadata": {},
   "source": [
    "#### Plot of Loss over epochs"
   ]
  },
  {
   "cell_type": "code",
   "execution_count": 19,
   "metadata": {},
   "outputs": [
    {
     "data": {
      "image/png": "[encoded data removed]",
      "text/plain": [
       "<Figure size 600x400 with 1 Axes>"
      ]
     },
     "metadata": {},
     "output_type": "display_data"
    }
   ],
   "source": [
    "visualization_plots.plot_loss(metrics_loss, model_extra_desc=\"VGG with Adam and LR from 0.1\")"
   ]
  },
  {
   "cell_type": "markdown",
   "metadata": {},
   "source": [
    "#### Looking at the Accuracy in each class of dataset"
   ]
  },
  {
   "cell_type": "code",
   "execution_count": 20,
   "metadata": {},
   "outputs": [
    {
     "data": {
      "text/plain": [
       "{0: 'angry',\n",
       " 1: 'disgust',\n",
       " 2: 'fear',\n",
       " 3: 'happy',\n",
       " 4: 'neutral',\n",
       " 5: 'sad',\n",
       " 6: 'surprise'}"
      ]
     },
     "execution_count": 20,
     "metadata": {},
     "output_type": "execute_result"
    }
   ],
   "source": [
    "label_classes = training_set.class_to_idx\n",
    "# Switch keys and values\n",
    "label_classes = {value: key for key, value in label_classes.items()}\n",
    "label_classes"
   ]
  },
  {
   "cell_type": "code",
   "execution_count": 21,
   "metadata": {},
   "outputs": [
    {
     "name": "stdout",
     "output_type": "stream",
     "text": [
      "Accuracy of angry: 0.000%\n",
      "Accuracy of disgust: 0.000%\n",
      "Accuracy of fear: 0.000%\n",
      "Accuracy of happy: 100.000%\n",
      "Accuracy of neutral: 0.000%\n",
      "Accuracy of sad: 0.000%\n",
      "Accuracy of surprise: 0.000%\n"
     ]
    }
   ],
   "source": [
    "class_correct = [0. for _ in range(num_classes)]\n",
    "total_correct = [0. for _ in range(num_classes)]\n",
    "\n",
    "with torch.no_grad():\n",
    "    for images, labels in test_loader:\n",
    "        images, labels = images.to(DEVICE), labels.to(DEVICE)\n",
    "        test = images\n",
    "        outputs = cnn(test)\n",
    "        predicted = torch.max(outputs, 1)[1]\n",
    "        c = (predicted == labels).squeeze()\n",
    "        \n",
    "        for i in range(len(labels)):\n",
    "            label = labels[i]\n",
    "            class_correct[label] += c[i].item()\n",
    "            total_correct[label] += 1\n",
    "        \n",
    "for i in range(num_classes):\n",
    "    if total_correct[i] > 0:  # Avoid division by zero\n",
    "        accuracy = class_correct[i] * 100 / total_correct[i]\n",
    "        print(f\"Accuracy of {label_classes[i]}: {accuracy:.3f}%\")\n",
    "    else:\n",
    "        print(f\"Accuracy of {label_classes[i]}: No samples\")"
   ]
  },
  {
   "cell_type": "markdown",
   "metadata": {},
   "source": [
    "#### Multipicture prediction plot"
   ]
  }
 ],
 "metadata": {
  "kernelspec": {
   "display_name": "cpe520",
   "language": "python",
   "name": "python3"
  },
  "language_info": {
   "codemirror_mode": {
    "name": "ipython",
    "version": 3
   },
   "file_extension": ".py",
   "mimetype": "text/x-python",
   "name": "python",
   "nbconvert_exporter": "python",
   "pygments_lexer": "ipython3",
   "version": "3.9.20"
  }
 },
 "nbformat": 4,
 "nbformat_minor": 2
}
