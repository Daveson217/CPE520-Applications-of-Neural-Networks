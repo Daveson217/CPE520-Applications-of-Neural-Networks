{
 "cells": [
  {
   "cell_type": "markdown",
   "metadata": {},
   "source": [
    "### Importing the Libraries"
   ]
  },
  {
   "cell_type": "code",
   "execution_count": 1,
   "metadata": {},
   "outputs": [],
   "source": [
    "import torch\n",
    "from torch.autograd import Variable\n",
    "import torch.nn as nn\n",
    "import torch.nn.functional as F\n",
    "import torch.optim as optim\n",
    "from torchsummary import summary\n",
    "import torchvision.transforms as T\n",
    "from torchvision import models\n",
    "from torchvision import datasets\n",
    "from torch.utils.data import DataLoader\n",
    "from tqdm import tqdm\n",
    "import numpy as np\n",
    "import matplotlib.pyplot as plt"
   ]
  },
  {
   "cell_type": "code",
   "execution_count": 2,
   "metadata": {},
   "outputs": [
    {
     "data": {
      "text/plain": [
       "device(type='cuda')"
      ]
     },
     "execution_count": 2,
     "metadata": {},
     "output_type": "execute_result"
    }
   ],
   "source": [
    "BATCH_SIZE = 128\n",
    "DEVICE = torch.device('cuda' if torch.cuda.is_available() else 'cpu')\n",
    "#DEVICE = 'cpu'\n",
    "DEVICE"
   ]
  },
  {
   "cell_type": "code",
   "execution_count": 3,
   "metadata": {},
   "outputs": [],
   "source": [
    "# Images are already in 48 X 48, so no need to resize\n",
    "training_augs = T.Compose([\n",
    "    T.Grayscale(num_output_channels=3),\n",
    "    T.Resize((48, 48)),\n",
    "    T.ToTensor(),\n",
    "    T.Normalize(mean=[0.5, 0.5, 0.5], std=[0.5, 0.5, 0.5]),  # Normalize with mean=0.5 and std=0.5 (adjust for specific needs)\n",
    "    T.RandomHorizontalFlip(),\n",
    "    T.RandomAffine(degrees=0, shear=0.2, scale=(0.8, 1.2))\n",
    "])\n",
    "\n",
    "\n",
    "training_set = datasets.ImageFolder(root='jonathan_oheix/train', transform=training_augs)\n",
    "\n",
    "training_loader = DataLoader(training_set, batch_size=BATCH_SIZE, shuffle=True)"
   ]
  },
  {
   "cell_type": "code",
   "execution_count": 4,
   "metadata": {},
   "outputs": [],
   "source": [
    "valid_augs = T.Compose([\n",
    "    T.Grayscale(num_output_channels=3),\n",
    "    T.ToTensor(),\n",
    "    T.Normalize(mean=[0.5, 0.5, 0.5], std=[0.5, 0.5, 0.5])\n",
    "])\n",
    "\n",
    "test_set = datasets.ImageFolder(root='jonathan_oheix/validation', transform=valid_augs)\n",
    "test_loader = DataLoader(test_set, batch_size=BATCH_SIZE, shuffle=True)"
   ]
  },
  {
   "cell_type": "code",
   "execution_count": 5,
   "metadata": {},
   "outputs": [
    {
     "name": "stdout",
     "output_type": "stream",
     "text": [
      "{'angry': 0, 'disgust': 1, 'fear': 2, 'happy': 3, 'neutral': 4, 'sad': 5, 'surprise': 6}\n"
     ]
    }
   ],
   "source": [
    "print(training_set.class_to_idx)"
   ]
  },
  {
   "cell_type": "code",
   "execution_count": 6,
   "metadata": {},
   "outputs": [],
   "source": [
    "num_classes = len(training_set.classes)  # Number of emotion labels\n",
    "\n",
    "# Load pretrained ResNet-50\n",
    "model = models.resnet50(weights=models.ResNet50_Weights.DEFAULT)\n",
    "\n",
    "# Replace the last fully connected layer\n",
    "model.fc = nn.Linear(model.fc.in_features, num_classes)\n",
    "\n",
    "# Send the model to GPU if available\n",
    "cnn = model.to(DEVICE)\n"
   ]
  },
  {
   "cell_type": "code",
   "execution_count": 7,
   "metadata": {},
   "outputs": [
    {
     "name": "stdout",
     "output_type": "stream",
     "text": [
      "ResNet(\n",
      "  (conv1): Conv2d(3, 64, kernel_size=(7, 7), stride=(2, 2), padding=(3, 3), bias=False)\n",
      "  (bn1): BatchNorm2d(64, eps=1e-05, momentum=0.1, affine=True, track_running_stats=True)\n",
      "  (relu): ReLU(inplace=True)\n",
      "  (maxpool): MaxPool2d(kernel_size=3, stride=2, padding=1, dilation=1, ceil_mode=False)\n",
      "  (layer1): Sequential(\n",
      "    (0): Bottleneck(\n",
      "      (conv1): Conv2d(64, 64, kernel_size=(1, 1), stride=(1, 1), bias=False)\n",
      "      (bn1): BatchNorm2d(64, eps=1e-05, momentum=0.1, affine=True, track_running_stats=True)\n",
      "      (conv2): Conv2d(64, 64, kernel_size=(3, 3), stride=(1, 1), padding=(1, 1), bias=False)\n",
      "      (bn2): BatchNorm2d(64, eps=1e-05, momentum=0.1, affine=True, track_running_stats=True)\n",
      "      (conv3): Conv2d(64, 256, kernel_size=(1, 1), stride=(1, 1), bias=False)\n",
      "      (bn3): BatchNorm2d(256, eps=1e-05, momentum=0.1, affine=True, track_running_stats=True)\n",
      "      (relu): ReLU(inplace=True)\n",
      "      (downsample): Sequential(\n",
      "        (0): Conv2d(64, 256, kernel_size=(1, 1), stride=(1, 1), bias=False)\n",
      "        (1): BatchNorm2d(256, eps=1e-05, momentum=0.1, affine=True, track_running_stats=True)\n",
      "      )\n",
      "    )\n",
      "    (1): Bottleneck(\n",
      "      (conv1): Conv2d(256, 64, kernel_size=(1, 1), stride=(1, 1), bias=False)\n",
      "      (bn1): BatchNorm2d(64, eps=1e-05, momentum=0.1, affine=True, track_running_stats=True)\n",
      "      (conv2): Conv2d(64, 64, kernel_size=(3, 3), stride=(1, 1), padding=(1, 1), bias=False)\n",
      "      (bn2): BatchNorm2d(64, eps=1e-05, momentum=0.1, affine=True, track_running_stats=True)\n",
      "      (conv3): Conv2d(64, 256, kernel_size=(1, 1), stride=(1, 1), bias=False)\n",
      "      (bn3): BatchNorm2d(256, eps=1e-05, momentum=0.1, affine=True, track_running_stats=True)\n",
      "      (relu): ReLU(inplace=True)\n",
      "    )\n",
      "    (2): Bottleneck(\n",
      "      (conv1): Conv2d(256, 64, kernel_size=(1, 1), stride=(1, 1), bias=False)\n",
      "      (bn1): BatchNorm2d(64, eps=1e-05, momentum=0.1, affine=True, track_running_stats=True)\n",
      "      (conv2): Conv2d(64, 64, kernel_size=(3, 3), stride=(1, 1), padding=(1, 1), bias=False)\n",
      "      (bn2): BatchNorm2d(64, eps=1e-05, momentum=0.1, affine=True, track_running_stats=True)\n",
      "      (conv3): Conv2d(64, 256, kernel_size=(1, 1), stride=(1, 1), bias=False)\n",
      "      (bn3): BatchNorm2d(256, eps=1e-05, momentum=0.1, affine=True, track_running_stats=True)\n",
      "      (relu): ReLU(inplace=True)\n",
      "    )\n",
      "  )\n",
      "  (layer2): Sequential(\n",
      "    (0): Bottleneck(\n",
      "      (conv1): Conv2d(256, 128, kernel_size=(1, 1), stride=(1, 1), bias=False)\n",
      "      (bn1): BatchNorm2d(128, eps=1e-05, momentum=0.1, affine=True, track_running_stats=True)\n",
      "      (conv2): Conv2d(128, 128, kernel_size=(3, 3), stride=(2, 2), padding=(1, 1), bias=False)\n",
      "      (bn2): BatchNorm2d(128, eps=1e-05, momentum=0.1, affine=True, track_running_stats=True)\n",
      "      (conv3): Conv2d(128, 512, kernel_size=(1, 1), stride=(1, 1), bias=False)\n",
      "      (bn3): BatchNorm2d(512, eps=1e-05, momentum=0.1, affine=True, track_running_stats=True)\n",
      "      (relu): ReLU(inplace=True)\n",
      "      (downsample): Sequential(\n",
      "        (0): Conv2d(256, 512, kernel_size=(1, 1), stride=(2, 2), bias=False)\n",
      "        (1): BatchNorm2d(512, eps=1e-05, momentum=0.1, affine=True, track_running_stats=True)\n",
      "      )\n",
      "    )\n",
      "    (1): Bottleneck(\n",
      "      (conv1): Conv2d(512, 128, kernel_size=(1, 1), stride=(1, 1), bias=False)\n",
      "      (bn1): BatchNorm2d(128, eps=1e-05, momentum=0.1, affine=True, track_running_stats=True)\n",
      "      (conv2): Conv2d(128, 128, kernel_size=(3, 3), stride=(1, 1), padding=(1, 1), bias=False)\n",
      "      (bn2): BatchNorm2d(128, eps=1e-05, momentum=0.1, affine=True, track_running_stats=True)\n",
      "      (conv3): Conv2d(128, 512, kernel_size=(1, 1), stride=(1, 1), bias=False)\n",
      "      (bn3): BatchNorm2d(512, eps=1e-05, momentum=0.1, affine=True, track_running_stats=True)\n",
      "      (relu): ReLU(inplace=True)\n",
      "    )\n",
      "    (2): Bottleneck(\n",
      "      (conv1): Conv2d(512, 128, kernel_size=(1, 1), stride=(1, 1), bias=False)\n",
      "      (bn1): BatchNorm2d(128, eps=1e-05, momentum=0.1, affine=True, track_running_stats=True)\n",
      "      (conv2): Conv2d(128, 128, kernel_size=(3, 3), stride=(1, 1), padding=(1, 1), bias=False)\n",
      "      (bn2): BatchNorm2d(128, eps=1e-05, momentum=0.1, affine=True, track_running_stats=True)\n",
      "      (conv3): Conv2d(128, 512, kernel_size=(1, 1), stride=(1, 1), bias=False)\n",
      "      (bn3): BatchNorm2d(512, eps=1e-05, momentum=0.1, affine=True, track_running_stats=True)\n",
      "      (relu): ReLU(inplace=True)\n",
      "    )\n",
      "    (3): Bottleneck(\n",
      "      (conv1): Conv2d(512, 128, kernel_size=(1, 1), stride=(1, 1), bias=False)\n",
      "      (bn1): BatchNorm2d(128, eps=1e-05, momentum=0.1, affine=True, track_running_stats=True)\n",
      "      (conv2): Conv2d(128, 128, kernel_size=(3, 3), stride=(1, 1), padding=(1, 1), bias=False)\n",
      "      (bn2): BatchNorm2d(128, eps=1e-05, momentum=0.1, affine=True, track_running_stats=True)\n",
      "      (conv3): Conv2d(128, 512, kernel_size=(1, 1), stride=(1, 1), bias=False)\n",
      "      (bn3): BatchNorm2d(512, eps=1e-05, momentum=0.1, affine=True, track_running_stats=True)\n",
      "      (relu): ReLU(inplace=True)\n",
      "    )\n",
      "  )\n",
      "  (layer3): Sequential(\n",
      "    (0): Bottleneck(\n",
      "      (conv1): Conv2d(512, 256, kernel_size=(1, 1), stride=(1, 1), bias=False)\n",
      "      (bn1): BatchNorm2d(256, eps=1e-05, momentum=0.1, affine=True, track_running_stats=True)\n",
      "      (conv2): Conv2d(256, 256, kernel_size=(3, 3), stride=(2, 2), padding=(1, 1), bias=False)\n",
      "      (bn2): BatchNorm2d(256, eps=1e-05, momentum=0.1, affine=True, track_running_stats=True)\n",
      "      (conv3): Conv2d(256, 1024, kernel_size=(1, 1), stride=(1, 1), bias=False)\n",
      "      (bn3): BatchNorm2d(1024, eps=1e-05, momentum=0.1, affine=True, track_running_stats=True)\n",
      "      (relu): ReLU(inplace=True)\n",
      "      (downsample): Sequential(\n",
      "        (0): Conv2d(512, 1024, kernel_size=(1, 1), stride=(2, 2), bias=False)\n",
      "        (1): BatchNorm2d(1024, eps=1e-05, momentum=0.1, affine=True, track_running_stats=True)\n",
      "      )\n",
      "    )\n",
      "    (1): Bottleneck(\n",
      "      (conv1): Conv2d(1024, 256, kernel_size=(1, 1), stride=(1, 1), bias=False)\n",
      "      (bn1): BatchNorm2d(256, eps=1e-05, momentum=0.1, affine=True, track_running_stats=True)\n",
      "      (conv2): Conv2d(256, 256, kernel_size=(3, 3), stride=(1, 1), padding=(1, 1), bias=False)\n",
      "      (bn2): BatchNorm2d(256, eps=1e-05, momentum=0.1, affine=True, track_running_stats=True)\n",
      "      (conv3): Conv2d(256, 1024, kernel_size=(1, 1), stride=(1, 1), bias=False)\n",
      "      (bn3): BatchNorm2d(1024, eps=1e-05, momentum=0.1, affine=True, track_running_stats=True)\n",
      "      (relu): ReLU(inplace=True)\n",
      "    )\n",
      "    (2): Bottleneck(\n",
      "      (conv1): Conv2d(1024, 256, kernel_size=(1, 1), stride=(1, 1), bias=False)\n",
      "      (bn1): BatchNorm2d(256, eps=1e-05, momentum=0.1, affine=True, track_running_stats=True)\n",
      "      (conv2): Conv2d(256, 256, kernel_size=(3, 3), stride=(1, 1), padding=(1, 1), bias=False)\n",
      "      (bn2): BatchNorm2d(256, eps=1e-05, momentum=0.1, affine=True, track_running_stats=True)\n",
      "      (conv3): Conv2d(256, 1024, kernel_size=(1, 1), stride=(1, 1), bias=False)\n",
      "      (bn3): BatchNorm2d(1024, eps=1e-05, momentum=0.1, affine=True, track_running_stats=True)\n",
      "      (relu): ReLU(inplace=True)\n",
      "    )\n",
      "    (3): Bottleneck(\n",
      "      (conv1): Conv2d(1024, 256, kernel_size=(1, 1), stride=(1, 1), bias=False)\n",
      "      (bn1): BatchNorm2d(256, eps=1e-05, momentum=0.1, affine=True, track_running_stats=True)\n",
      "      (conv2): Conv2d(256, 256, kernel_size=(3, 3), stride=(1, 1), padding=(1, 1), bias=False)\n",
      "      (bn2): BatchNorm2d(256, eps=1e-05, momentum=0.1, affine=True, track_running_stats=True)\n",
      "      (conv3): Conv2d(256, 1024, kernel_size=(1, 1), stride=(1, 1), bias=False)\n",
      "      (bn3): BatchNorm2d(1024, eps=1e-05, momentum=0.1, affine=True, track_running_stats=True)\n",
      "      (relu): ReLU(inplace=True)\n",
      "    )\n",
      "    (4): Bottleneck(\n",
      "      (conv1): Conv2d(1024, 256, kernel_size=(1, 1), stride=(1, 1), bias=False)\n",
      "      (bn1): BatchNorm2d(256, eps=1e-05, momentum=0.1, affine=True, track_running_stats=True)\n",
      "      (conv2): Conv2d(256, 256, kernel_size=(3, 3), stride=(1, 1), padding=(1, 1), bias=False)\n",
      "      (bn2): BatchNorm2d(256, eps=1e-05, momentum=0.1, affine=True, track_running_stats=True)\n",
      "      (conv3): Conv2d(256, 1024, kernel_size=(1, 1), stride=(1, 1), bias=False)\n",
      "      (bn3): BatchNorm2d(1024, eps=1e-05, momentum=0.1, affine=True, track_running_stats=True)\n",
      "      (relu): ReLU(inplace=True)\n",
      "    )\n",
      "    (5): Bottleneck(\n",
      "      (conv1): Conv2d(1024, 256, kernel_size=(1, 1), stride=(1, 1), bias=False)\n",
      "      (bn1): BatchNorm2d(256, eps=1e-05, momentum=0.1, affine=True, track_running_stats=True)\n",
      "      (conv2): Conv2d(256, 256, kernel_size=(3, 3), stride=(1, 1), padding=(1, 1), bias=False)\n",
      "      (bn2): BatchNorm2d(256, eps=1e-05, momentum=0.1, affine=True, track_running_stats=True)\n",
      "      (conv3): Conv2d(256, 1024, kernel_size=(1, 1), stride=(1, 1), bias=False)\n",
      "      (bn3): BatchNorm2d(1024, eps=1e-05, momentum=0.1, affine=True, track_running_stats=True)\n",
      "      (relu): ReLU(inplace=True)\n",
      "    )\n",
      "  )\n",
      "  (layer4): Sequential(\n",
      "    (0): Bottleneck(\n",
      "      (conv1): Conv2d(1024, 512, kernel_size=(1, 1), stride=(1, 1), bias=False)\n",
      "      (bn1): BatchNorm2d(512, eps=1e-05, momentum=0.1, affine=True, track_running_stats=True)\n",
      "      (conv2): Conv2d(512, 512, kernel_size=(3, 3), stride=(2, 2), padding=(1, 1), bias=False)\n",
      "      (bn2): BatchNorm2d(512, eps=1e-05, momentum=0.1, affine=True, track_running_stats=True)\n",
      "      (conv3): Conv2d(512, 2048, kernel_size=(1, 1), stride=(1, 1), bias=False)\n",
      "      (bn3): BatchNorm2d(2048, eps=1e-05, momentum=0.1, affine=True, track_running_stats=True)\n",
      "      (relu): ReLU(inplace=True)\n",
      "      (downsample): Sequential(\n",
      "        (0): Conv2d(1024, 2048, kernel_size=(1, 1), stride=(2, 2), bias=False)\n",
      "        (1): BatchNorm2d(2048, eps=1e-05, momentum=0.1, affine=True, track_running_stats=True)\n",
      "      )\n",
      "    )\n",
      "    (1): Bottleneck(\n",
      "      (conv1): Conv2d(2048, 512, kernel_size=(1, 1), stride=(1, 1), bias=False)\n",
      "      (bn1): BatchNorm2d(512, eps=1e-05, momentum=0.1, affine=True, track_running_stats=True)\n",
      "      (conv2): Conv2d(512, 512, kernel_size=(3, 3), stride=(1, 1), padding=(1, 1), bias=False)\n",
      "      (bn2): BatchNorm2d(512, eps=1e-05, momentum=0.1, affine=True, track_running_stats=True)\n",
      "      (conv3): Conv2d(512, 2048, kernel_size=(1, 1), stride=(1, 1), bias=False)\n",
      "      (bn3): BatchNorm2d(2048, eps=1e-05, momentum=0.1, affine=True, track_running_stats=True)\n",
      "      (relu): ReLU(inplace=True)\n",
      "    )\n",
      "    (2): Bottleneck(\n",
      "      (conv1): Conv2d(2048, 512, kernel_size=(1, 1), stride=(1, 1), bias=False)\n",
      "      (bn1): BatchNorm2d(512, eps=1e-05, momentum=0.1, affine=True, track_running_stats=True)\n",
      "      (conv2): Conv2d(512, 512, kernel_size=(3, 3), stride=(1, 1), padding=(1, 1), bias=False)\n",
      "      (bn2): BatchNorm2d(512, eps=1e-05, momentum=0.1, affine=True, track_running_stats=True)\n",
      "      (conv3): Conv2d(512, 2048, kernel_size=(1, 1), stride=(1, 1), bias=False)\n",
      "      (bn3): BatchNorm2d(2048, eps=1e-05, momentum=0.1, affine=True, track_running_stats=True)\n",
      "      (relu): ReLU(inplace=True)\n",
      "    )\n",
      "  )\n",
      "  (avgpool): AdaptiveAvgPool2d(output_size=(1, 1))\n",
      "  (fc): Linear(in_features=2048, out_features=7, bias=True)\n",
      ")\n"
     ]
    }
   ],
   "source": [
    "print(cnn)"
   ]
  },
  {
   "cell_type": "code",
   "execution_count": 8,
   "metadata": {},
   "outputs": [
    {
     "name": "stdout",
     "output_type": "stream",
     "text": [
      "----------------------------------------------------------------\n",
      "        Layer (type)               Output Shape         Param #\n",
      "================================================================\n",
      "            Conv2d-1           [-1, 64, 24, 24]           9,408\n",
      "       BatchNorm2d-2           [-1, 64, 24, 24]             128\n",
      "              ReLU-3           [-1, 64, 24, 24]               0\n",
      "         MaxPool2d-4           [-1, 64, 12, 12]               0\n",
      "            Conv2d-5           [-1, 64, 12, 12]           4,096\n",
      "       BatchNorm2d-6           [-1, 64, 12, 12]             128\n",
      "              ReLU-7           [-1, 64, 12, 12]               0\n",
      "            Conv2d-8           [-1, 64, 12, 12]          36,864\n",
      "       BatchNorm2d-9           [-1, 64, 12, 12]             128\n",
      "             ReLU-10           [-1, 64, 12, 12]               0\n",
      "           Conv2d-11          [-1, 256, 12, 12]          16,384\n",
      "      BatchNorm2d-12          [-1, 256, 12, 12]             512\n",
      "           Conv2d-13          [-1, 256, 12, 12]          16,384\n",
      "      BatchNorm2d-14          [-1, 256, 12, 12]             512\n",
      "             ReLU-15          [-1, 256, 12, 12]               0\n",
      "       Bottleneck-16          [-1, 256, 12, 12]               0\n",
      "           Conv2d-17           [-1, 64, 12, 12]          16,384\n",
      "      BatchNorm2d-18           [-1, 64, 12, 12]             128\n",
      "             ReLU-19           [-1, 64, 12, 12]               0\n",
      "           Conv2d-20           [-1, 64, 12, 12]          36,864\n",
      "      BatchNorm2d-21           [-1, 64, 12, 12]             128\n",
      "             ReLU-22           [-1, 64, 12, 12]               0\n",
      "           Conv2d-23          [-1, 256, 12, 12]          16,384\n",
      "      BatchNorm2d-24          [-1, 256, 12, 12]             512\n",
      "             ReLU-25          [-1, 256, 12, 12]               0\n",
      "       Bottleneck-26          [-1, 256, 12, 12]               0\n",
      "           Conv2d-27           [-1, 64, 12, 12]          16,384\n",
      "      BatchNorm2d-28           [-1, 64, 12, 12]             128\n",
      "             ReLU-29           [-1, 64, 12, 12]               0\n",
      "           Conv2d-30           [-1, 64, 12, 12]          36,864\n",
      "      BatchNorm2d-31           [-1, 64, 12, 12]             128\n",
      "             ReLU-32           [-1, 64, 12, 12]               0\n",
      "           Conv2d-33          [-1, 256, 12, 12]          16,384\n",
      "      BatchNorm2d-34          [-1, 256, 12, 12]             512\n",
      "             ReLU-35          [-1, 256, 12, 12]               0\n",
      "       Bottleneck-36          [-1, 256, 12, 12]               0\n",
      "           Conv2d-37          [-1, 128, 12, 12]          32,768\n",
      "      BatchNorm2d-38          [-1, 128, 12, 12]             256\n",
      "             ReLU-39          [-1, 128, 12, 12]               0\n",
      "           Conv2d-40            [-1, 128, 6, 6]         147,456\n",
      "      BatchNorm2d-41            [-1, 128, 6, 6]             256\n",
      "             ReLU-42            [-1, 128, 6, 6]               0\n",
      "           Conv2d-43            [-1, 512, 6, 6]          65,536\n",
      "      BatchNorm2d-44            [-1, 512, 6, 6]           1,024\n",
      "           Conv2d-45            [-1, 512, 6, 6]         131,072\n",
      "      BatchNorm2d-46            [-1, 512, 6, 6]           1,024\n",
      "             ReLU-47            [-1, 512, 6, 6]               0\n",
      "       Bottleneck-48            [-1, 512, 6, 6]               0\n",
      "           Conv2d-49            [-1, 128, 6, 6]          65,536\n",
      "      BatchNorm2d-50            [-1, 128, 6, 6]             256\n",
      "             ReLU-51            [-1, 128, 6, 6]               0\n",
      "           Conv2d-52            [-1, 128, 6, 6]         147,456\n",
      "      BatchNorm2d-53            [-1, 128, 6, 6]             256\n",
      "             ReLU-54            [-1, 128, 6, 6]               0\n",
      "           Conv2d-55            [-1, 512, 6, 6]          65,536\n",
      "      BatchNorm2d-56            [-1, 512, 6, 6]           1,024\n",
      "             ReLU-57            [-1, 512, 6, 6]               0\n",
      "       Bottleneck-58            [-1, 512, 6, 6]               0\n",
      "           Conv2d-59            [-1, 128, 6, 6]          65,536\n",
      "      BatchNorm2d-60            [-1, 128, 6, 6]             256\n",
      "             ReLU-61            [-1, 128, 6, 6]               0\n",
      "           Conv2d-62            [-1, 128, 6, 6]         147,456\n",
      "      BatchNorm2d-63            [-1, 128, 6, 6]             256\n",
      "             ReLU-64            [-1, 128, 6, 6]               0\n",
      "           Conv2d-65            [-1, 512, 6, 6]          65,536\n",
      "      BatchNorm2d-66            [-1, 512, 6, 6]           1,024\n",
      "             ReLU-67            [-1, 512, 6, 6]               0\n",
      "       Bottleneck-68            [-1, 512, 6, 6]               0\n",
      "           Conv2d-69            [-1, 128, 6, 6]          65,536\n",
      "      BatchNorm2d-70            [-1, 128, 6, 6]             256\n",
      "             ReLU-71            [-1, 128, 6, 6]               0\n",
      "           Conv2d-72            [-1, 128, 6, 6]         147,456\n",
      "      BatchNorm2d-73            [-1, 128, 6, 6]             256\n",
      "             ReLU-74            [-1, 128, 6, 6]               0\n",
      "           Conv2d-75            [-1, 512, 6, 6]          65,536\n",
      "      BatchNorm2d-76            [-1, 512, 6, 6]           1,024\n",
      "             ReLU-77            [-1, 512, 6, 6]               0\n",
      "       Bottleneck-78            [-1, 512, 6, 6]               0\n",
      "           Conv2d-79            [-1, 256, 6, 6]         131,072\n",
      "      BatchNorm2d-80            [-1, 256, 6, 6]             512\n",
      "             ReLU-81            [-1, 256, 6, 6]               0\n",
      "           Conv2d-82            [-1, 256, 3, 3]         589,824\n",
      "      BatchNorm2d-83            [-1, 256, 3, 3]             512\n",
      "             ReLU-84            [-1, 256, 3, 3]               0\n",
      "           Conv2d-85           [-1, 1024, 3, 3]         262,144\n",
      "      BatchNorm2d-86           [-1, 1024, 3, 3]           2,048\n",
      "           Conv2d-87           [-1, 1024, 3, 3]         524,288\n",
      "      BatchNorm2d-88           [-1, 1024, 3, 3]           2,048\n",
      "             ReLU-89           [-1, 1024, 3, 3]               0\n",
      "       Bottleneck-90           [-1, 1024, 3, 3]               0\n",
      "           Conv2d-91            [-1, 256, 3, 3]         262,144\n",
      "      BatchNorm2d-92            [-1, 256, 3, 3]             512\n",
      "             ReLU-93            [-1, 256, 3, 3]               0\n",
      "           Conv2d-94            [-1, 256, 3, 3]         589,824\n",
      "      BatchNorm2d-95            [-1, 256, 3, 3]             512\n",
      "             ReLU-96            [-1, 256, 3, 3]               0\n",
      "           Conv2d-97           [-1, 1024, 3, 3]         262,144\n",
      "      BatchNorm2d-98           [-1, 1024, 3, 3]           2,048\n",
      "             ReLU-99           [-1, 1024, 3, 3]               0\n",
      "      Bottleneck-100           [-1, 1024, 3, 3]               0\n",
      "          Conv2d-101            [-1, 256, 3, 3]         262,144\n",
      "     BatchNorm2d-102            [-1, 256, 3, 3]             512\n",
      "            ReLU-103            [-1, 256, 3, 3]               0\n",
      "          Conv2d-104            [-1, 256, 3, 3]         589,824\n",
      "     BatchNorm2d-105            [-1, 256, 3, 3]             512\n",
      "            ReLU-106            [-1, 256, 3, 3]               0\n",
      "          Conv2d-107           [-1, 1024, 3, 3]         262,144\n",
      "     BatchNorm2d-108           [-1, 1024, 3, 3]           2,048\n",
      "            ReLU-109           [-1, 1024, 3, 3]               0\n",
      "      Bottleneck-110           [-1, 1024, 3, 3]               0\n",
      "          Conv2d-111            [-1, 256, 3, 3]         262,144\n",
      "     BatchNorm2d-112            [-1, 256, 3, 3]             512\n",
      "            ReLU-113            [-1, 256, 3, 3]               0\n",
      "          Conv2d-114            [-1, 256, 3, 3]         589,824\n",
      "     BatchNorm2d-115            [-1, 256, 3, 3]             512\n",
      "            ReLU-116            [-1, 256, 3, 3]               0\n",
      "          Conv2d-117           [-1, 1024, 3, 3]         262,144\n",
      "     BatchNorm2d-118           [-1, 1024, 3, 3]           2,048\n",
      "            ReLU-119           [-1, 1024, 3, 3]               0\n",
      "      Bottleneck-120           [-1, 1024, 3, 3]               0\n",
      "          Conv2d-121            [-1, 256, 3, 3]         262,144\n",
      "     BatchNorm2d-122            [-1, 256, 3, 3]             512\n",
      "            ReLU-123            [-1, 256, 3, 3]               0\n",
      "          Conv2d-124            [-1, 256, 3, 3]         589,824\n",
      "     BatchNorm2d-125            [-1, 256, 3, 3]             512\n",
      "            ReLU-126            [-1, 256, 3, 3]               0\n",
      "          Conv2d-127           [-1, 1024, 3, 3]         262,144\n",
      "     BatchNorm2d-128           [-1, 1024, 3, 3]           2,048\n",
      "            ReLU-129           [-1, 1024, 3, 3]               0\n",
      "      Bottleneck-130           [-1, 1024, 3, 3]               0\n",
      "          Conv2d-131            [-1, 256, 3, 3]         262,144\n",
      "     BatchNorm2d-132            [-1, 256, 3, 3]             512\n",
      "            ReLU-133            [-1, 256, 3, 3]               0\n",
      "          Conv2d-134            [-1, 256, 3, 3]         589,824\n",
      "     BatchNorm2d-135            [-1, 256, 3, 3]             512\n",
      "            ReLU-136            [-1, 256, 3, 3]               0\n",
      "          Conv2d-137           [-1, 1024, 3, 3]         262,144\n",
      "     BatchNorm2d-138           [-1, 1024, 3, 3]           2,048\n",
      "            ReLU-139           [-1, 1024, 3, 3]               0\n",
      "      Bottleneck-140           [-1, 1024, 3, 3]               0\n",
      "          Conv2d-141            [-1, 512, 3, 3]         524,288\n",
      "     BatchNorm2d-142            [-1, 512, 3, 3]           1,024\n",
      "            ReLU-143            [-1, 512, 3, 3]               0\n",
      "          Conv2d-144            [-1, 512, 2, 2]       2,359,296\n",
      "     BatchNorm2d-145            [-1, 512, 2, 2]           1,024\n",
      "            ReLU-146            [-1, 512, 2, 2]               0\n",
      "          Conv2d-147           [-1, 2048, 2, 2]       1,048,576\n",
      "     BatchNorm2d-148           [-1, 2048, 2, 2]           4,096\n",
      "          Conv2d-149           [-1, 2048, 2, 2]       2,097,152\n",
      "     BatchNorm2d-150           [-1, 2048, 2, 2]           4,096\n",
      "            ReLU-151           [-1, 2048, 2, 2]               0\n",
      "      Bottleneck-152           [-1, 2048, 2, 2]               0\n",
      "          Conv2d-153            [-1, 512, 2, 2]       1,048,576\n",
      "     BatchNorm2d-154            [-1, 512, 2, 2]           1,024\n",
      "            ReLU-155            [-1, 512, 2, 2]               0\n",
      "          Conv2d-156            [-1, 512, 2, 2]       2,359,296\n",
      "     BatchNorm2d-157            [-1, 512, 2, 2]           1,024\n",
      "            ReLU-158            [-1, 512, 2, 2]               0\n",
      "          Conv2d-159           [-1, 2048, 2, 2]       1,048,576\n",
      "     BatchNorm2d-160           [-1, 2048, 2, 2]           4,096\n",
      "            ReLU-161           [-1, 2048, 2, 2]               0\n",
      "      Bottleneck-162           [-1, 2048, 2, 2]               0\n",
      "          Conv2d-163            [-1, 512, 2, 2]       1,048,576\n",
      "     BatchNorm2d-164            [-1, 512, 2, 2]           1,024\n",
      "            ReLU-165            [-1, 512, 2, 2]               0\n",
      "          Conv2d-166            [-1, 512, 2, 2]       2,359,296\n",
      "     BatchNorm2d-167            [-1, 512, 2, 2]           1,024\n",
      "            ReLU-168            [-1, 512, 2, 2]               0\n",
      "          Conv2d-169           [-1, 2048, 2, 2]       1,048,576\n",
      "     BatchNorm2d-170           [-1, 2048, 2, 2]           4,096\n",
      "            ReLU-171           [-1, 2048, 2, 2]               0\n",
      "      Bottleneck-172           [-1, 2048, 2, 2]               0\n",
      "AdaptiveAvgPool2d-173           [-1, 2048, 1, 1]               0\n",
      "          Linear-174                    [-1, 7]          14,343\n",
      "================================================================\n",
      "Total params: 23,522,375\n",
      "Trainable params: 23,522,375\n",
      "Non-trainable params: 0\n",
      "----------------------------------------------------------------\n",
      "Input size (MB): 0.03\n",
      "Forward/backward pass size (MB): 13.66\n",
      "Params size (MB): 89.73\n",
      "Estimated Total Size (MB): 103.42\n",
      "----------------------------------------------------------------\n"
     ]
    }
   ],
   "source": [
    "summary(cnn, input_size=(3, 48, 48), device=DEVICE.type)"
   ]
  },
  {
   "cell_type": "code",
   "execution_count": 9,
   "metadata": {},
   "outputs": [],
   "source": [
    "LR = 0.1\n",
    "EPOCHS = 50"
   ]
  },
  {
   "cell_type": "code",
   "execution_count": 10,
   "metadata": {},
   "outputs": [],
   "source": [
    "criterion = nn.CrossEntropyLoss()\n",
    "optimizer = optim.Adam(model.parameters(), lr=LR)"
   ]
  },
  {
   "cell_type": "code",
   "execution_count": 11,
   "metadata": {},
   "outputs": [],
   "source": [
    "def multiclass_accuracy(y_pred,y_true):\n",
    "    top_p,top_class = y_pred.topk(1,dim = 1)\n",
    "    equals = top_class == y_true.view(*top_class.shape)\n",
    "    return torch.mean(equals.type(torch.cuda.FloatTensor))"
   ]
  },
  {
   "cell_type": "code",
   "execution_count": 12,
   "metadata": {},
   "outputs": [],
   "source": [
    "def train_model(model, current_epoch, training_loader, optimizer, criterion, DEVICE):\n",
    "    \"\"\"\n",
    "    Function to train the model for one epoch.\n",
    "    \"\"\"\n",
    "    model.train()  # Set model to training mode\n",
    "    running_loss = 0.0\n",
    "    running_acc = 0.0\n",
    "    tk = tqdm(training_loader, desc=\"EPOCH\" + \"[TRAIN]\" + str(current_epoch + 1) + \"/\" + str(EPOCHS))\n",
    "    \n",
    "    for t, data in enumerate(tk):\n",
    "        # Transfer images and labels to the specified device\n",
    "        images, labels = data\n",
    "        images, labels = images.to(DEVICE), labels.to(DEVICE)\n",
    "        \n",
    "        # Prepare the data for input\n",
    "        #train = Variable(images.view(images.size(0), 1, 48, 48))\n",
    "        train = images\n",
    "        labels = Variable(labels)\n",
    "\n",
    "        # Reset gradients\n",
    "        optimizer.zero_grad()\n",
    "\n",
    "        # Forward pass\n",
    "        outputs = model(train)\n",
    "        loss = criterion(outputs, labels)\n",
    "        \n",
    "\n",
    "        # Backward pass and optimize\n",
    "        loss.backward()\n",
    "        optimizer.step()\n",
    "\n",
    "        running_loss += loss.item() # Total loss\n",
    "        running_acc += multiclass_accuracy(outputs, labels)\n",
    "\n",
    "        tk.set_postfix({'loss': '%6f' % float(running_loss / (t + 1)), 'acc': '%6f' % float(running_acc / (t + 1))})\n",
    "    \n",
    "    return running_loss / len(training_loader), running_acc / len(training_loader)"
   ]
  },
  {
   "cell_type": "code",
   "execution_count": 13,
   "metadata": {},
   "outputs": [],
   "source": [
    "def test_model(model, current_epoch, test_loader, DEVICE):\n",
    "    \"\"\"\n",
    "    Function to test the model and compute accuracy.\n",
    "    \"\"\"\n",
    "    model.eval()  # Set model to evaluation mode\n",
    "    correct = 0\n",
    "    total = 0\n",
    "    predictions_list = []\n",
    "    labels_list = []\n",
    "    running_loss = 0.0\n",
    "    running_acc = 0.0\n",
    "\n",
    "    tk = tqdm(test_loader, desc=\"EPOCH\" + \"[VALID]\" + str(current_epoch + 1) + \"/\" + str(EPOCHS))\n",
    "\n",
    "    with torch.no_grad():  # Disable gradient calculation for testing\n",
    "        for t, data in enumerate(tk):\n",
    "            images, labels = data\n",
    "            images, labels = images.to(DEVICE), labels.to(DEVICE)\n",
    "            labels_list.append(labels)\n",
    "\n",
    "            #test = images.view(images.size(0), 1, 48, 48)\n",
    "            test = images\n",
    "            \n",
    "            # Forward pass\n",
    "            outputs = model(test)\n",
    "            loss = criterion(outputs, labels)\n",
    "\n",
    "            # Get predictions\n",
    "            predictions = torch.max(outputs, 1)[1].to(DEVICE)\n",
    "            predictions_list.append(predictions)\n",
    "            correct += (predictions == labels).sum().item()\n",
    "            total += len(labels)\n",
    "\n",
    "            running_loss += loss.item()\n",
    "            running_acc += multiclass_accuracy(outputs, labels)\n",
    "            tk.set_postfix({'loss': '%6f' %float(running_loss / (t+1)), 'acc': '%6f' %float(running_acc / (t+1)), })\n",
    "\n",
    "    #accuracy = 100 * correct / total\n",
    "    return running_loss / len(test_loader), running_acc / len(test_loader), predictions_list, labels_list, \n"
   ]
  },
  {
   "cell_type": "code",
   "execution_count": 14,
   "metadata": {},
   "outputs": [],
   "source": [
    "# Reduce LR on Plateau\n",
    "# Reduces the learning rate when a monitored metric (e.g., validation loss) stops improving.\n",
    "scheduler = torch.optim.lr_scheduler.ReduceLROnPlateau(optimizer, mode='min', patience=3, factor=0.1)\n"
   ]
  },
  {
   "cell_type": "code",
   "execution_count": 15,
   "metadata": {},
   "outputs": [
    {
     "name": "stdout",
     "output_type": "stream",
     "text": [
      "Epoch 1, LR: 0.1\n",
      "\n"
     ]
    },
    {
     "name": "stderr",
     "output_type": "stream",
     "text": [
      "EPOCH[TRAIN]1/50: 100%|██████████| 226/226 [01:29<00:00,  2.52it/s, loss=4.619952, acc=0.249709]\n",
      "EPOCH[VALID]1/50: 100%|██████████| 56/56 [00:17<00:00,  3.17it/s, loss=197.727186, acc=0.261665]\n"
     ]
    },
    {
     "name": "stdout",
     "output_type": "stream",
     "text": [
      "SAVED-BEST-WEIGHTS\n",
      "Epoch 2, LR: 0.1\n",
      "\n"
     ]
    },
    {
     "name": "stderr",
     "output_type": "stream",
     "text": [
      "EPOCH[TRAIN]2/50: 100%|██████████| 226/226 [01:11<00:00,  3.15it/s, loss=1.854450, acc=0.249885]\n",
      "EPOCH[VALID]2/50: 100%|██████████| 56/56 [00:13<00:00,  4.16it/s, loss=3.675321, acc=0.261354]\n"
     ]
    },
    {
     "name": "stdout",
     "output_type": "stream",
     "text": [
      "SAVED-BEST-WEIGHTS\n",
      "Epoch 3, LR: 0.1\n",
      "\n"
     ]
    },
    {
     "name": "stderr",
     "output_type": "stream",
     "text": [
      "EPOCH[TRAIN]3/50: 100%|██████████| 226/226 [01:11<00:00,  3.18it/s, loss=1.814533, acc=0.251679]\n",
      "EPOCH[VALID]3/50: 100%|██████████| 56/56 [00:14<00:00,  3.87it/s, loss=2.859832, acc=0.260066]\n"
     ]
    },
    {
     "name": "stdout",
     "output_type": "stream",
     "text": [
      "SAVED-BEST-WEIGHTS\n",
      "Epoch 4, LR: 0.1\n",
      "\n"
     ]
    },
    {
     "name": "stderr",
     "output_type": "stream",
     "text": [
      "EPOCH[TRAIN]4/50: 100%|██████████| 226/226 [01:10<00:00,  3.20it/s, loss=1.800316, acc=0.250331]\n",
      "EPOCH[VALID]4/50: 100%|██████████| 56/56 [00:13<00:00,  4.12it/s, loss=14.321800, acc=0.261762]\n"
     ]
    },
    {
     "name": "stdout",
     "output_type": "stream",
     "text": [
      "No improvement in validation loss for 1 epoch(s).\n",
      "Epoch 5, LR: 0.1\n",
      "\n"
     ]
    },
    {
     "name": "stderr",
     "output_type": "stream",
     "text": [
      "EPOCH[TRAIN]5/50: 100%|██████████| 226/226 [01:14<00:00,  3.04it/s, loss=1.783526, acc=0.261396]\n",
      "EPOCH[VALID]5/50: 100%|██████████| 56/56 [00:20<00:00,  2.76it/s, loss=9.404416, acc=0.254250]\n"
     ]
    },
    {
     "name": "stdout",
     "output_type": "stream",
     "text": [
      "No improvement in validation loss for 2 epoch(s).\n",
      "Epoch 6, LR: 0.1\n",
      "\n"
     ]
    },
    {
     "name": "stderr",
     "output_type": "stream",
     "text": [
      "EPOCH[TRAIN]6/50: 100%|██████████| 226/226 [01:19<00:00,  2.83it/s, loss=1.752554, acc=0.292021]\n",
      "EPOCH[VALID]6/50: 100%|██████████| 56/56 [00:13<00:00,  4.20it/s, loss=6.658447, acc=0.201279] \n"
     ]
    },
    {
     "name": "stdout",
     "output_type": "stream",
     "text": [
      "No improvement in validation loss for 3 epoch(s).\n",
      "Epoch 7, LR: 0.1\n",
      "\n"
     ]
    },
    {
     "name": "stderr",
     "output_type": "stream",
     "text": [
      "EPOCH[TRAIN]7/50: 100%|██████████| 226/226 [01:10<00:00,  3.19it/s, loss=1.723583, acc=0.313224]\n",
      "EPOCH[VALID]7/50: 100%|██████████| 56/56 [00:13<00:00,  4.12it/s, loss=61.917278, acc=0.228398]\n"
     ]
    },
    {
     "name": "stdout",
     "output_type": "stream",
     "text": [
      "No improvement in validation loss for 4 epoch(s).\n",
      "Epoch 8, LR: 0.010000000000000002\n",
      "\n"
     ]
    },
    {
     "name": "stderr",
     "output_type": "stream",
     "text": [
      "EPOCH[TRAIN]8/50: 100%|██████████| 226/226 [01:11<00:00,  3.16it/s, loss=1.671274, acc=0.330555]\n",
      "EPOCH[VALID]8/50: 100%|██████████| 56/56 [00:13<00:00,  4.18it/s, loss=42.245872, acc=0.341164]\n"
     ]
    },
    {
     "name": "stdout",
     "output_type": "stream",
     "text": [
      "No improvement in validation loss for 5 epoch(s).\n",
      "Epoch 9, LR: 0.010000000000000002\n",
      "\n"
     ]
    },
    {
     "name": "stderr",
     "output_type": "stream",
     "text": [
      "EPOCH[TRAIN]9/50: 100%|██████████| 226/226 [01:11<00:00,  3.15it/s, loss=1.649507, acc=0.334968]\n",
      "EPOCH[VALID]9/50: 100%|██████████| 56/56 [00:16<00:00,  3.32it/s, loss=38.844261, acc=0.347581] "
     ]
    },
    {
     "name": "stdout",
     "output_type": "stream",
     "text": [
      "No improvement in validation loss for 6 epoch(s).\n",
      "Patience exceeded. Early stopping at epoch 9\n",
      "Early stopping triggered. Stopping training.\n"
     ]
    },
    {
     "name": "stderr",
     "output_type": "stream",
     "text": [
      "\n"
     ]
    }
   ],
   "source": [
    "# Main training loop\n",
    "\n",
    "# Dictionary to store loss values over epochs\n",
    "metrics_loss = {\n",
    "    'training_loss': [],\n",
    "    'validation_loss': []\n",
    "}\n",
    "# Dictionary to store accuracy values over epochs\n",
    "metrics_accuracy = {\n",
    "    'training_accuracy': [],\n",
    "    'validation_accuracy': []\n",
    "}\n",
    "\n",
    "iteration_list = []\n",
    "count = 0\n",
    "best_valid_loss = np.inf\n",
    "patience_counter = 0   # Tracks the number of epochs without improvement\n",
    "early_stop = False # Flag to indicate whether to stop training\n",
    "patience = 6\n",
    "\n",
    "for current_epoch in range(EPOCHS):\n",
    "    if early_stop:\n",
    "        print(\"Early stopping triggered. Stopping training.\")\n",
    "        break\n",
    "    print(f\"Epoch {current_epoch + 1}, LR: {scheduler.optimizer.param_groups[0]['lr']}\")\n",
    "    print(\"\")\n",
    "    \n",
    "    # Training step\n",
    "    train_loss, train_accuracy = train_model(cnn, current_epoch, training_loader, optimizer, criterion, DEVICE)\n",
    "    \n",
    "    # Increment count for iterations\n",
    "    count += len(training_loader)\n",
    "\n",
    "    valid_loss, valid_accuracy, predictions_list, labels_list,  = test_model(cnn, current_epoch, test_loader, DEVICE)\n",
    "\n",
    "    # Record metrics\n",
    "    metrics_loss['training_loss'].append(train_loss)\n",
    "    metrics_loss['validation_loss'].append(valid_loss)\n",
    "\n",
    "    metrics_accuracy['training_accuracy'].append(train_accuracy)\n",
    "    metrics_accuracy['validation_accuracy'].append(valid_accuracy)\n",
    "\n",
    "    iteration_list.append(count)\n",
    "\n",
    "    # Update the learning rate based on validation loss and print\n",
    "    scheduler.step(valid_loss)\n",
    "    \n",
    "\n",
    "    if valid_loss < best_valid_loss:\n",
    "        torch.save(cnn.state_dict(), 'best_weights_resnet_adam.pt')\n",
    "        print(\"SAVED-BEST-WEIGHTS\")\n",
    "        best_valid_loss = valid_loss\n",
    "        patience_counter = 0 # Reset early stopping\n",
    "    else:\n",
    "        patience_counter += 1\n",
    "        print(f\"No improvement in validation loss for {patience_counter} epoch(s).\")\n",
    "\n",
    "    if patience_counter >= patience:\n",
    "        print(\"Patience exceeded. Early stopping at epoch \" +str(current_epoch + 1))\n",
    "        early_stop = True\n",
    "\n",
    "\n",
    "    # Print stats every 300 iterations\n",
    "    #if not (count % 100):\n",
    "    #    print(\"Iteration: {}, Loss: {:.4f}, Accuracy: {:.2f}%\".format(count, train_loss, accuracy))\n"
   ]
  },
  {
   "cell_type": "code",
   "execution_count": 16,
   "metadata": {},
   "outputs": [],
   "source": [
    "import importlib\n",
    "import visualization_plots"
   ]
  },
  {
   "cell_type": "code",
   "execution_count": 17,
   "metadata": {},
   "outputs": [
    {
     "data": {
      "text/plain": [
       "<module 'visualization_plots' from 'c:\\\\Python_Codes\\\\cpe520\\\\visualization_plots.py'>"
      ]
     },
     "execution_count": 17,
     "metadata": {},
     "output_type": "execute_result"
    }
   ],
   "source": [
    "importlib.reload(visualization_plots)"
   ]
  },
  {
   "cell_type": "markdown",
   "metadata": {},
   "source": [
    "### Adam Optimizer"
   ]
  },
  {
   "cell_type": "markdown",
   "metadata": {},
   "source": [
    "#### ROC Curve"
   ]
  },
  {
   "cell_type": "markdown",
   "metadata": {},
   "source": [
    "#### Plot of Accuracy over epochs"
   ]
  },
  {
   "cell_type": "code",
   "execution_count": 18,
   "metadata": {},
   "outputs": [
    {
     "data": {
      "image/png": "[encoded data removed]",
      "text/plain": [
       "<Figure size 600x400 with 1 Axes>"
      ]
     },
     "metadata": {},
     "output_type": "display_data"
    }
   ],
   "source": [
    "visualization_plots.plot_accuracy(metrics_accuracy, model_extra_desc=\"ResNet50 with ADAM and LR from 0.1\")"
   ]
  },
  {
   "cell_type": "markdown",
   "metadata": {},
   "source": [
    "#### Plot of Loss over epochs"
   ]
  },
  {
   "cell_type": "code",
   "execution_count": 19,
   "metadata": {},
   "outputs": [
    {
     "data": {
      "image/png": "[encoded data removed]",
      "text/plain": [
       "<Figure size 600x400 with 1 Axes>"
      ]
     },
     "metadata": {},
     "output_type": "display_data"
    }
   ],
   "source": [
    "visualization_plots.plot_loss(metrics_loss, model_extra_desc=\"ResNet50 with ADAM and LR from 0.1\")"
   ]
  },
  {
   "cell_type": "markdown",
   "metadata": {},
   "source": [
    "#### Looking at the Accuracy in each class of dataset"
   ]
  },
  {
   "cell_type": "code",
   "execution_count": 28,
   "metadata": {},
   "outputs": [
    {
     "data": {
      "text/plain": [
       "{0: 'angry',\n",
       " 1: 'disgust',\n",
       " 2: 'fear',\n",
       " 3: 'happy',\n",
       " 4: 'neutral',\n",
       " 5: 'sad',\n",
       " 6: 'surprise'}"
      ]
     },
     "execution_count": 28,
     "metadata": {},
     "output_type": "execute_result"
    }
   ],
   "source": [
    "label_classes = training_set.class_to_idx\n",
    "# Switch keys and values\n",
    "label_classes = {value: key for key, value in label_classes.items()}\n",
    "label_classes"
   ]
  },
  {
   "cell_type": "code",
   "execution_count": 29,
   "metadata": {},
   "outputs": [
    {
     "name": "stdout",
     "output_type": "stream",
     "text": [
      "Accuracy of angry: 35.312%\n",
      "Accuracy of disgust: 0.000%\n",
      "Accuracy of fear: 26.621%\n",
      "Accuracy of happy: 87.014%\n",
      "Accuracy of neutral: 62.336%\n",
      "Accuracy of sad: 45.917%\n",
      "Accuracy of surprise: 73.526%\n"
     ]
    }
   ],
   "source": [
    "class_correct = [0. for _ in range(num_classes)]\n",
    "total_correct = [0. for _ in range(num_classes)]\n",
    "\n",
    "with torch.no_grad():\n",
    "    for images, labels in test_loader:\n",
    "        images, labels = images.to(DEVICE), labels.to(DEVICE)\n",
    "        test = images\n",
    "        outputs = cnn(test)\n",
    "        predicted = torch.max(outputs, 1)[1]\n",
    "        c = (predicted == labels).squeeze()\n",
    "        \n",
    "        for i in range(len(labels)):\n",
    "            label = labels[i]\n",
    "            class_correct[label] += c[i].item()\n",
    "            total_correct[label] += 1\n",
    "        \n",
    "for i in range(num_classes):\n",
    "    if total_correct[i] > 0:  # Avoid division by zero\n",
    "        accuracy = class_correct[i] * 100 / total_correct[i]\n",
    "        print(f\"Accuracy of {label_classes[i]}: {accuracy:.3f}%\")\n",
    "    else:\n",
    "        print(f\"Accuracy of {label_classes[i]}: No samples\")"
   ]
  },
  {
   "cell_type": "markdown",
   "metadata": {},
   "source": [
    "#### Multipicture prediction plot"
   ]
  }
 ],
 "metadata": {
  "kernelspec": {
   "display_name": "cpe520",
   "language": "python",
   "name": "python3"
  },
  "language_info": {
   "codemirror_mode": {
    "name": "ipython",
    "version": 3
   },
   "file_extension": ".py",
   "mimetype": "text/x-python",
   "name": "python",
   "nbconvert_exporter": "python",
   "pygments_lexer": "ipython3",
   "version": "3.9.20"
  }
 },
 "nbformat": 4,
 "nbformat_minor": 2
}
