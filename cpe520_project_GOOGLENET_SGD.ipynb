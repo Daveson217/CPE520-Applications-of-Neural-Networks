{
 "cells": [
  {
   "cell_type": "markdown",
   "metadata": {},
   "source": [
    "### Importing the Libraries"
   ]
  },
  {
   "cell_type": "code",
   "execution_count": 1,
   "metadata": {},
   "outputs": [],
   "source": [
    "import torch\n",
    "from torch.autograd import Variable\n",
    "import torch.nn as nn\n",
    "import torch.nn.functional as F\n",
    "import torch.optim as optim\n",
    "from torchsummary import summary\n",
    "import torchvision.transforms as T\n",
    "from torchvision import models\n",
    "from torchvision import datasets\n",
    "from torch.utils.data import DataLoader\n",
    "from tqdm import tqdm\n",
    "import numpy as np\n",
    "import matplotlib.pyplot as plt"
   ]
  },
  {
   "cell_type": "code",
   "execution_count": 2,
   "metadata": {},
   "outputs": [
    {
     "data": {
      "text/plain": [
       "device(type='cuda')"
      ]
     },
     "execution_count": 2,
     "metadata": {},
     "output_type": "execute_result"
    }
   ],
   "source": [
    "BATCH_SIZE = 128\n",
    "DEVICE = torch.device('cuda' if torch.cuda.is_available() else 'cpu')\n",
    "#DEVICE = 'cpu'\n",
    "DEVICE"
   ]
  },
  {
   "cell_type": "code",
   "execution_count": 3,
   "metadata": {},
   "outputs": [],
   "source": [
    "# Images are already in 48 X 48, so no need to resize\n",
    "training_augs = T.Compose([\n",
    "    T.Grayscale(num_output_channels=3),\n",
    "    T.Resize((48, 48)),\n",
    "    T.ToTensor(),\n",
    "    T.Normalize(mean=[0.485, 0.456, 0.406], std=[0.229, 0.224, 0.225]),  # Normalize with mean=0.5 and std=0.5 (adjust for specific needs)\n",
    "    T.RandomHorizontalFlip(),\n",
    "    T.RandomAffine(degrees=0, shear=0.2, scale=(0.8, 1.2))\n",
    "])\n",
    "\n",
    "\n",
    "training_set = datasets.ImageFolder(root='jonathan_oheix/train', transform=training_augs)\n",
    "\n",
    "training_loader = DataLoader(training_set, batch_size=BATCH_SIZE, shuffle=True)"
   ]
  },
  {
   "cell_type": "code",
   "execution_count": 4,
   "metadata": {},
   "outputs": [],
   "source": [
    "valid_augs = T.Compose([\n",
    "    T.Grayscale(num_output_channels=3),\n",
    "    T.Resize((48, 48)),\n",
    "    T.ToTensor(),\n",
    "    T.Normalize(mean=[0.485, 0.456, 0.406], std=[0.229, 0.224, 0.225])\n",
    "])\n",
    "\n",
    "test_set = datasets.ImageFolder(root='jonathan_oheix/validation', transform=valid_augs)\n",
    "test_loader = DataLoader(test_set, batch_size=BATCH_SIZE, shuffle=True)"
   ]
  },
  {
   "cell_type": "code",
   "execution_count": 5,
   "metadata": {},
   "outputs": [
    {
     "name": "stdout",
     "output_type": "stream",
     "text": [
      "{'angry': 0, 'disgust': 1, 'fear': 2, 'happy': 3, 'neutral': 4, 'sad': 5, 'surprise': 6}\n"
     ]
    }
   ],
   "source": [
    "print(training_set.class_to_idx)"
   ]
  },
  {
   "cell_type": "code",
   "execution_count": 8,
   "metadata": {},
   "outputs": [],
   "source": [
    "num_classes = len(training_set.classes)  # Number of emotion labels\n",
    "\n",
    "# Load pretrained ResNet-50\n",
    "model = models.googlenet(weights=models.GoogLeNet_Weights.DEFAULT)\n",
    "\n",
    "# Replace the last fully connected layer\n",
    "model.fc = nn.Linear(model.fc.in_features, num_classes)\n",
    "\n",
    "# Send the model to GPU if available\n",
    "cnn = model.to(DEVICE)"
   ]
  },
  {
   "cell_type": "code",
   "execution_count": 9,
   "metadata": {},
   "outputs": [
    {
     "name": "stdout",
     "output_type": "stream",
     "text": [
      "GoogLeNet(\n",
      "  (conv1): BasicConv2d(\n",
      "    (conv): Conv2d(3, 64, kernel_size=(7, 7), stride=(2, 2), padding=(3, 3), bias=False)\n",
      "    (bn): BatchNorm2d(64, eps=0.001, momentum=0.1, affine=True, track_running_stats=True)\n",
      "  )\n",
      "  (maxpool1): MaxPool2d(kernel_size=3, stride=2, padding=0, dilation=1, ceil_mode=True)\n",
      "  (conv2): BasicConv2d(\n",
      "    (conv): Conv2d(64, 64, kernel_size=(1, 1), stride=(1, 1), bias=False)\n",
      "    (bn): BatchNorm2d(64, eps=0.001, momentum=0.1, affine=True, track_running_stats=True)\n",
      "  )\n",
      "  (conv3): BasicConv2d(\n",
      "    (conv): Conv2d(64, 192, kernel_size=(3, 3), stride=(1, 1), padding=(1, 1), bias=False)\n",
      "    (bn): BatchNorm2d(192, eps=0.001, momentum=0.1, affine=True, track_running_stats=True)\n",
      "  )\n",
      "  (maxpool2): MaxPool2d(kernel_size=3, stride=2, padding=0, dilation=1, ceil_mode=True)\n",
      "  (inception3a): Inception(\n",
      "    (branch1): BasicConv2d(\n",
      "      (conv): Conv2d(192, 64, kernel_size=(1, 1), stride=(1, 1), bias=False)\n",
      "      (bn): BatchNorm2d(64, eps=0.001, momentum=0.1, affine=True, track_running_stats=True)\n",
      "    )\n",
      "    (branch2): Sequential(\n",
      "      (0): BasicConv2d(\n",
      "        (conv): Conv2d(192, 96, kernel_size=(1, 1), stride=(1, 1), bias=False)\n",
      "        (bn): BatchNorm2d(96, eps=0.001, momentum=0.1, affine=True, track_running_stats=True)\n",
      "      )\n",
      "      (1): BasicConv2d(\n",
      "        (conv): Conv2d(96, 128, kernel_size=(3, 3), stride=(1, 1), padding=(1, 1), bias=False)\n",
      "        (bn): BatchNorm2d(128, eps=0.001, momentum=0.1, affine=True, track_running_stats=True)\n",
      "      )\n",
      "    )\n",
      "    (branch3): Sequential(\n",
      "      (0): BasicConv2d(\n",
      "        (conv): Conv2d(192, 16, kernel_size=(1, 1), stride=(1, 1), bias=False)\n",
      "        (bn): BatchNorm2d(16, eps=0.001, momentum=0.1, affine=True, track_running_stats=True)\n",
      "      )\n",
      "      (1): BasicConv2d(\n",
      "        (conv): Conv2d(16, 32, kernel_size=(3, 3), stride=(1, 1), padding=(1, 1), bias=False)\n",
      "        (bn): BatchNorm2d(32, eps=0.001, momentum=0.1, affine=True, track_running_stats=True)\n",
      "      )\n",
      "    )\n",
      "    (branch4): Sequential(\n",
      "      (0): MaxPool2d(kernel_size=3, stride=1, padding=1, dilation=1, ceil_mode=True)\n",
      "      (1): BasicConv2d(\n",
      "        (conv): Conv2d(192, 32, kernel_size=(1, 1), stride=(1, 1), bias=False)\n",
      "        (bn): BatchNorm2d(32, eps=0.001, momentum=0.1, affine=True, track_running_stats=True)\n",
      "      )\n",
      "    )\n",
      "  )\n",
      "  (inception3b): Inception(\n",
      "    (branch1): BasicConv2d(\n",
      "      (conv): Conv2d(256, 128, kernel_size=(1, 1), stride=(1, 1), bias=False)\n",
      "      (bn): BatchNorm2d(128, eps=0.001, momentum=0.1, affine=True, track_running_stats=True)\n",
      "    )\n",
      "    (branch2): Sequential(\n",
      "      (0): BasicConv2d(\n",
      "        (conv): Conv2d(256, 128, kernel_size=(1, 1), stride=(1, 1), bias=False)\n",
      "        (bn): BatchNorm2d(128, eps=0.001, momentum=0.1, affine=True, track_running_stats=True)\n",
      "      )\n",
      "      (1): BasicConv2d(\n",
      "        (conv): Conv2d(128, 192, kernel_size=(3, 3), stride=(1, 1), padding=(1, 1), bias=False)\n",
      "        (bn): BatchNorm2d(192, eps=0.001, momentum=0.1, affine=True, track_running_stats=True)\n",
      "      )\n",
      "    )\n",
      "    (branch3): Sequential(\n",
      "      (0): BasicConv2d(\n",
      "        (conv): Conv2d(256, 32, kernel_size=(1, 1), stride=(1, 1), bias=False)\n",
      "        (bn): BatchNorm2d(32, eps=0.001, momentum=0.1, affine=True, track_running_stats=True)\n",
      "      )\n",
      "      (1): BasicConv2d(\n",
      "        (conv): Conv2d(32, 96, kernel_size=(3, 3), stride=(1, 1), padding=(1, 1), bias=False)\n",
      "        (bn): BatchNorm2d(96, eps=0.001, momentum=0.1, affine=True, track_running_stats=True)\n",
      "      )\n",
      "    )\n",
      "    (branch4): Sequential(\n",
      "      (0): MaxPool2d(kernel_size=3, stride=1, padding=1, dilation=1, ceil_mode=True)\n",
      "      (1): BasicConv2d(\n",
      "        (conv): Conv2d(256, 64, kernel_size=(1, 1), stride=(1, 1), bias=False)\n",
      "        (bn): BatchNorm2d(64, eps=0.001, momentum=0.1, affine=True, track_running_stats=True)\n",
      "      )\n",
      "    )\n",
      "  )\n",
      "  (maxpool3): MaxPool2d(kernel_size=3, stride=2, padding=0, dilation=1, ceil_mode=True)\n",
      "  (inception4a): Inception(\n",
      "    (branch1): BasicConv2d(\n",
      "      (conv): Conv2d(480, 192, kernel_size=(1, 1), stride=(1, 1), bias=False)\n",
      "      (bn): BatchNorm2d(192, eps=0.001, momentum=0.1, affine=True, track_running_stats=True)\n",
      "    )\n",
      "    (branch2): Sequential(\n",
      "      (0): BasicConv2d(\n",
      "        (conv): Conv2d(480, 96, kernel_size=(1, 1), stride=(1, 1), bias=False)\n",
      "        (bn): BatchNorm2d(96, eps=0.001, momentum=0.1, affine=True, track_running_stats=True)\n",
      "      )\n",
      "      (1): BasicConv2d(\n",
      "        (conv): Conv2d(96, 208, kernel_size=(3, 3), stride=(1, 1), padding=(1, 1), bias=False)\n",
      "        (bn): BatchNorm2d(208, eps=0.001, momentum=0.1, affine=True, track_running_stats=True)\n",
      "      )\n",
      "    )\n",
      "    (branch3): Sequential(\n",
      "      (0): BasicConv2d(\n",
      "        (conv): Conv2d(480, 16, kernel_size=(1, 1), stride=(1, 1), bias=False)\n",
      "        (bn): BatchNorm2d(16, eps=0.001, momentum=0.1, affine=True, track_running_stats=True)\n",
      "      )\n",
      "      (1): BasicConv2d(\n",
      "        (conv): Conv2d(16, 48, kernel_size=(3, 3), stride=(1, 1), padding=(1, 1), bias=False)\n",
      "        (bn): BatchNorm2d(48, eps=0.001, momentum=0.1, affine=True, track_running_stats=True)\n",
      "      )\n",
      "    )\n",
      "    (branch4): Sequential(\n",
      "      (0): MaxPool2d(kernel_size=3, stride=1, padding=1, dilation=1, ceil_mode=True)\n",
      "      (1): BasicConv2d(\n",
      "        (conv): Conv2d(480, 64, kernel_size=(1, 1), stride=(1, 1), bias=False)\n",
      "        (bn): BatchNorm2d(64, eps=0.001, momentum=0.1, affine=True, track_running_stats=True)\n",
      "      )\n",
      "    )\n",
      "  )\n",
      "  (inception4b): Inception(\n",
      "    (branch1): BasicConv2d(\n",
      "      (conv): Conv2d(512, 160, kernel_size=(1, 1), stride=(1, 1), bias=False)\n",
      "      (bn): BatchNorm2d(160, eps=0.001, momentum=0.1, affine=True, track_running_stats=True)\n",
      "    )\n",
      "    (branch2): Sequential(\n",
      "      (0): BasicConv2d(\n",
      "        (conv): Conv2d(512, 112, kernel_size=(1, 1), stride=(1, 1), bias=False)\n",
      "        (bn): BatchNorm2d(112, eps=0.001, momentum=0.1, affine=True, track_running_stats=True)\n",
      "      )\n",
      "      (1): BasicConv2d(\n",
      "        (conv): Conv2d(112, 224, kernel_size=(3, 3), stride=(1, 1), padding=(1, 1), bias=False)\n",
      "        (bn): BatchNorm2d(224, eps=0.001, momentum=0.1, affine=True, track_running_stats=True)\n",
      "      )\n",
      "    )\n",
      "    (branch3): Sequential(\n",
      "      (0): BasicConv2d(\n",
      "        (conv): Conv2d(512, 24, kernel_size=(1, 1), stride=(1, 1), bias=False)\n",
      "        (bn): BatchNorm2d(24, eps=0.001, momentum=0.1, affine=True, track_running_stats=True)\n",
      "      )\n",
      "      (1): BasicConv2d(\n",
      "        (conv): Conv2d(24, 64, kernel_size=(3, 3), stride=(1, 1), padding=(1, 1), bias=False)\n",
      "        (bn): BatchNorm2d(64, eps=0.001, momentum=0.1, affine=True, track_running_stats=True)\n",
      "      )\n",
      "    )\n",
      "    (branch4): Sequential(\n",
      "      (0): MaxPool2d(kernel_size=3, stride=1, padding=1, dilation=1, ceil_mode=True)\n",
      "      (1): BasicConv2d(\n",
      "        (conv): Conv2d(512, 64, kernel_size=(1, 1), stride=(1, 1), bias=False)\n",
      "        (bn): BatchNorm2d(64, eps=0.001, momentum=0.1, affine=True, track_running_stats=True)\n",
      "      )\n",
      "    )\n",
      "  )\n",
      "  (inception4c): Inception(\n",
      "    (branch1): BasicConv2d(\n",
      "      (conv): Conv2d(512, 128, kernel_size=(1, 1), stride=(1, 1), bias=False)\n",
      "      (bn): BatchNorm2d(128, eps=0.001, momentum=0.1, affine=True, track_running_stats=True)\n",
      "    )\n",
      "    (branch2): Sequential(\n",
      "      (0): BasicConv2d(\n",
      "        (conv): Conv2d(512, 128, kernel_size=(1, 1), stride=(1, 1), bias=False)\n",
      "        (bn): BatchNorm2d(128, eps=0.001, momentum=0.1, affine=True, track_running_stats=True)\n",
      "      )\n",
      "      (1): BasicConv2d(\n",
      "        (conv): Conv2d(128, 256, kernel_size=(3, 3), stride=(1, 1), padding=(1, 1), bias=False)\n",
      "        (bn): BatchNorm2d(256, eps=0.001, momentum=0.1, affine=True, track_running_stats=True)\n",
      "      )\n",
      "    )\n",
      "    (branch3): Sequential(\n",
      "      (0): BasicConv2d(\n",
      "        (conv): Conv2d(512, 24, kernel_size=(1, 1), stride=(1, 1), bias=False)\n",
      "        (bn): BatchNorm2d(24, eps=0.001, momentum=0.1, affine=True, track_running_stats=True)\n",
      "      )\n",
      "      (1): BasicConv2d(\n",
      "        (conv): Conv2d(24, 64, kernel_size=(3, 3), stride=(1, 1), padding=(1, 1), bias=False)\n",
      "        (bn): BatchNorm2d(64, eps=0.001, momentum=0.1, affine=True, track_running_stats=True)\n",
      "      )\n",
      "    )\n",
      "    (branch4): Sequential(\n",
      "      (0): MaxPool2d(kernel_size=3, stride=1, padding=1, dilation=1, ceil_mode=True)\n",
      "      (1): BasicConv2d(\n",
      "        (conv): Conv2d(512, 64, kernel_size=(1, 1), stride=(1, 1), bias=False)\n",
      "        (bn): BatchNorm2d(64, eps=0.001, momentum=0.1, affine=True, track_running_stats=True)\n",
      "      )\n",
      "    )\n",
      "  )\n",
      "  (inception4d): Inception(\n",
      "    (branch1): BasicConv2d(\n",
      "      (conv): Conv2d(512, 112, kernel_size=(1, 1), stride=(1, 1), bias=False)\n",
      "      (bn): BatchNorm2d(112, eps=0.001, momentum=0.1, affine=True, track_running_stats=True)\n",
      "    )\n",
      "    (branch2): Sequential(\n",
      "      (0): BasicConv2d(\n",
      "        (conv): Conv2d(512, 144, kernel_size=(1, 1), stride=(1, 1), bias=False)\n",
      "        (bn): BatchNorm2d(144, eps=0.001, momentum=0.1, affine=True, track_running_stats=True)\n",
      "      )\n",
      "      (1): BasicConv2d(\n",
      "        (conv): Conv2d(144, 288, kernel_size=(3, 3), stride=(1, 1), padding=(1, 1), bias=False)\n",
      "        (bn): BatchNorm2d(288, eps=0.001, momentum=0.1, affine=True, track_running_stats=True)\n",
      "      )\n",
      "    )\n",
      "    (branch3): Sequential(\n",
      "      (0): BasicConv2d(\n",
      "        (conv): Conv2d(512, 32, kernel_size=(1, 1), stride=(1, 1), bias=False)\n",
      "        (bn): BatchNorm2d(32, eps=0.001, momentum=0.1, affine=True, track_running_stats=True)\n",
      "      )\n",
      "      (1): BasicConv2d(\n",
      "        (conv): Conv2d(32, 64, kernel_size=(3, 3), stride=(1, 1), padding=(1, 1), bias=False)\n",
      "        (bn): BatchNorm2d(64, eps=0.001, momentum=0.1, affine=True, track_running_stats=True)\n",
      "      )\n",
      "    )\n",
      "    (branch4): Sequential(\n",
      "      (0): MaxPool2d(kernel_size=3, stride=1, padding=1, dilation=1, ceil_mode=True)\n",
      "      (1): BasicConv2d(\n",
      "        (conv): Conv2d(512, 64, kernel_size=(1, 1), stride=(1, 1), bias=False)\n",
      "        (bn): BatchNorm2d(64, eps=0.001, momentum=0.1, affine=True, track_running_stats=True)\n",
      "      )\n",
      "    )\n",
      "  )\n",
      "  (inception4e): Inception(\n",
      "    (branch1): BasicConv2d(\n",
      "      (conv): Conv2d(528, 256, kernel_size=(1, 1), stride=(1, 1), bias=False)\n",
      "      (bn): BatchNorm2d(256, eps=0.001, momentum=0.1, affine=True, track_running_stats=True)\n",
      "    )\n",
      "    (branch2): Sequential(\n",
      "      (0): BasicConv2d(\n",
      "        (conv): Conv2d(528, 160, kernel_size=(1, 1), stride=(1, 1), bias=False)\n",
      "        (bn): BatchNorm2d(160, eps=0.001, momentum=0.1, affine=True, track_running_stats=True)\n",
      "      )\n",
      "      (1): BasicConv2d(\n",
      "        (conv): Conv2d(160, 320, kernel_size=(3, 3), stride=(1, 1), padding=(1, 1), bias=False)\n",
      "        (bn): BatchNorm2d(320, eps=0.001, momentum=0.1, affine=True, track_running_stats=True)\n",
      "      )\n",
      "    )\n",
      "    (branch3): Sequential(\n",
      "      (0): BasicConv2d(\n",
      "        (conv): Conv2d(528, 32, kernel_size=(1, 1), stride=(1, 1), bias=False)\n",
      "        (bn): BatchNorm2d(32, eps=0.001, momentum=0.1, affine=True, track_running_stats=True)\n",
      "      )\n",
      "      (1): BasicConv2d(\n",
      "        (conv): Conv2d(32, 128, kernel_size=(3, 3), stride=(1, 1), padding=(1, 1), bias=False)\n",
      "        (bn): BatchNorm2d(128, eps=0.001, momentum=0.1, affine=True, track_running_stats=True)\n",
      "      )\n",
      "    )\n",
      "    (branch4): Sequential(\n",
      "      (0): MaxPool2d(kernel_size=3, stride=1, padding=1, dilation=1, ceil_mode=True)\n",
      "      (1): BasicConv2d(\n",
      "        (conv): Conv2d(528, 128, kernel_size=(1, 1), stride=(1, 1), bias=False)\n",
      "        (bn): BatchNorm2d(128, eps=0.001, momentum=0.1, affine=True, track_running_stats=True)\n",
      "      )\n",
      "    )\n",
      "  )\n",
      "  (maxpool4): MaxPool2d(kernel_size=2, stride=2, padding=0, dilation=1, ceil_mode=True)\n",
      "  (inception5a): Inception(\n",
      "    (branch1): BasicConv2d(\n",
      "      (conv): Conv2d(832, 256, kernel_size=(1, 1), stride=(1, 1), bias=False)\n",
      "      (bn): BatchNorm2d(256, eps=0.001, momentum=0.1, affine=True, track_running_stats=True)\n",
      "    )\n",
      "    (branch2): Sequential(\n",
      "      (0): BasicConv2d(\n",
      "        (conv): Conv2d(832, 160, kernel_size=(1, 1), stride=(1, 1), bias=False)\n",
      "        (bn): BatchNorm2d(160, eps=0.001, momentum=0.1, affine=True, track_running_stats=True)\n",
      "      )\n",
      "      (1): BasicConv2d(\n",
      "        (conv): Conv2d(160, 320, kernel_size=(3, 3), stride=(1, 1), padding=(1, 1), bias=False)\n",
      "        (bn): BatchNorm2d(320, eps=0.001, momentum=0.1, affine=True, track_running_stats=True)\n",
      "      )\n",
      "    )\n",
      "    (branch3): Sequential(\n",
      "      (0): BasicConv2d(\n",
      "        (conv): Conv2d(832, 32, kernel_size=(1, 1), stride=(1, 1), bias=False)\n",
      "        (bn): BatchNorm2d(32, eps=0.001, momentum=0.1, affine=True, track_running_stats=True)\n",
      "      )\n",
      "      (1): BasicConv2d(\n",
      "        (conv): Conv2d(32, 128, kernel_size=(3, 3), stride=(1, 1), padding=(1, 1), bias=False)\n",
      "        (bn): BatchNorm2d(128, eps=0.001, momentum=0.1, affine=True, track_running_stats=True)\n",
      "      )\n",
      "    )\n",
      "    (branch4): Sequential(\n",
      "      (0): MaxPool2d(kernel_size=3, stride=1, padding=1, dilation=1, ceil_mode=True)\n",
      "      (1): BasicConv2d(\n",
      "        (conv): Conv2d(832, 128, kernel_size=(1, 1), stride=(1, 1), bias=False)\n",
      "        (bn): BatchNorm2d(128, eps=0.001, momentum=0.1, affine=True, track_running_stats=True)\n",
      "      )\n",
      "    )\n",
      "  )\n",
      "  (inception5b): Inception(\n",
      "    (branch1): BasicConv2d(\n",
      "      (conv): Conv2d(832, 384, kernel_size=(1, 1), stride=(1, 1), bias=False)\n",
      "      (bn): BatchNorm2d(384, eps=0.001, momentum=0.1, affine=True, track_running_stats=True)\n",
      "    )\n",
      "    (branch2): Sequential(\n",
      "      (0): BasicConv2d(\n",
      "        (conv): Conv2d(832, 192, kernel_size=(1, 1), stride=(1, 1), bias=False)\n",
      "        (bn): BatchNorm2d(192, eps=0.001, momentum=0.1, affine=True, track_running_stats=True)\n",
      "      )\n",
      "      (1): BasicConv2d(\n",
      "        (conv): Conv2d(192, 384, kernel_size=(3, 3), stride=(1, 1), padding=(1, 1), bias=False)\n",
      "        (bn): BatchNorm2d(384, eps=0.001, momentum=0.1, affine=True, track_running_stats=True)\n",
      "      )\n",
      "    )\n",
      "    (branch3): Sequential(\n",
      "      (0): BasicConv2d(\n",
      "        (conv): Conv2d(832, 48, kernel_size=(1, 1), stride=(1, 1), bias=False)\n",
      "        (bn): BatchNorm2d(48, eps=0.001, momentum=0.1, affine=True, track_running_stats=True)\n",
      "      )\n",
      "      (1): BasicConv2d(\n",
      "        (conv): Conv2d(48, 128, kernel_size=(3, 3), stride=(1, 1), padding=(1, 1), bias=False)\n",
      "        (bn): BatchNorm2d(128, eps=0.001, momentum=0.1, affine=True, track_running_stats=True)\n",
      "      )\n",
      "    )\n",
      "    (branch4): Sequential(\n",
      "      (0): MaxPool2d(kernel_size=3, stride=1, padding=1, dilation=1, ceil_mode=True)\n",
      "      (1): BasicConv2d(\n",
      "        (conv): Conv2d(832, 128, kernel_size=(1, 1), stride=(1, 1), bias=False)\n",
      "        (bn): BatchNorm2d(128, eps=0.001, momentum=0.1, affine=True, track_running_stats=True)\n",
      "      )\n",
      "    )\n",
      "  )\n",
      "  (aux1): None\n",
      "  (aux2): None\n",
      "  (avgpool): AdaptiveAvgPool2d(output_size=(1, 1))\n",
      "  (dropout): Dropout(p=0.2, inplace=False)\n",
      "  (fc): Linear(in_features=1024, out_features=7, bias=True)\n",
      ")\n"
     ]
    }
   ],
   "source": [
    "print(cnn)"
   ]
  },
  {
   "cell_type": "code",
   "execution_count": 10,
   "metadata": {},
   "outputs": [
    {
     "name": "stdout",
     "output_type": "stream",
     "text": [
      "----------------------------------------------------------------\n",
      "        Layer (type)               Output Shape         Param #\n",
      "================================================================\n",
      "            Conv2d-1           [-1, 64, 24, 24]           9,408\n",
      "       BatchNorm2d-2           [-1, 64, 24, 24]             128\n",
      "       BasicConv2d-3           [-1, 64, 24, 24]               0\n",
      "         MaxPool2d-4           [-1, 64, 12, 12]               0\n",
      "            Conv2d-5           [-1, 64, 12, 12]           4,096\n",
      "       BatchNorm2d-6           [-1, 64, 12, 12]             128\n",
      "       BasicConv2d-7           [-1, 64, 12, 12]               0\n",
      "            Conv2d-8          [-1, 192, 12, 12]         110,592\n",
      "       BatchNorm2d-9          [-1, 192, 12, 12]             384\n",
      "      BasicConv2d-10          [-1, 192, 12, 12]               0\n",
      "        MaxPool2d-11            [-1, 192, 6, 6]               0\n",
      "           Conv2d-12             [-1, 64, 6, 6]          12,288\n",
      "      BatchNorm2d-13             [-1, 64, 6, 6]             128\n",
      "      BasicConv2d-14             [-1, 64, 6, 6]               0\n",
      "           Conv2d-15             [-1, 96, 6, 6]          18,432\n",
      "      BatchNorm2d-16             [-1, 96, 6, 6]             192\n",
      "      BasicConv2d-17             [-1, 96, 6, 6]               0\n",
      "           Conv2d-18            [-1, 128, 6, 6]         110,592\n",
      "      BatchNorm2d-19            [-1, 128, 6, 6]             256\n",
      "      BasicConv2d-20            [-1, 128, 6, 6]               0\n",
      "           Conv2d-21             [-1, 16, 6, 6]           3,072\n",
      "      BatchNorm2d-22             [-1, 16, 6, 6]              32\n",
      "      BasicConv2d-23             [-1, 16, 6, 6]               0\n",
      "           Conv2d-24             [-1, 32, 6, 6]           4,608\n",
      "      BatchNorm2d-25             [-1, 32, 6, 6]              64\n",
      "      BasicConv2d-26             [-1, 32, 6, 6]               0\n",
      "        MaxPool2d-27            [-1, 192, 6, 6]               0\n",
      "           Conv2d-28             [-1, 32, 6, 6]           6,144\n",
      "      BatchNorm2d-29             [-1, 32, 6, 6]              64\n",
      "      BasicConv2d-30             [-1, 32, 6, 6]               0\n",
      "        Inception-31            [-1, 256, 6, 6]               0\n",
      "           Conv2d-32            [-1, 128, 6, 6]          32,768\n",
      "      BatchNorm2d-33            [-1, 128, 6, 6]             256\n",
      "      BasicConv2d-34            [-1, 128, 6, 6]               0\n",
      "           Conv2d-35            [-1, 128, 6, 6]          32,768\n",
      "      BatchNorm2d-36            [-1, 128, 6, 6]             256\n",
      "      BasicConv2d-37            [-1, 128, 6, 6]               0\n",
      "           Conv2d-38            [-1, 192, 6, 6]         221,184\n",
      "      BatchNorm2d-39            [-1, 192, 6, 6]             384\n",
      "      BasicConv2d-40            [-1, 192, 6, 6]               0\n",
      "           Conv2d-41             [-1, 32, 6, 6]           8,192\n",
      "      BatchNorm2d-42             [-1, 32, 6, 6]              64\n",
      "      BasicConv2d-43             [-1, 32, 6, 6]               0\n",
      "           Conv2d-44             [-1, 96, 6, 6]          27,648\n",
      "      BatchNorm2d-45             [-1, 96, 6, 6]             192\n",
      "      BasicConv2d-46             [-1, 96, 6, 6]               0\n",
      "        MaxPool2d-47            [-1, 256, 6, 6]               0\n",
      "           Conv2d-48             [-1, 64, 6, 6]          16,384\n",
      "      BatchNorm2d-49             [-1, 64, 6, 6]             128\n",
      "      BasicConv2d-50             [-1, 64, 6, 6]               0\n",
      "        Inception-51            [-1, 480, 6, 6]               0\n",
      "        MaxPool2d-52            [-1, 480, 3, 3]               0\n",
      "           Conv2d-53            [-1, 192, 3, 3]          92,160\n",
      "      BatchNorm2d-54            [-1, 192, 3, 3]             384\n",
      "      BasicConv2d-55            [-1, 192, 3, 3]               0\n",
      "           Conv2d-56             [-1, 96, 3, 3]          46,080\n",
      "      BatchNorm2d-57             [-1, 96, 3, 3]             192\n",
      "      BasicConv2d-58             [-1, 96, 3, 3]               0\n",
      "           Conv2d-59            [-1, 208, 3, 3]         179,712\n",
      "      BatchNorm2d-60            [-1, 208, 3, 3]             416\n",
      "      BasicConv2d-61            [-1, 208, 3, 3]               0\n",
      "           Conv2d-62             [-1, 16, 3, 3]           7,680\n",
      "      BatchNorm2d-63             [-1, 16, 3, 3]              32\n",
      "      BasicConv2d-64             [-1, 16, 3, 3]               0\n",
      "           Conv2d-65             [-1, 48, 3, 3]           6,912\n",
      "      BatchNorm2d-66             [-1, 48, 3, 3]              96\n",
      "      BasicConv2d-67             [-1, 48, 3, 3]               0\n",
      "        MaxPool2d-68            [-1, 480, 3, 3]               0\n",
      "           Conv2d-69             [-1, 64, 3, 3]          30,720\n",
      "      BatchNorm2d-70             [-1, 64, 3, 3]             128\n",
      "      BasicConv2d-71             [-1, 64, 3, 3]               0\n",
      "        Inception-72            [-1, 512, 3, 3]               0\n",
      "           Conv2d-73            [-1, 160, 3, 3]          81,920\n",
      "      BatchNorm2d-74            [-1, 160, 3, 3]             320\n",
      "      BasicConv2d-75            [-1, 160, 3, 3]               0\n",
      "           Conv2d-76            [-1, 112, 3, 3]          57,344\n",
      "      BatchNorm2d-77            [-1, 112, 3, 3]             224\n",
      "      BasicConv2d-78            [-1, 112, 3, 3]               0\n",
      "           Conv2d-79            [-1, 224, 3, 3]         225,792\n",
      "      BatchNorm2d-80            [-1, 224, 3, 3]             448\n",
      "      BasicConv2d-81            [-1, 224, 3, 3]               0\n",
      "           Conv2d-82             [-1, 24, 3, 3]          12,288\n",
      "      BatchNorm2d-83             [-1, 24, 3, 3]              48\n",
      "      BasicConv2d-84             [-1, 24, 3, 3]               0\n",
      "           Conv2d-85             [-1, 64, 3, 3]          13,824\n",
      "      BatchNorm2d-86             [-1, 64, 3, 3]             128\n",
      "      BasicConv2d-87             [-1, 64, 3, 3]               0\n",
      "        MaxPool2d-88            [-1, 512, 3, 3]               0\n",
      "           Conv2d-89             [-1, 64, 3, 3]          32,768\n",
      "      BatchNorm2d-90             [-1, 64, 3, 3]             128\n",
      "      BasicConv2d-91             [-1, 64, 3, 3]               0\n",
      "        Inception-92            [-1, 512, 3, 3]               0\n",
      "           Conv2d-93            [-1, 128, 3, 3]          65,536\n",
      "      BatchNorm2d-94            [-1, 128, 3, 3]             256\n",
      "      BasicConv2d-95            [-1, 128, 3, 3]               0\n",
      "           Conv2d-96            [-1, 128, 3, 3]          65,536\n",
      "      BatchNorm2d-97            [-1, 128, 3, 3]             256\n",
      "      BasicConv2d-98            [-1, 128, 3, 3]               0\n",
      "           Conv2d-99            [-1, 256, 3, 3]         294,912\n",
      "     BatchNorm2d-100            [-1, 256, 3, 3]             512\n",
      "     BasicConv2d-101            [-1, 256, 3, 3]               0\n",
      "          Conv2d-102             [-1, 24, 3, 3]          12,288\n",
      "     BatchNorm2d-103             [-1, 24, 3, 3]              48\n",
      "     BasicConv2d-104             [-1, 24, 3, 3]               0\n",
      "          Conv2d-105             [-1, 64, 3, 3]          13,824\n",
      "     BatchNorm2d-106             [-1, 64, 3, 3]             128\n",
      "     BasicConv2d-107             [-1, 64, 3, 3]               0\n",
      "       MaxPool2d-108            [-1, 512, 3, 3]               0\n",
      "          Conv2d-109             [-1, 64, 3, 3]          32,768\n",
      "     BatchNorm2d-110             [-1, 64, 3, 3]             128\n",
      "     BasicConv2d-111             [-1, 64, 3, 3]               0\n",
      "       Inception-112            [-1, 512, 3, 3]               0\n",
      "          Conv2d-113            [-1, 112, 3, 3]          57,344\n",
      "     BatchNorm2d-114            [-1, 112, 3, 3]             224\n",
      "     BasicConv2d-115            [-1, 112, 3, 3]               0\n",
      "          Conv2d-116            [-1, 144, 3, 3]          73,728\n",
      "     BatchNorm2d-117            [-1, 144, 3, 3]             288\n",
      "     BasicConv2d-118            [-1, 144, 3, 3]               0\n",
      "          Conv2d-119            [-1, 288, 3, 3]         373,248\n",
      "     BatchNorm2d-120            [-1, 288, 3, 3]             576\n",
      "     BasicConv2d-121            [-1, 288, 3, 3]               0\n",
      "          Conv2d-122             [-1, 32, 3, 3]          16,384\n",
      "     BatchNorm2d-123             [-1, 32, 3, 3]              64\n",
      "     BasicConv2d-124             [-1, 32, 3, 3]               0\n",
      "          Conv2d-125             [-1, 64, 3, 3]          18,432\n",
      "     BatchNorm2d-126             [-1, 64, 3, 3]             128\n",
      "     BasicConv2d-127             [-1, 64, 3, 3]               0\n",
      "       MaxPool2d-128            [-1, 512, 3, 3]               0\n",
      "          Conv2d-129             [-1, 64, 3, 3]          32,768\n",
      "     BatchNorm2d-130             [-1, 64, 3, 3]             128\n",
      "     BasicConv2d-131             [-1, 64, 3, 3]               0\n",
      "       Inception-132            [-1, 528, 3, 3]               0\n",
      "          Conv2d-133            [-1, 256, 3, 3]         135,168\n",
      "     BatchNorm2d-134            [-1, 256, 3, 3]             512\n",
      "     BasicConv2d-135            [-1, 256, 3, 3]               0\n",
      "          Conv2d-136            [-1, 160, 3, 3]          84,480\n",
      "     BatchNorm2d-137            [-1, 160, 3, 3]             320\n",
      "     BasicConv2d-138            [-1, 160, 3, 3]               0\n",
      "          Conv2d-139            [-1, 320, 3, 3]         460,800\n",
      "     BatchNorm2d-140            [-1, 320, 3, 3]             640\n",
      "     BasicConv2d-141            [-1, 320, 3, 3]               0\n",
      "          Conv2d-142             [-1, 32, 3, 3]          16,896\n",
      "     BatchNorm2d-143             [-1, 32, 3, 3]              64\n",
      "     BasicConv2d-144             [-1, 32, 3, 3]               0\n",
      "          Conv2d-145            [-1, 128, 3, 3]          36,864\n",
      "     BatchNorm2d-146            [-1, 128, 3, 3]             256\n",
      "     BasicConv2d-147            [-1, 128, 3, 3]               0\n",
      "       MaxPool2d-148            [-1, 528, 3, 3]               0\n",
      "          Conv2d-149            [-1, 128, 3, 3]          67,584\n",
      "     BatchNorm2d-150            [-1, 128, 3, 3]             256\n",
      "     BasicConv2d-151            [-1, 128, 3, 3]               0\n",
      "       Inception-152            [-1, 832, 3, 3]               0\n",
      "       MaxPool2d-153            [-1, 832, 2, 2]               0\n",
      "          Conv2d-154            [-1, 256, 2, 2]         212,992\n",
      "     BatchNorm2d-155            [-1, 256, 2, 2]             512\n",
      "     BasicConv2d-156            [-1, 256, 2, 2]               0\n",
      "          Conv2d-157            [-1, 160, 2, 2]         133,120\n",
      "     BatchNorm2d-158            [-1, 160, 2, 2]             320\n",
      "     BasicConv2d-159            [-1, 160, 2, 2]               0\n",
      "          Conv2d-160            [-1, 320, 2, 2]         460,800\n",
      "     BatchNorm2d-161            [-1, 320, 2, 2]             640\n",
      "     BasicConv2d-162            [-1, 320, 2, 2]               0\n",
      "          Conv2d-163             [-1, 32, 2, 2]          26,624\n",
      "     BatchNorm2d-164             [-1, 32, 2, 2]              64\n",
      "     BasicConv2d-165             [-1, 32, 2, 2]               0\n",
      "          Conv2d-166            [-1, 128, 2, 2]          36,864\n",
      "     BatchNorm2d-167            [-1, 128, 2, 2]             256\n",
      "     BasicConv2d-168            [-1, 128, 2, 2]               0\n",
      "       MaxPool2d-169            [-1, 832, 2, 2]               0\n",
      "          Conv2d-170            [-1, 128, 2, 2]         106,496\n",
      "     BatchNorm2d-171            [-1, 128, 2, 2]             256\n",
      "     BasicConv2d-172            [-1, 128, 2, 2]               0\n",
      "       Inception-173            [-1, 832, 2, 2]               0\n",
      "          Conv2d-174            [-1, 384, 2, 2]         319,488\n",
      "     BatchNorm2d-175            [-1, 384, 2, 2]             768\n",
      "     BasicConv2d-176            [-1, 384, 2, 2]               0\n",
      "          Conv2d-177            [-1, 192, 2, 2]         159,744\n",
      "     BatchNorm2d-178            [-1, 192, 2, 2]             384\n",
      "     BasicConv2d-179            [-1, 192, 2, 2]               0\n",
      "          Conv2d-180            [-1, 384, 2, 2]         663,552\n",
      "     BatchNorm2d-181            [-1, 384, 2, 2]             768\n",
      "     BasicConv2d-182            [-1, 384, 2, 2]               0\n",
      "          Conv2d-183             [-1, 48, 2, 2]          39,936\n",
      "     BatchNorm2d-184             [-1, 48, 2, 2]              96\n",
      "     BasicConv2d-185             [-1, 48, 2, 2]               0\n",
      "          Conv2d-186            [-1, 128, 2, 2]          55,296\n",
      "     BatchNorm2d-187            [-1, 128, 2, 2]             256\n",
      "     BasicConv2d-188            [-1, 128, 2, 2]               0\n",
      "       MaxPool2d-189            [-1, 832, 2, 2]               0\n",
      "          Conv2d-190            [-1, 128, 2, 2]         106,496\n",
      "     BatchNorm2d-191            [-1, 128, 2, 2]             256\n",
      "     BasicConv2d-192            [-1, 128, 2, 2]               0\n",
      "       Inception-193           [-1, 1024, 2, 2]               0\n",
      "AdaptiveAvgPool2d-194           [-1, 1024, 1, 1]               0\n",
      "         Dropout-195                 [-1, 1024]               0\n",
      "          Linear-196                    [-1, 7]           7,175\n",
      "================================================================\n",
      "Total params: 5,607,079\n",
      "Trainable params: 5,607,079\n",
      "Non-trainable params: 0\n",
      "----------------------------------------------------------------\n",
      "Input size (MB): 0.03\n",
      "Forward/backward pass size (MB): 4.49\n",
      "Params size (MB): 21.39\n",
      "Estimated Total Size (MB): 25.90\n",
      "----------------------------------------------------------------\n"
     ]
    }
   ],
   "source": [
    "summary(cnn, input_size=(3, 48, 48), device=DEVICE.type)"
   ]
  },
  {
   "cell_type": "code",
   "execution_count": 11,
   "metadata": {},
   "outputs": [],
   "source": [
    "LR = 0.1\n",
    "EPOCHS = 50"
   ]
  },
  {
   "cell_type": "code",
   "execution_count": 12,
   "metadata": {},
   "outputs": [],
   "source": [
    "criterion = nn.CrossEntropyLoss()\n",
    "optimizer = optim.SGD(model.parameters(), lr=LR)"
   ]
  },
  {
   "cell_type": "code",
   "execution_count": 13,
   "metadata": {},
   "outputs": [],
   "source": [
    "def multiclass_accuracy(y_pred,y_true):\n",
    "    top_p,top_class = y_pred.topk(1,dim = 1)\n",
    "    equals = top_class == y_true.view(*top_class.shape)\n",
    "    return torch.mean(equals.type(torch.cuda.FloatTensor))"
   ]
  },
  {
   "cell_type": "code",
   "execution_count": 14,
   "metadata": {},
   "outputs": [],
   "source": [
    "def train_model(model, current_epoch, training_loader, optimizer, criterion, DEVICE):\n",
    "    \"\"\"\n",
    "    Function to train the model for one epoch.\n",
    "    \"\"\"\n",
    "    model.train()  # Set model to training mode\n",
    "    running_loss = 0.0\n",
    "    running_acc = 0.0\n",
    "    tk = tqdm(training_loader, desc=\"EPOCH\" + \"[TRAIN]\" + str(current_epoch + 1) + \"/\" + str(EPOCHS))\n",
    "    \n",
    "    for t, data in enumerate(tk):\n",
    "        # Transfer images and labels to the specified device\n",
    "        images, labels = data\n",
    "        images, labels = images.to(DEVICE), labels.to(DEVICE)\n",
    "        \n",
    "        # Prepare the data for input\n",
    "        #train = Variable(images.view(images.size(0), 1, 48, 48))\n",
    "        train = images\n",
    "        labels = Variable(labels)\n",
    "\n",
    "        # Reset gradients\n",
    "        optimizer.zero_grad()\n",
    "\n",
    "        # Forward pass\n",
    "        outputs = model(train)\n",
    "        loss = criterion(outputs, labels)\n",
    "        \n",
    "\n",
    "        # Backward pass and optimize\n",
    "        loss.backward()\n",
    "        optimizer.step()\n",
    "\n",
    "        running_loss += loss.item() # Total loss\n",
    "        running_acc += multiclass_accuracy(outputs, labels)\n",
    "\n",
    "        tk.set_postfix({'loss': '%6f' % float(running_loss / (t + 1)), 'acc': '%6f' % float(running_acc / (t + 1))})\n",
    "    \n",
    "    return running_loss / len(training_loader), running_acc / len(training_loader)"
   ]
  },
  {
   "cell_type": "code",
   "execution_count": 15,
   "metadata": {},
   "outputs": [],
   "source": [
    "def test_model(model, current_epoch, test_loader, DEVICE):\n",
    "    \"\"\"\n",
    "    Function to test the model and compute accuracy.\n",
    "    \"\"\"\n",
    "    model.eval()  # Set model to evaluation mode\n",
    "    correct = 0\n",
    "    total = 0\n",
    "    predictions_list = []\n",
    "    labels_list = []\n",
    "    running_loss = 0.0\n",
    "    running_acc = 0.0\n",
    "\n",
    "    tk = tqdm(test_loader, desc=\"EPOCH\" + \"[VALID]\" + str(current_epoch + 1) + \"/\" + str(EPOCHS))\n",
    "\n",
    "    with torch.no_grad():  # Disable gradient calculation for testing\n",
    "        for t, data in enumerate(tk):\n",
    "            images, labels = data\n",
    "            images, labels = images.to(DEVICE), labels.to(DEVICE)\n",
    "            labels_list.append(labels)\n",
    "\n",
    "            #test = images.view(images.size(0), 1, 48, 48)\n",
    "            test = images\n",
    "            \n",
    "            # Forward pass\n",
    "            outputs = model(test)\n",
    "            loss = criterion(outputs, labels)\n",
    "\n",
    "            # Get predictions\n",
    "            predictions = torch.max(outputs, 1)[1].to(DEVICE)\n",
    "            predictions_list.append(predictions)\n",
    "            correct += (predictions == labels).sum().item()\n",
    "            total += len(labels)\n",
    "\n",
    "            running_loss += loss.item()\n",
    "            running_acc += multiclass_accuracy(outputs, labels)\n",
    "            tk.set_postfix({'loss': '%6f' %float(running_loss / (t+1)), 'acc': '%6f' %float(running_acc / (t+1)), })\n",
    "\n",
    "    #accuracy = 100 * correct / total\n",
    "    return running_loss / len(test_loader), running_acc / len(test_loader), predictions_list, labels_list, \n"
   ]
  },
  {
   "cell_type": "code",
   "execution_count": 16,
   "metadata": {},
   "outputs": [],
   "source": [
    "# Reduce LR on Plateau\n",
    "# Reduces the learning rate when a monitored metric (e.g., validation loss) stops improving.\n",
    "scheduler = torch.optim.lr_scheduler.ReduceLROnPlateau(optimizer, mode='min', patience=3, factor=0.1)\n"
   ]
  },
  {
   "cell_type": "code",
   "execution_count": 17,
   "metadata": {},
   "outputs": [
    {
     "name": "stdout",
     "output_type": "stream",
     "text": [
      "Epoch 1, LR: 0.1\n",
      "\n"
     ]
    },
    {
     "name": "stderr",
     "output_type": "stream",
     "text": [
      "EPOCH[TRAIN]1/50: 100%|██████████| 226/226 [01:09<00:00,  3.24it/s, loss=1.528098, acc=0.402308]\n",
      "EPOCH[VALID]1/50: 100%|██████████| 56/56 [00:12<00:00,  4.57it/s, loss=1.761794, acc=0.346154]\n"
     ]
    },
    {
     "name": "stdout",
     "output_type": "stream",
     "text": [
      "SAVED-BEST-WEIGHTS\n",
      "Epoch 2, LR: 0.1\n",
      "\n"
     ]
    },
    {
     "name": "stderr",
     "output_type": "stream",
     "text": [
      "EPOCH[TRAIN]2/50: 100%|██████████| 226/226 [01:47<00:00,  2.09it/s, loss=1.277870, acc=0.512104]\n",
      "EPOCH[VALID]2/50: 100%|██████████| 56/56 [00:23<00:00,  2.40it/s, loss=1.283843, acc=0.498616]\n"
     ]
    },
    {
     "name": "stdout",
     "output_type": "stream",
     "text": [
      "SAVED-BEST-WEIGHTS\n",
      "Epoch 3, LR: 0.1\n",
      "\n"
     ]
    },
    {
     "name": "stderr",
     "output_type": "stream",
     "text": [
      "EPOCH[TRAIN]3/50: 100%|██████████| 226/226 [02:16<00:00,  1.65it/s, loss=1.162950, acc=0.557520]\n",
      "EPOCH[VALID]3/50: 100%|██████████| 56/56 [00:26<00:00,  2.10it/s, loss=1.335429, acc=0.481156]\n"
     ]
    },
    {
     "name": "stdout",
     "output_type": "stream",
     "text": [
      "No improvement in validation loss for 1 epoch(s).\n",
      "Epoch 4, LR: 0.1\n",
      "\n"
     ]
    },
    {
     "name": "stderr",
     "output_type": "stream",
     "text": [
      "EPOCH[TRAIN]4/50: 100%|██████████| 226/226 [02:07<00:00,  1.77it/s, loss=1.091534, acc=0.586505]\n",
      "EPOCH[VALID]4/50: 100%|██████████| 56/56 [00:17<00:00,  3.13it/s, loss=1.180425, acc=0.564861]\n"
     ]
    },
    {
     "name": "stdout",
     "output_type": "stream",
     "text": [
      "SAVED-BEST-WEIGHTS\n",
      "Epoch 5, LR: 0.1\n",
      "\n"
     ]
    },
    {
     "name": "stderr",
     "output_type": "stream",
     "text": [
      "EPOCH[TRAIN]5/50: 100%|██████████| 226/226 [01:17<00:00,  2.91it/s, loss=1.036440, acc=0.608717]\n",
      "EPOCH[VALID]5/50: 100%|██████████| 56/56 [00:11<00:00,  4.85it/s, loss=1.143197, acc=0.563498]\n"
     ]
    },
    {
     "name": "stdout",
     "output_type": "stream",
     "text": [
      "SAVED-BEST-WEIGHTS\n",
      "Epoch 6, LR: 0.1\n",
      "\n"
     ]
    },
    {
     "name": "stderr",
     "output_type": "stream",
     "text": [
      "EPOCH[TRAIN]6/50: 100%|██████████| 226/226 [01:04<00:00,  3.53it/s, loss=0.988151, acc=0.627328]\n",
      "EPOCH[VALID]6/50: 100%|██████████| 56/56 [00:11<00:00,  4.78it/s, loss=1.147900, acc=0.579220]\n"
     ]
    },
    {
     "name": "stdout",
     "output_type": "stream",
     "text": [
      "No improvement in validation loss for 1 epoch(s).\n",
      "Epoch 7, LR: 0.1\n",
      "\n"
     ]
    },
    {
     "name": "stderr",
     "output_type": "stream",
     "text": [
      "EPOCH[TRAIN]7/50: 100%|██████████| 226/226 [01:06<00:00,  3.40it/s, loss=0.947460, acc=0.646513]\n",
      "EPOCH[VALID]7/50: 100%|██████████| 56/56 [00:13<00:00,  4.22it/s, loss=1.295872, acc=0.528428]\n"
     ]
    },
    {
     "name": "stdout",
     "output_type": "stream",
     "text": [
      "No improvement in validation loss for 2 epoch(s).\n",
      "Epoch 8, LR: 0.1\n",
      "\n"
     ]
    },
    {
     "name": "stderr",
     "output_type": "stream",
     "text": [
      "EPOCH[TRAIN]8/50: 100%|██████████| 226/226 [01:08<00:00,  3.29it/s, loss=0.919671, acc=0.656849]\n",
      "EPOCH[VALID]8/50: 100%|██████████| 56/56 [00:12<00:00,  4.55it/s, loss=1.150710, acc=0.582010]\n"
     ]
    },
    {
     "name": "stdout",
     "output_type": "stream",
     "text": [
      "No improvement in validation loss for 3 epoch(s).\n",
      "Epoch 9, LR: 0.1\n",
      "\n"
     ]
    },
    {
     "name": "stderr",
     "output_type": "stream",
     "text": [
      "EPOCH[TRAIN]9/50: 100%|██████████| 226/226 [01:08<00:00,  3.30it/s, loss=0.873481, acc=0.672509]\n",
      "EPOCH[VALID]9/50: 100%|██████████| 56/56 [00:12<00:00,  4.45it/s, loss=1.219570, acc=0.571107]\n"
     ]
    },
    {
     "name": "stdout",
     "output_type": "stream",
     "text": [
      "No improvement in validation loss for 4 epoch(s).\n",
      "Epoch 10, LR: 0.010000000000000002\n",
      "\n"
     ]
    },
    {
     "name": "stderr",
     "output_type": "stream",
     "text": [
      "EPOCH[TRAIN]10/50: 100%|██████████| 226/226 [01:10<00:00,  3.21it/s, loss=0.798669, acc=0.701546]\n",
      "EPOCH[VALID]10/50: 100%|██████████| 56/56 [00:12<00:00,  4.45it/s, loss=1.005422, acc=0.640818]\n"
     ]
    },
    {
     "name": "stdout",
     "output_type": "stream",
     "text": [
      "SAVED-BEST-WEIGHTS\n",
      "Epoch 11, LR: 0.010000000000000002\n",
      "\n"
     ]
    },
    {
     "name": "stderr",
     "output_type": "stream",
     "text": [
      "EPOCH[TRAIN]11/50: 100%|██████████| 226/226 [01:05<00:00,  3.45it/s, loss=0.750566, acc=0.722243]\n",
      "EPOCH[VALID]11/50: 100%|██████████| 56/56 [00:11<00:00,  4.70it/s, loss=1.007511, acc=0.638189]\n"
     ]
    },
    {
     "name": "stdout",
     "output_type": "stream",
     "text": [
      "No improvement in validation loss for 1 epoch(s).\n",
      "Epoch 12, LR: 0.010000000000000002\n",
      "\n"
     ]
    },
    {
     "name": "stderr",
     "output_type": "stream",
     "text": [
      "EPOCH[TRAIN]12/50: 100%|██████████| 226/226 [01:05<00:00,  3.48it/s, loss=0.727074, acc=0.731099]\n",
      "EPOCH[VALID]12/50: 100%|██████████| 56/56 [00:11<00:00,  4.74it/s, loss=1.023965, acc=0.635624]\n"
     ]
    },
    {
     "name": "stdout",
     "output_type": "stream",
     "text": [
      "No improvement in validation loss for 2 epoch(s).\n",
      "Epoch 13, LR: 0.010000000000000002\n",
      "\n"
     ]
    },
    {
     "name": "stderr",
     "output_type": "stream",
     "text": [
      "EPOCH[TRAIN]13/50: 100%|██████████| 226/226 [01:08<00:00,  3.28it/s, loss=0.704034, acc=0.739402]\n",
      "EPOCH[VALID]13/50: 100%|██████████| 56/56 [00:12<00:00,  4.33it/s, loss=1.023888, acc=0.642256]\n"
     ]
    },
    {
     "name": "stdout",
     "output_type": "stream",
     "text": [
      "No improvement in validation loss for 3 epoch(s).\n",
      "Epoch 14, LR: 0.010000000000000002\n",
      "\n"
     ]
    },
    {
     "name": "stderr",
     "output_type": "stream",
     "text": [
      "EPOCH[TRAIN]14/50: 100%|██████████| 226/226 [01:13<00:00,  3.08it/s, loss=0.697949, acc=0.744979]\n",
      "EPOCH[VALID]14/50: 100%|██████████| 56/56 [00:12<00:00,  4.64it/s, loss=1.030733, acc=0.639734]\n"
     ]
    },
    {
     "name": "stdout",
     "output_type": "stream",
     "text": [
      "No improvement in validation loss for 4 epoch(s).\n",
      "Epoch 15, LR: 0.0010000000000000002\n",
      "\n"
     ]
    },
    {
     "name": "stderr",
     "output_type": "stream",
     "text": [
      "EPOCH[TRAIN]15/50: 100%|██████████| 226/226 [01:11<00:00,  3.16it/s, loss=0.678037, acc=0.749801]\n",
      "EPOCH[VALID]15/50: 100%|██████████| 56/56 [00:12<00:00,  4.57it/s, loss=1.029506, acc=0.644295]\n"
     ]
    },
    {
     "name": "stdout",
     "output_type": "stream",
     "text": [
      "No improvement in validation loss for 5 epoch(s).\n",
      "Epoch 16, LR: 0.0010000000000000002\n",
      "\n"
     ]
    },
    {
     "name": "stderr",
     "output_type": "stream",
     "text": [
      "EPOCH[TRAIN]16/50: 100%|██████████| 226/226 [01:05<00:00,  3.43it/s, loss=0.670138, acc=0.751709]\n",
      "EPOCH[VALID]16/50: 100%|██████████| 56/56 [00:11<00:00,  4.71it/s, loss=1.032635, acc=0.642685]"
     ]
    },
    {
     "name": "stdout",
     "output_type": "stream",
     "text": [
      "No improvement in validation loss for 6 epoch(s).\n",
      "Patience exceeded. Early stopping at epoch 16\n",
      "Early stopping triggered. Stopping training.\n"
     ]
    },
    {
     "name": "stderr",
     "output_type": "stream",
     "text": [
      "\n"
     ]
    }
   ],
   "source": [
    "# Main training loop\n",
    "\n",
    "# Dictionary to store loss values over epochs\n",
    "metrics_loss = {\n",
    "    'training_loss': [],\n",
    "    'validation_loss': []\n",
    "}\n",
    "# Dictionary to store accuracy values over epochs\n",
    "metrics_accuracy = {\n",
    "    'training_accuracy': [],\n",
    "    'validation_accuracy': []\n",
    "}\n",
    "\n",
    "iteration_list = []\n",
    "count = 0\n",
    "best_valid_loss = np.inf\n",
    "patience_counter = 0   # Tracks the number of epochs without improvement\n",
    "early_stop = False # Flag to indicate whether to stop training\n",
    "patience = 6\n",
    "\n",
    "for current_epoch in range(EPOCHS):\n",
    "    if early_stop:\n",
    "        print(\"Early stopping triggered. Stopping training.\")\n",
    "        break\n",
    "    print(f\"Epoch {current_epoch + 1}, LR: {scheduler.optimizer.param_groups[0]['lr']}\")\n",
    "    print(\"\")\n",
    "    \n",
    "    # Training step\n",
    "    train_loss, train_accuracy = train_model(cnn, current_epoch, training_loader, optimizer, criterion, DEVICE)\n",
    "    \n",
    "    # Increment count for iterations\n",
    "    count += len(training_loader)\n",
    "\n",
    "    valid_loss, valid_accuracy, predictions_list, labels_list,  = test_model(cnn, current_epoch, test_loader, DEVICE)\n",
    "\n",
    "    # Record metrics\n",
    "    metrics_loss['training_loss'].append(train_loss)\n",
    "    metrics_loss['validation_loss'].append(valid_loss)\n",
    "\n",
    "    metrics_accuracy['training_accuracy'].append(train_accuracy)\n",
    "    metrics_accuracy['validation_accuracy'].append(valid_accuracy)\n",
    "\n",
    "    iteration_list.append(count)\n",
    "\n",
    "    # Update the learning rate based on validation loss and print\n",
    "    scheduler.step(valid_loss)\n",
    "    \n",
    "\n",
    "    if valid_loss < best_valid_loss:\n",
    "        torch.save(cnn.state_dict(), 'best_weights_googlenet_sgd.pt')\n",
    "        print(\"SAVED-BEST-WEIGHTS\")\n",
    "        best_valid_loss = valid_loss\n",
    "        patience_counter = 0 # Reset early stopping\n",
    "    else:\n",
    "        patience_counter += 1\n",
    "        print(f\"No improvement in validation loss for {patience_counter} epoch(s).\")\n",
    "\n",
    "    if patience_counter >= patience:\n",
    "        print(\"Patience exceeded. Early stopping at epoch \" +str(current_epoch + 1))\n",
    "        early_stop = True\n"
   ]
  },
  {
   "cell_type": "code",
   "execution_count": 18,
   "metadata": {},
   "outputs": [],
   "source": [
    "import importlib\n",
    "import visualization_plots"
   ]
  },
  {
   "cell_type": "code",
   "execution_count": 19,
   "metadata": {},
   "outputs": [
    {
     "data": {
      "text/plain": [
       "<module 'visualization_plots' from 'c:\\\\Python_Codes\\\\cpe520\\\\visualization_plots.py'>"
      ]
     },
     "execution_count": 19,
     "metadata": {},
     "output_type": "execute_result"
    }
   ],
   "source": [
    "importlib.reload(visualization_plots)"
   ]
  },
  {
   "cell_type": "markdown",
   "metadata": {},
   "source": [
    "### SGD Optimizer"
   ]
  },
  {
   "cell_type": "markdown",
   "metadata": {},
   "source": [
    "#### ROC Curve"
   ]
  },
  {
   "cell_type": "markdown",
   "metadata": {},
   "source": [
    "#### Plot of Accuracy over epochs"
   ]
  },
  {
   "cell_type": "code",
   "execution_count": 21,
   "metadata": {},
   "outputs": [
    {
     "data": {
      "image/png": "[encoded data removed]",
      "text/plain": [
       "<Figure size 600x400 with 1 Axes>"
      ]
     },
     "metadata": {},
     "output_type": "display_data"
    }
   ],
   "source": [
    "visualization_plots.plot_accuracy(metrics_accuracy, model_extra_desc=\"GoogLeNet with SGD and LR from 0.1\")"
   ]
  },
  {
   "cell_type": "markdown",
   "metadata": {},
   "source": [
    "#### Plot of Loss over epochs"
   ]
  },
  {
   "cell_type": "code",
   "execution_count": 22,
   "metadata": {},
   "outputs": [
    {
     "data": {
      "image/png": "[encoded data removed]",
      "text/plain": [
       "<Figure size 600x400 with 1 Axes>"
      ]
     },
     "metadata": {},
     "output_type": "display_data"
    }
   ],
   "source": [
    "visualization_plots.plot_loss(metrics_loss, model_extra_desc=\"GoogLeNet with SGD and LR from 0.1\")"
   ]
  },
  {
   "cell_type": "markdown",
   "metadata": {},
   "source": [
    "#### Looking at the Accuracy in each class of dataset"
   ]
  },
  {
   "cell_type": "code",
   "execution_count": 67,
   "metadata": {},
   "outputs": [
    {
     "data": {
      "text/plain": [
       "{0: 'angry',\n",
       " 1: 'disgust',\n",
       " 2: 'fear',\n",
       " 3: 'happy',\n",
       " 4: 'neutral',\n",
       " 5: 'sad',\n",
       " 6: 'surprise'}"
      ]
     },
     "execution_count": 67,
     "metadata": {},
     "output_type": "execute_result"
    }
   ],
   "source": [
    "label_classes = training_set.class_to_idx\n",
    "# Switch keys and values\n",
    "label_classes = {value: key for key, value in label_classes.items()}\n",
    "label_classes"
   ]
  },
  {
   "cell_type": "code",
   "execution_count": 68,
   "metadata": {},
   "outputs": [
    {
     "name": "stdout",
     "output_type": "stream",
     "text": [
      "Accuracy of angry: 59.062%\n",
      "Accuracy of disgust: 62.162%\n",
      "Accuracy of fear: 50.884%\n",
      "Accuracy of happy: 87.562%\n",
      "Accuracy of neutral: 62.253%\n",
      "Accuracy of sad: 56.014%\n",
      "Accuracy of surprise: 79.548%\n"
     ]
    }
   ],
   "source": [
    "class_correct = [0. for _ in range(num_classes)]\n",
    "total_correct = [0. for _ in range(num_classes)]\n",
    "\n",
    "with torch.no_grad():\n",
    "    for images, labels in test_loader:\n",
    "        images, labels = images.to(DEVICE), labels.to(DEVICE)\n",
    "        test = images\n",
    "        outputs = cnn(test)\n",
    "        predicted = torch.max(outputs, 1)[1]\n",
    "        c = (predicted == labels).squeeze()\n",
    "        \n",
    "        for i in range(len(labels)):\n",
    "            label = labels[i]\n",
    "            class_correct[label] += c[i].item()\n",
    "            total_correct[label] += 1\n",
    "        \n",
    "for i in range(num_classes):\n",
    "    if total_correct[i] > 0:  # Avoid division by zero\n",
    "        accuracy = class_correct[i] * 100 / total_correct[i]\n",
    "        print(f\"Accuracy of {label_classes[i]}: {accuracy:.3f}%\")\n",
    "    else:\n",
    "        print(f\"Accuracy of {label_classes[i]}: No samples\")"
   ]
  },
  {
   "cell_type": "markdown",
   "metadata": {},
   "source": [
    "#### Multipicture prediction plot"
   ]
  }
 ],
 "metadata": {
  "kernelspec": {
   "display_name": "cpe520",
   "language": "python",
   "name": "python3"
  },
  "language_info": {
   "codemirror_mode": {
    "name": "ipython",
    "version": 3
   },
   "file_extension": ".py",
   "mimetype": "text/x-python",
   "name": "python",
   "nbconvert_exporter": "python",
   "pygments_lexer": "ipython3",
   "version": "3.9.20"
  }
 },
 "nbformat": 4,
 "nbformat_minor": 2
}
