{
 "cells": [
  {
   "cell_type": "markdown",
   "metadata": {},
   "source": [
    "## CpE 520 Project - David Babalola & Samuel Olugbemi\n",
    "> This notebook includes code for our term project for **CpE 520, Application of Neural Networks**, at West Virginia University\n",
    "\n",
    "___\n",
    "\n",
    "The aim of this project is to train a CNN model for emotion recognition.\n",
    "\n",
    "I will be using the dataset provided by Jonathan Oheix (from the FER2013) on Kaggle (find it [here](https://www.kaggle.com/datasets/jonathanoheix/face-expression-recognition-dataset/data)) to train and test the model.\n",
    "\n",
    "Additionally, I will be testing the model on two datasets:\n",
    "\n",
    "<ol>\n",
    "<li>The Extended Cohn–Kanade (CK+) database [1]</li>\n",
    "<li>Japanese Female Facial Expressions (JAFFE) database [2]</li>\n",
    "</ol>\n",
    "\n",
    "**References**\n",
    "\n",
    "[1]\tP. Lucey, J. F. Cohn, T. Kanade, J. Saragih, Z. Ambadar, and I. Matthews, “The Extended Cohn-Kanade Dataset (CK+): A complete dataset for action unit and emotion-specified expression,” in 2010 IEEE Computer Society Conference on Computer Vision and Pattern Recognition - Workshops, San Francisco, CA, USA: IEEE, Jun. 2010, pp. 94–101. doi: 10.1109/CVPRW.2010.5543262.\n",
    "\n",
    "[2]\tM. J. Lyons, J. Budynek, and S. Akamatsu, “Automatic classification of single facial images,” IEEE Trans. Pattern Anal. Machine Intell., vol. 21, no. 12, pp. 1357–1362, Dec. 1999, doi: 10.1109/34.817413.\n",
    "\n"
   ]
  },
  {
   "cell_type": "markdown",
   "metadata": {
    "vscode": {
     "languageId": "plaintext"
    }
   },
   "source": [
    "### Importing the Libraries"
   ]
  },
  {
   "cell_type": "code",
   "execution_count": 1,
   "metadata": {},
   "outputs": [],
   "source": [
    "import torch\n",
    "from torch.autograd import Variable\n",
    "import torch.nn as nn\n",
    "import torch.nn.functional as F\n",
    "import torch.optim as optim\n",
    "from torchsummary import summary\n",
    "import torchvision.transforms as T\n",
    "from torchvision import models\n",
    "from torchvision import datasets\n",
    "from torch.utils.data import DataLoader\n",
    "from tqdm import tqdm\n",
    "import numpy as np\n",
    "import matplotlib.pyplot as plt"
   ]
  },
  {
   "cell_type": "code",
   "execution_count": 2,
   "metadata": {},
   "outputs": [
    {
     "data": {
      "text/plain": [
       "'2.5.1'"
      ]
     },
     "execution_count": 2,
     "metadata": {},
     "output_type": "execute_result"
    }
   ],
   "source": [
    "torch.__version__"
   ]
  },
  {
   "cell_type": "markdown",
   "metadata": {},
   "source": [
    "### GPU Set Up"
   ]
  },
  {
   "cell_type": "markdown",
   "metadata": {},
   "source": [
    "### Part 1 Data Preprocessing"
   ]
  },
  {
   "cell_type": "markdown",
   "metadata": {},
   "source": [
    "#### Configuration"
   ]
  },
  {
   "cell_type": "code",
   "execution_count": 31,
   "metadata": {},
   "outputs": [],
   "source": [
    "DEVICE = torch.device('cuda' if torch.cuda.is_available() else 'cpu')\n",
    "#DEVICE = 'cpu'"
   ]
  },
  {
   "cell_type": "code",
   "execution_count": 4,
   "metadata": {},
   "outputs": [
    {
     "data": {
      "text/plain": [
       "device(type='cuda')"
      ]
     },
     "execution_count": 4,
     "metadata": {},
     "output_type": "execute_result"
    }
   ],
   "source": [
    "DEVICE"
   ]
  },
  {
   "cell_type": "markdown",
   "metadata": {},
   "source": [
    "#### Training Set: Jonathan Oheix\n",
    "Emotions\n",
    "> angry, disgust, fear, happy, neutral, sad, surprise\n"
   ]
  },
  {
   "cell_type": "code",
   "execution_count": 32,
   "metadata": {},
   "outputs": [],
   "source": [
    "BATCH_SIZE = 128"
   ]
  },
  {
   "cell_type": "code",
   "execution_count": 33,
   "metadata": {},
   "outputs": [],
   "source": [
    "# Images are already in 48 X 48, so no need to resize\n",
    "training_augs = T.Compose([\n",
    "    T.Grayscale(num_output_channels=3),\n",
    "    T.Resize((48, 48)),\n",
    "    T.ToTensor(),\n",
    "    T.Normalize(mean=[0.5, 0.5, 0.5], std=[0.5, 0.5, 0.5]),  # Normalize with mean=0.5 and std=0.5 (adjust for specific needs)\n",
    "    T.RandomHorizontalFlip(),\n",
    "    T.RandomAffine(degrees=0, shear=0.2, scale=(0.8, 1.2))\n",
    "])\n",
    "\n",
    "\n",
    "training_set = datasets.ImageFolder(root='jonathan_oheix/train', transform=training_augs)\n",
    "\n",
    "training_loader = DataLoader(training_set, batch_size=BATCH_SIZE, shuffle=True)"
   ]
  },
  {
   "cell_type": "markdown",
   "metadata": {},
   "source": [
    "#### Testing Set: Jonathan Oheix"
   ]
  },
  {
   "cell_type": "code",
   "execution_count": 34,
   "metadata": {},
   "outputs": [],
   "source": [
    "valid_augs = T.Compose([\n",
    "    T.Grayscale(num_output_channels=3),\n",
    "    T.ToTensor(),\n",
    "    T.Normalize(mean=[0.5, 0.5, 0.5], std=[0.5, 0.5, 0.5])\n",
    "])\n",
    "\n",
    "test_set = datasets.ImageFolder(root='jonathan_oheix/validation', transform=valid_augs)\n",
    "test_loader = DataLoader(test_set, batch_size=BATCH_SIZE, shuffle=True)"
   ]
  },
  {
   "cell_type": "markdown",
   "metadata": {},
   "source": [
    "##### Dataset shape"
   ]
  },
  {
   "cell_type": "code",
   "execution_count": 35,
   "metadata": {},
   "outputs": [
    {
     "name": "stdout",
     "output_type": "stream",
     "text": [
      "Training set: 28821 images\n",
      "Testing set: 7066 images\n",
      "One image batch shape : torch.Size([128, 3, 48, 48])\n",
      "One label batch shape : torch.Size([128])\n"
     ]
    }
   ],
   "source": [
    "# Print shape of training and testing images\n",
    "print(f\"Training set: {len(training_set)} images\")\n",
    "print(f\"Testing set: {len(test_set)} images\")\n",
    "\n",
    "for images, labels in training_loader:\n",
    "  break\n",
    "\n",
    "print(f\"One image batch shape : {images.shape}\")\n",
    "print(f\"One label batch shape : {labels.shape}\")"
   ]
  },
  {
   "cell_type": "code",
   "execution_count": 36,
   "metadata": {},
   "outputs": [
    {
     "name": "stdout",
     "output_type": "stream",
     "text": [
      "{'angry': 0, 'disgust': 1, 'fear': 2, 'happy': 3, 'neutral': 4, 'sad': 5, 'surprise': 6}\n"
     ]
    }
   ],
   "source": [
    "print(training_set.class_to_idx)"
   ]
  },
  {
   "cell_type": "markdown",
   "metadata": {},
   "source": [
    "##### Print sample image"
   ]
  },
  {
   "cell_type": "code",
   "execution_count": 37,
   "metadata": {},
   "outputs": [
    {
     "name": "stderr",
     "output_type": "stream",
     "text": [
      "Clipping input data to the valid range for imshow with RGB data ([0..1] for floats or [0..255] for integers). Got range [-0.9607843..1.0].\n"
     ]
    },
    {
     "data": {
      "text/plain": [
       "Text(0.5, 1.0, '0')"
      ]
     },
     "execution_count": 37,
     "metadata": {},
     "output_type": "execute_result"
    },
    {
     "data": {
      "image/png": "[encoded data removed]",
      "text/plain": [
       "<Figure size 640x480 with 1 Axes>"
      ]
     },
     "metadata": {},
     "output_type": "display_data"
    }
   ],
   "source": [
    "image, label = training_set[150]\n",
    "plt.imshow(image.permute(1, 2, 0)) # Original should be (h, w, c). Transformation changes it to (c, h, w) \n",
    "plt.title(label)"
   ]
  },
  {
   "cell_type": "markdown",
   "metadata": {},
   "source": [
    "### Part 2 - Building the CNN"
   ]
  },
  {
   "cell_type": "markdown",
   "metadata": {},
   "source": [
    "#### Initializing the CNN"
   ]
  },
  {
   "cell_type": "code",
   "execution_count": null,
   "metadata": {},
   "outputs": [],
   "source": [
    "class EmotionClassifier(nn.Module):\n",
    "    def __init__(self, params):\n",
    "        super(EmotionClassifier, self).__init__()\n",
    "        num_classes = params['num_classes']\n",
    "\n",
    "        # First convolutional layer\n",
    "        self.layer1 = nn.Sequential(\n",
    "            nn.Conv2d(in_channels=3, out_channels=32, kernel_size=3, padding=1),\n",
    "            nn.BatchNorm2d(32),\n",
    "            nn.ReLU(),\n",
    "            nn.MaxPool2d(kernel_size=2, stride=2) # Output: 32x24x24\n",
    "        )\n",
    "\n",
    "        self.layer2 = nn.Sequential(\n",
    "            nn.Conv2d(in_channels=32, out_channels=64, kernel_size=3, padding=1),\n",
    "            nn.BatchNorm2d(64),\n",
    "            nn.ReLU(),\n",
    "            nn.MaxPool2d(kernel_size=2, stride=2)\n",
    "        )\n",
    "\n",
    "        self.layer3 = nn.Sequential(\n",
    "            nn.Conv2d(in_channels=64, out_channels=128, kernel_size=3, padding=1),\n",
    "            nn.BatchNorm2d(128),\n",
    "            nn.ReLU(),\n",
    "            nn.MaxPool2d(kernel_size=2, stride=2)\n",
    "        )\n",
    "\n",
    "        self.layer4 = nn.Sequential(\n",
    "            nn.Conv2d(in_channels=128, out_channels=256, kernel_size=3, padding=1),\n",
    "            nn.BatchNorm2d(256),\n",
    "            nn.ReLU(),\n",
    "            nn.MaxPool2d(kernel_size=2, stride=2)\n",
    "        )\n",
    "\n",
    "        self.layer5 = nn.Sequential(\n",
    "            nn.Conv2d(in_channels=256, out_channels=512, kernel_size=3, padding=1),\n",
    "            nn.BatchNorm2d(512),\n",
    "            nn.ReLU(),\n",
    "            #nn.MaxPool2d(kernel_size=2, stride=2)\n",
    "        )\n",
    "\n",
    "        # Fully connected (dense) layers\n",
    "        self.fc1 = nn.Linear(in_features=512*3*3, out_features=1024)\n",
    "        self.dropout = nn.Dropout2d(params['dropout_rate'])\n",
    "        self.fc2 = nn.Linear(in_features=1024, out_features=256)\n",
    "        self.fc3 = nn.Linear(in_features=256, out_features=num_classes)\n",
    "       \n",
    "        #self.log_softmax = nn.LogSoftmax(dim=1)\n",
    "\n",
    "    def forward(self, x):\n",
    "        output = self.layer1(x)  # Pass through first layer\n",
    "        output = self.layer2(output)  # Pass through second layer\n",
    "        output = self.layer3(output)  # Pass through third layer\n",
    "        output = self.layer4(output)  # Pass through fourth layer\n",
    "        output = self.layer5(output)  # Pass through fifth layer\n",
    "        output = output.view(output.size(0), -1)  # Flatten for the fully connected layers\n",
    "        output = self.fc1(output)  # First fully connected layer\n",
    "        output = self.dropout(output)  # Apply dropout\n",
    "        output = self.fc2(output)  # Second fully connected layer\n",
    "        output = self.fc3(output)  # Output layer\n",
    "        \n",
    "        return output"
   ]
  },
  {
   "cell_type": "markdown",
   "metadata": {},
   "source": [
    "### Part 3 - Training the CNN"
   ]
  },
  {
   "cell_type": "markdown",
   "metadata": {},
   "source": [
    "#### Compiling the CNN"
   ]
  },
  {
   "cell_type": "code",
   "execution_count": 39,
   "metadata": {},
   "outputs": [
    {
     "name": "stdout",
     "output_type": "stream",
     "text": [
      "EmotionClassifier(\n",
      "  (layer1): Sequential(\n",
      "    (0): Conv2d(3, 32, kernel_size=(3, 3), stride=(1, 1), padding=(1, 1))\n",
      "    (1): BatchNorm2d(32, eps=1e-05, momentum=0.1, affine=True, track_running_stats=True)\n",
      "    (2): ReLU()\n",
      "    (3): MaxPool2d(kernel_size=2, stride=2, padding=0, dilation=1, ceil_mode=False)\n",
      "  )\n",
      "  (layer2): Sequential(\n",
      "    (0): Conv2d(32, 64, kernel_size=(3, 3), stride=(1, 1), padding=(1, 1))\n",
      "    (1): BatchNorm2d(64, eps=1e-05, momentum=0.1, affine=True, track_running_stats=True)\n",
      "    (2): ReLU()\n",
      "    (3): MaxPool2d(kernel_size=2, stride=2, padding=0, dilation=1, ceil_mode=False)\n",
      "  )\n",
      "  (layer3): Sequential(\n",
      "    (0): Conv2d(64, 128, kernel_size=(3, 3), stride=(1, 1), padding=(1, 1))\n",
      "    (1): BatchNorm2d(128, eps=1e-05, momentum=0.1, affine=True, track_running_stats=True)\n",
      "    (2): ReLU()\n",
      "    (3): MaxPool2d(kernel_size=2, stride=2, padding=0, dilation=1, ceil_mode=False)\n",
      "  )\n",
      "  (layer4): Sequential(\n",
      "    (0): Conv2d(128, 256, kernel_size=(3, 3), stride=(1, 1), padding=(1, 1))\n",
      "    (1): BatchNorm2d(256, eps=1e-05, momentum=0.1, affine=True, track_running_stats=True)\n",
      "    (2): ReLU()\n",
      "    (3): MaxPool2d(kernel_size=2, stride=2, padding=0, dilation=1, ceil_mode=False)\n",
      "  )\n",
      "  (layer5): Sequential(\n",
      "    (0): Conv2d(256, 512, kernel_size=(3, 3), stride=(1, 1), padding=(1, 1))\n",
      "    (1): BatchNorm2d(512, eps=1e-05, momentum=0.1, affine=True, track_running_stats=True)\n",
      "    (2): ReLU()\n",
      "  )\n",
      "  (fc1): Linear(in_features=4608, out_features=1024, bias=True)\n",
      "  (dropout): Dropout2d(p=0.05, inplace=False)\n",
      "  (fc2): Linear(in_features=1024, out_features=256, bias=True)\n",
      "  (fc3): Linear(in_features=256, out_features=7, bias=True)\n",
      ")\n"
     ]
    }
   ],
   "source": [
    "params={\n",
    "        #\"shape_in\": (3,46,46), \n",
    "        \"initial_filters\": 8,    \n",
    "        #\"num_fc1\": 100,\n",
    "        \"dropout_rate\": 0.05,\n",
    "        \"num_classes\": 7}\n",
    "\n",
    "cnn = EmotionClassifier(params).to(DEVICE)\n",
    "# use SGD and compare\n",
    "\n",
    "print(cnn)"
   ]
  },
  {
   "cell_type": "code",
   "execution_count": 40,
   "metadata": {},
   "outputs": [
    {
     "name": "stdout",
     "output_type": "stream",
     "text": [
      "----------------------------------------------------------------\n",
      "        Layer (type)               Output Shape         Param #\n",
      "================================================================\n",
      "            Conv2d-1           [-1, 32, 48, 48]             896\n",
      "       BatchNorm2d-2           [-1, 32, 48, 48]              64\n",
      "              ReLU-3           [-1, 32, 48, 48]               0\n",
      "         MaxPool2d-4           [-1, 32, 24, 24]               0\n",
      "            Conv2d-5           [-1, 64, 24, 24]          18,496\n",
      "       BatchNorm2d-6           [-1, 64, 24, 24]             128\n",
      "              ReLU-7           [-1, 64, 24, 24]               0\n",
      "         MaxPool2d-8           [-1, 64, 12, 12]               0\n",
      "            Conv2d-9          [-1, 128, 12, 12]          73,856\n",
      "      BatchNorm2d-10          [-1, 128, 12, 12]             256\n",
      "             ReLU-11          [-1, 128, 12, 12]               0\n",
      "        MaxPool2d-12            [-1, 128, 6, 6]               0\n",
      "           Conv2d-13            [-1, 256, 6, 6]         295,168\n",
      "      BatchNorm2d-14            [-1, 256, 6, 6]             512\n",
      "             ReLU-15            [-1, 256, 6, 6]               0\n",
      "        MaxPool2d-16            [-1, 256, 3, 3]               0\n",
      "           Conv2d-17            [-1, 512, 3, 3]       1,180,160\n",
      "      BatchNorm2d-18            [-1, 512, 3, 3]           1,024\n",
      "             ReLU-19            [-1, 512, 3, 3]               0\n",
      "           Linear-20                 [-1, 1024]       4,719,616\n",
      "        Dropout2d-21                 [-1, 1024]               0\n",
      "           Linear-22                  [-1, 256]         262,400\n",
      "           Linear-23                    [-1, 7]           1,799\n",
      "================================================================\n",
      "Total params: 6,554,375\n",
      "Trainable params: 6,554,375\n",
      "Non-trainable params: 0\n",
      "----------------------------------------------------------------\n",
      "Input size (MB): 0.03\n",
      "Forward/backward pass size (MB): 3.55\n",
      "Params size (MB): 25.00\n",
      "Estimated Total Size (MB): 28.58\n",
      "----------------------------------------------------------------\n"
     ]
    }
   ],
   "source": [
    "from torchsummary import summary\n",
    "summary(cnn, input_size=(3, 48, 48), device=DEVICE.type)"
   ]
  },
  {
   "cell_type": "code",
   "execution_count": 41,
   "metadata": {},
   "outputs": [],
   "source": [
    "LR = 0.1\n",
    "EPOCHS = 50"
   ]
  },
  {
   "cell_type": "code",
   "execution_count": 42,
   "metadata": {},
   "outputs": [],
   "source": [
    "optimizer = optim.Adam(cnn.parameters(), lr=LR) # learning_rate = 0.1\n",
    "\n",
    "# CrossEntropyLoss\n",
    "criterion = nn.CrossEntropyLoss()"
   ]
  },
  {
   "cell_type": "markdown",
   "metadata": {},
   "source": [
    "#### Training the CNN on the Training set and evaluating it on the Test set"
   ]
  },
  {
   "cell_type": "code",
   "execution_count": 43,
   "metadata": {},
   "outputs": [],
   "source": [
    "def multiclass_accuracy(y_pred,y_true):\n",
    "    top_p,top_class = y_pred.topk(1,dim = 1)\n",
    "    equals = top_class == y_true.view(*top_class.shape)\n",
    "    return torch.mean(equals.type(torch.cuda.FloatTensor))"
   ]
  },
  {
   "cell_type": "markdown",
   "metadata": {},
   "source": [
    "___\n",
    "___"
   ]
  },
  {
   "cell_type": "markdown",
   "metadata": {},
   "source": [
    "#### Training the CNN on the Training set and evaluating it on the Test set"
   ]
  },
  {
   "cell_type": "code",
   "execution_count": 44,
   "metadata": {},
   "outputs": [],
   "source": [
    "def train_model(model, current_epoch, training_loader, optimizer, criterion, DEVICE):\n",
    "    \"\"\"\n",
    "    Function to train the model for one epoch.\n",
    "    \"\"\"\n",
    "    model.train()  # Set model to training mode\n",
    "    running_loss = 0.0\n",
    "    running_acc = 0.0\n",
    "    tk = tqdm(training_loader, desc=\"EPOCH\" + \"[TRAIN]\" + str(current_epoch + 1) + \"/\" + str(EPOCHS))\n",
    "    \n",
    "    for t, data in enumerate(tk):\n",
    "        # Transfer images and labels to the specified device\n",
    "        images, labels = data\n",
    "        images, labels = images.to(DEVICE), labels.to(DEVICE)\n",
    "        \n",
    "        # Prepare the data for input\n",
    "        #train = Variable(images.view(images.size(0), 1, 48, 48))\n",
    "        train = images\n",
    "        labels = Variable(labels)\n",
    "\n",
    "        # Reset gradients\n",
    "        optimizer.zero_grad()\n",
    "\n",
    "        # Forward pass\n",
    "        outputs = model(train)\n",
    "        loss = criterion(outputs, labels)\n",
    "        \n",
    "\n",
    "        # Backward pass and optimize\n",
    "        loss.backward()\n",
    "        optimizer.step()\n",
    "\n",
    "        running_loss += loss.item() # Total loss\n",
    "        running_acc += multiclass_accuracy(outputs, labels)\n",
    "\n",
    "        tk.set_postfix({'loss': '%6f' % float(running_loss / (t + 1)), 'acc': '%6f' % float(running_acc / (t + 1))})\n",
    "    \n",
    "    return running_loss / len(training_loader), running_acc / len(training_loader)"
   ]
  },
  {
   "cell_type": "code",
   "execution_count": 45,
   "metadata": {},
   "outputs": [],
   "source": [
    "def test_model(model, current_epoch, test_loader, DEVICE):\n",
    "    \"\"\"\n",
    "    Function to test the model and compute accuracy.\n",
    "    \"\"\"\n",
    "    model.eval()  # Set model to evaluation mode\n",
    "    correct = 0\n",
    "    total = 0\n",
    "    predictions_list = []\n",
    "    labels_list = []\n",
    "    running_loss = 0.0\n",
    "    running_acc = 0.0\n",
    "\n",
    "    tk = tqdm(test_loader, desc=\"EPOCH\" + \"[VALID]\" + str(current_epoch + 1) + \"/\" + str(EPOCHS))\n",
    "\n",
    "    with torch.no_grad():  # Disable gradient calculation for testing\n",
    "        for t, data in enumerate(tk):\n",
    "            images, labels = data\n",
    "            images, labels = images.to(DEVICE), labels.to(DEVICE)\n",
    "            labels_list.append(labels)\n",
    "\n",
    "            #test = images.view(images.size(0), 1, 48, 48)\n",
    "            test = images\n",
    "            \n",
    "            # Forward pass\n",
    "            outputs = model(test)\n",
    "            loss = criterion(outputs, labels)\n",
    "\n",
    "            # Get predictions\n",
    "            predictions = torch.max(outputs, 1)[1].to(DEVICE)\n",
    "            predictions_list.append(predictions)\n",
    "            correct += (predictions == labels).sum().item()\n",
    "            total += len(labels)\n",
    "\n",
    "            running_loss += loss.item()\n",
    "            running_acc += multiclass_accuracy(outputs, labels)\n",
    "            tk.set_postfix({'loss': '%6f' %float(running_loss / (t+1)), 'acc': '%6f' %float(running_acc / (t+1)), })\n",
    "\n",
    "    #accuracy = 100 * correct / total\n",
    "    return running_loss / len(test_loader), running_acc / len(test_loader), predictions_list, labels_list, \n"
   ]
  },
  {
   "cell_type": "code",
   "execution_count": 46,
   "metadata": {},
   "outputs": [],
   "source": [
    "# Reduce LR on Plateau\n",
    "# Reduces the learning rate when a monitored metric (e.g., validation loss) stops improving.\n",
    "scheduler = torch.optim.lr_scheduler.ReduceLROnPlateau(optimizer, mode='min', patience=3, factor=0.1)"
   ]
  },
  {
   "cell_type": "code",
   "execution_count": 47,
   "metadata": {},
   "outputs": [
    {
     "name": "stdout",
     "output_type": "stream",
     "text": [
      "Epoch 1, LR: 0.1\n",
      "\n"
     ]
    },
    {
     "name": "stderr",
     "output_type": "stream",
     "text": [
      "EPOCH[TRAIN]1/50: 100%|██████████| 226/226 [03:02<00:00,  1.24it/s, loss=1703.629682, acc=0.167193]\n",
      "EPOCH[VALID]1/50: 100%|██████████| 56/56 [00:40<00:00,  1.37it/s, loss=79.921801, acc=0.161498]\n"
     ]
    },
    {
     "name": "stdout",
     "output_type": "stream",
     "text": [
      "SAVED-BEST-WEIGHTS\n",
      "Epoch 2, LR: 0.1\n",
      "\n"
     ]
    },
    {
     "name": "stderr",
     "output_type": "stream",
     "text": [
      "EPOCH[TRAIN]2/50: 100%|██████████| 226/226 [01:08<00:00,  3.31it/s, loss=37.727167, acc=0.172752]\n",
      "EPOCH[VALID]2/50: 100%|██████████| 56/56 [00:12<00:00,  4.31it/s, loss=3.657725, acc=0.257212]\n"
     ]
    },
    {
     "name": "stdout",
     "output_type": "stream",
     "text": [
      "SAVED-BEST-WEIGHTS\n",
      "Epoch 3, LR: 0.1\n",
      "\n"
     ]
    },
    {
     "name": "stderr",
     "output_type": "stream",
     "text": [
      "EPOCH[TRAIN]3/50: 100%|██████████| 226/226 [01:05<00:00,  3.44it/s, loss=6.985829, acc=0.171024]\n",
      "EPOCH[VALID]3/50: 100%|██████████| 56/56 [00:12<00:00,  4.53it/s, loss=4.533505, acc=0.172927]\n"
     ]
    },
    {
     "name": "stdout",
     "output_type": "stream",
     "text": [
      "No improvement in validation loss for 1 epoch(s).\n",
      "Epoch 4, LR: 0.1\n",
      "\n"
     ]
    },
    {
     "name": "stderr",
     "output_type": "stream",
     "text": [
      "EPOCH[TRAIN]4/50: 100%|██████████| 226/226 [01:13<00:00,  3.09it/s, loss=4.762031, acc=0.171294]\n",
      "EPOCH[VALID]4/50: 100%|██████████| 56/56 [00:18<00:00,  2.98it/s, loss=2.699453, acc=0.170737]\n"
     ]
    },
    {
     "name": "stdout",
     "output_type": "stream",
     "text": [
      "SAVED-BEST-WEIGHTS\n",
      "Epoch 5, LR: 0.1\n",
      "\n"
     ]
    },
    {
     "name": "stderr",
     "output_type": "stream",
     "text": [
      "EPOCH[TRAIN]5/50: 100%|██████████| 226/226 [01:13<00:00,  3.09it/s, loss=2.482450, acc=0.187409]\n",
      "EPOCH[VALID]5/50: 100%|██████████| 56/56 [00:12<00:00,  4.59it/s, loss=2.419725, acc=0.171832]\n"
     ]
    },
    {
     "name": "stdout",
     "output_type": "stream",
     "text": [
      "SAVED-BEST-WEIGHTS\n",
      "Epoch 6, LR: 0.1\n",
      "\n"
     ]
    },
    {
     "name": "stderr",
     "output_type": "stream",
     "text": [
      "EPOCH[TRAIN]6/50: 100%|██████████| 226/226 [01:07<00:00,  3.35it/s, loss=2.141234, acc=0.193767]\n",
      "EPOCH[VALID]6/50: 100%|██████████| 56/56 [00:13<00:00,  4.22it/s, loss=2.048299, acc=0.259530]\n"
     ]
    },
    {
     "name": "stdout",
     "output_type": "stream",
     "text": [
      "SAVED-BEST-WEIGHTS\n",
      "Epoch 7, LR: 0.1\n",
      "\n"
     ]
    },
    {
     "name": "stderr",
     "output_type": "stream",
     "text": [
      "EPOCH[TRAIN]7/50: 100%|██████████| 226/226 [01:08<00:00,  3.30it/s, loss=1.920425, acc=0.202755]\n",
      "EPOCH[VALID]7/50: 100%|██████████| 56/56 [00:11<00:00,  4.69it/s, loss=1.896171, acc=0.171285]\n"
     ]
    },
    {
     "name": "stdout",
     "output_type": "stream",
     "text": [
      "SAVED-BEST-WEIGHTS\n",
      "Epoch 8, LR: 0.1\n",
      "\n"
     ]
    },
    {
     "name": "stderr",
     "output_type": "stream",
     "text": [
      "EPOCH[TRAIN]8/50: 100%|██████████| 226/226 [01:08<00:00,  3.29it/s, loss=1.958406, acc=0.208537]\n",
      "EPOCH[VALID]8/50: 100%|██████████| 56/56 [00:13<00:00,  4.20it/s, loss=1.876836, acc=0.170737]\n"
     ]
    },
    {
     "name": "stdout",
     "output_type": "stream",
     "text": [
      "SAVED-BEST-WEIGHTS\n",
      "Epoch 9, LR: 0.1\n",
      "\n"
     ]
    },
    {
     "name": "stderr",
     "output_type": "stream",
     "text": [
      "EPOCH[TRAIN]9/50: 100%|██████████| 226/226 [01:08<00:00,  3.28it/s, loss=1.972617, acc=0.199294]\n",
      "EPOCH[VALID]9/50: 100%|██████████| 56/56 [00:12<00:00,  4.32it/s, loss=2.054043, acc=0.144209]\n"
     ]
    },
    {
     "name": "stdout",
     "output_type": "stream",
     "text": [
      "No improvement in validation loss for 1 epoch(s).\n",
      "Epoch 10, LR: 0.1\n",
      "\n"
     ]
    },
    {
     "name": "stderr",
     "output_type": "stream",
     "text": [
      "EPOCH[TRAIN]10/50: 100%|██████████| 226/226 [01:09<00:00,  3.27it/s, loss=1.946718, acc=0.201910]\n",
      "EPOCH[VALID]10/50: 100%|██████████| 56/56 [00:12<00:00,  4.38it/s, loss=2.086220, acc=0.172927]\n"
     ]
    },
    {
     "name": "stdout",
     "output_type": "stream",
     "text": [
      "No improvement in validation loss for 2 epoch(s).\n",
      "Epoch 11, LR: 0.1\n",
      "\n"
     ]
    },
    {
     "name": "stderr",
     "output_type": "stream",
     "text": [
      "EPOCH[TRAIN]11/50: 100%|██████████| 226/226 [01:30<00:00,  2.49it/s, loss=1.919505, acc=0.205181]\n",
      "EPOCH[VALID]11/50: 100%|██████████| 56/56 [00:12<00:00,  4.46it/s, loss=1.888799, acc=0.256793]\n"
     ]
    },
    {
     "name": "stdout",
     "output_type": "stream",
     "text": [
      "No improvement in validation loss for 3 epoch(s).\n",
      "Epoch 12, LR: 0.1\n",
      "\n"
     ]
    },
    {
     "name": "stderr",
     "output_type": "stream",
     "text": [
      "EPOCH[TRAIN]12/50: 100%|██████████| 226/226 [01:07<00:00,  3.35it/s, loss=1.907164, acc=0.205792]\n",
      "EPOCH[VALID]12/50: 100%|██████████| 56/56 [00:13<00:00,  4.29it/s, loss=2.048061, acc=0.260624]\n"
     ]
    },
    {
     "name": "stdout",
     "output_type": "stream",
     "text": [
      "No improvement in validation loss for 4 epoch(s).\n",
      "Epoch 13, LR: 0.010000000000000002\n",
      "\n"
     ]
    },
    {
     "name": "stderr",
     "output_type": "stream",
     "text": [
      "EPOCH[TRAIN]13/50: 100%|██████████| 226/226 [01:08<00:00,  3.32it/s, loss=1.825209, acc=0.245305]\n",
      "EPOCH[VALID]13/50: 100%|██████████| 56/56 [00:12<00:00,  4.35it/s, loss=1.858207, acc=0.258435]\n"
     ]
    },
    {
     "name": "stdout",
     "output_type": "stream",
     "text": [
      "SAVED-BEST-WEIGHTS\n",
      "Epoch 14, LR: 0.010000000000000002\n",
      "\n"
     ]
    },
    {
     "name": "stderr",
     "output_type": "stream",
     "text": [
      "EPOCH[TRAIN]14/50: 100%|██████████| 226/226 [01:10<00:00,  3.23it/s, loss=1.819361, acc=0.244219]\n",
      "EPOCH[VALID]14/50: 100%|██████████| 56/56 [00:13<00:00,  4.21it/s, loss=1.872758, acc=0.259530]\n"
     ]
    },
    {
     "name": "stdout",
     "output_type": "stream",
     "text": [
      "No improvement in validation loss for 1 epoch(s).\n",
      "Epoch 15, LR: 0.010000000000000002\n",
      "\n"
     ]
    },
    {
     "name": "stderr",
     "output_type": "stream",
     "text": [
      "EPOCH[TRAIN]15/50: 100%|██████████| 226/226 [01:06<00:00,  3.41it/s, loss=1.820071, acc=0.244482]\n",
      "EPOCH[VALID]15/50: 100%|██████████| 56/56 [00:11<00:00,  4.68it/s, loss=1.843186, acc=0.260624]\n"
     ]
    },
    {
     "name": "stdout",
     "output_type": "stream",
     "text": [
      "SAVED-BEST-WEIGHTS\n",
      "Epoch 16, LR: 0.010000000000000002\n",
      "\n"
     ]
    },
    {
     "name": "stderr",
     "output_type": "stream",
     "text": [
      "EPOCH[TRAIN]16/50: 100%|██████████| 226/226 [01:25<00:00,  2.64it/s, loss=1.819432, acc=0.245796]\n",
      "EPOCH[VALID]16/50: 100%|██████████| 56/56 [00:12<00:00,  4.34it/s, loss=1.815979, acc=0.257888]\n"
     ]
    },
    {
     "name": "stdout",
     "output_type": "stream",
     "text": [
      "SAVED-BEST-WEIGHTS\n",
      "Epoch 17, LR: 0.010000000000000002\n",
      "\n"
     ]
    },
    {
     "name": "stderr",
     "output_type": "stream",
     "text": [
      "EPOCH[TRAIN]17/50: 100%|██████████| 226/226 [01:05<00:00,  3.43it/s, loss=1.819635, acc=0.246877]\n",
      "EPOCH[VALID]17/50: 100%|██████████| 56/56 [00:12<00:00,  4.54it/s, loss=1.827315, acc=0.258435]\n"
     ]
    },
    {
     "name": "stdout",
     "output_type": "stream",
     "text": [
      "No improvement in validation loss for 1 epoch(s).\n",
      "Epoch 18, LR: 0.010000000000000002\n",
      "\n"
     ]
    },
    {
     "name": "stderr",
     "output_type": "stream",
     "text": [
      "EPOCH[TRAIN]18/50: 100%|██████████| 226/226 [01:07<00:00,  3.37it/s, loss=1.822709, acc=0.241261]\n",
      "EPOCH[VALID]18/50: 100%|██████████| 56/56 [00:11<00:00,  4.73it/s, loss=1.826684, acc=0.256246]\n"
     ]
    },
    {
     "name": "stdout",
     "output_type": "stream",
     "text": [
      "No improvement in validation loss for 2 epoch(s).\n",
      "Epoch 19, LR: 0.010000000000000002\n",
      "\n"
     ]
    },
    {
     "name": "stderr",
     "output_type": "stream",
     "text": [
      "EPOCH[TRAIN]19/50: 100%|██████████| 226/226 [01:06<00:00,  3.38it/s, loss=1.821419, acc=0.245108]\n",
      "EPOCH[VALID]19/50: 100%|██████████| 56/56 [00:12<00:00,  4.54it/s, loss=1.818040, acc=0.258982]\n"
     ]
    },
    {
     "name": "stdout",
     "output_type": "stream",
     "text": [
      "No improvement in validation loss for 3 epoch(s).\n",
      "Epoch 20, LR: 0.010000000000000002\n",
      "\n"
     ]
    },
    {
     "name": "stderr",
     "output_type": "stream",
     "text": [
      "EPOCH[TRAIN]20/50: 100%|██████████| 226/226 [01:05<00:00,  3.44it/s, loss=1.823140, acc=0.242829]\n",
      "EPOCH[VALID]20/50: 100%|██████████| 56/56 [00:12<00:00,  4.54it/s, loss=1.815126, acc=0.257340]\n"
     ]
    },
    {
     "name": "stdout",
     "output_type": "stream",
     "text": [
      "SAVED-BEST-WEIGHTS\n",
      "Epoch 21, LR: 0.010000000000000002\n",
      "\n"
     ]
    },
    {
     "name": "stderr",
     "output_type": "stream",
     "text": [
      "EPOCH[TRAIN]21/50: 100%|██████████| 226/226 [01:22<00:00,  2.75it/s, loss=1.824199, acc=0.241751]\n",
      "EPOCH[VALID]21/50: 100%|██████████| 56/56 [00:12<00:00,  4.41it/s, loss=1.819458, acc=0.257888]\n"
     ]
    },
    {
     "name": "stdout",
     "output_type": "stream",
     "text": [
      "No improvement in validation loss for 1 epoch(s).\n",
      "Epoch 22, LR: 0.010000000000000002\n",
      "\n"
     ]
    },
    {
     "name": "stderr",
     "output_type": "stream",
     "text": [
      "EPOCH[TRAIN]22/50: 100%|██████████| 226/226 [01:04<00:00,  3.50it/s, loss=1.829761, acc=0.239982]\n",
      "EPOCH[VALID]22/50: 100%|██████████| 56/56 [00:11<00:00,  4.71it/s, loss=1.869444, acc=0.259530]\n"
     ]
    },
    {
     "name": "stdout",
     "output_type": "stream",
     "text": [
      "No improvement in validation loss for 2 epoch(s).\n",
      "Epoch 23, LR: 0.010000000000000002\n",
      "\n"
     ]
    },
    {
     "name": "stderr",
     "output_type": "stream",
     "text": [
      "EPOCH[TRAIN]23/50: 100%|██████████| 226/226 [01:04<00:00,  3.52it/s, loss=1.831102, acc=0.236610]\n",
      "EPOCH[VALID]23/50: 100%|██████████| 56/56 [00:11<00:00,  4.87it/s, loss=1.830703, acc=0.257888]\n"
     ]
    },
    {
     "name": "stdout",
     "output_type": "stream",
     "text": [
      "No improvement in validation loss for 3 epoch(s).\n",
      "Epoch 24, LR: 0.010000000000000002\n",
      "\n"
     ]
    },
    {
     "name": "stderr",
     "output_type": "stream",
     "text": [
      "EPOCH[TRAIN]24/50: 100%|██████████| 226/226 [01:10<00:00,  3.21it/s, loss=1.831949, acc=0.236877]\n",
      "EPOCH[VALID]24/50: 100%|██████████| 56/56 [00:15<00:00,  3.70it/s, loss=1.815222, acc=0.255698]\n"
     ]
    },
    {
     "name": "stdout",
     "output_type": "stream",
     "text": [
      "No improvement in validation loss for 4 epoch(s).\n",
      "Epoch 25, LR: 0.0010000000000000002\n",
      "\n"
     ]
    },
    {
     "name": "stderr",
     "output_type": "stream",
     "text": [
      "EPOCH[TRAIN]25/50: 100%|██████████| 226/226 [01:05<00:00,  3.45it/s, loss=1.812475, acc=0.248706]\n",
      "EPOCH[VALID]25/50: 100%|██████████| 56/56 [00:12<00:00,  4.49it/s, loss=1.811245, acc=0.257340]\n"
     ]
    },
    {
     "name": "stdout",
     "output_type": "stream",
     "text": [
      "SAVED-BEST-WEIGHTS\n",
      "Epoch 26, LR: 0.0010000000000000002\n",
      "\n"
     ]
    },
    {
     "name": "stderr",
     "output_type": "stream",
     "text": [
      "EPOCH[TRAIN]26/50: 100%|██████████| 226/226 [01:05<00:00,  3.47it/s, loss=1.813144, acc=0.248530]\n",
      "EPOCH[VALID]26/50: 100%|██████████| 56/56 [00:12<00:00,  4.61it/s, loss=1.850549, acc=0.256793]\n"
     ]
    },
    {
     "name": "stdout",
     "output_type": "stream",
     "text": [
      "No improvement in validation loss for 1 epoch(s).\n",
      "Epoch 27, LR: 0.0010000000000000002\n",
      "\n"
     ]
    },
    {
     "name": "stderr",
     "output_type": "stream",
     "text": [
      "EPOCH[TRAIN]27/50: 100%|██████████| 226/226 [01:27<00:00,  2.59it/s, loss=1.812330, acc=0.249235]\n",
      "EPOCH[VALID]27/50: 100%|██████████| 56/56 [00:13<00:00,  4.22it/s, loss=1.822010, acc=0.258982]\n"
     ]
    },
    {
     "name": "stdout",
     "output_type": "stream",
     "text": [
      "No improvement in validation loss for 2 epoch(s).\n",
      "Epoch 28, LR: 0.0010000000000000002\n",
      "\n"
     ]
    },
    {
     "name": "stderr",
     "output_type": "stream",
     "text": [
      "EPOCH[TRAIN]28/50: 100%|██████████| 226/226 [01:05<00:00,  3.45it/s, loss=1.813516, acc=0.248706]\n",
      "EPOCH[VALID]28/50: 100%|██████████| 56/56 [00:12<00:00,  4.41it/s, loss=1.814331, acc=0.256246]\n"
     ]
    },
    {
     "name": "stdout",
     "output_type": "stream",
     "text": [
      "No improvement in validation loss for 3 epoch(s).\n",
      "Epoch 29, LR: 0.0010000000000000002\n",
      "\n"
     ]
    },
    {
     "name": "stderr",
     "output_type": "stream",
     "text": [
      "EPOCH[TRAIN]29/50: 100%|██████████| 226/226 [01:23<00:00,  2.70it/s, loss=1.813860, acc=0.248530]\n",
      "EPOCH[VALID]29/50: 100%|██████████| 56/56 [00:12<00:00,  4.57it/s, loss=1.825595, acc=0.258982]\n"
     ]
    },
    {
     "name": "stdout",
     "output_type": "stream",
     "text": [
      "No improvement in validation loss for 4 epoch(s).\n",
      "Epoch 30, LR: 0.00010000000000000003\n",
      "\n"
     ]
    },
    {
     "name": "stderr",
     "output_type": "stream",
     "text": [
      "EPOCH[TRAIN]30/50: 100%|██████████| 226/226 [01:06<00:00,  3.39it/s, loss=1.811262, acc=0.248706]\n",
      "EPOCH[VALID]30/50: 100%|██████████| 56/56 [00:12<00:00,  4.53it/s, loss=1.818749, acc=0.260077]\n"
     ]
    },
    {
     "name": "stdout",
     "output_type": "stream",
     "text": [
      "No improvement in validation loss for 5 epoch(s).\n",
      "Epoch 31, LR: 0.00010000000000000003\n",
      "\n"
     ]
    },
    {
     "name": "stderr",
     "output_type": "stream",
     "text": [
      "EPOCH[TRAIN]31/50: 100%|██████████| 226/226 [01:05<00:00,  3.47it/s, loss=1.811598, acc=0.248530]\n",
      "EPOCH[VALID]31/50: 100%|██████████| 56/56 [00:12<00:00,  4.47it/s, loss=1.808483, acc=0.257888]\n"
     ]
    },
    {
     "name": "stdout",
     "output_type": "stream",
     "text": [
      "SAVED-BEST-WEIGHTS\n",
      "Epoch 32, LR: 0.00010000000000000003\n",
      "\n"
     ]
    },
    {
     "name": "stderr",
     "output_type": "stream",
     "text": [
      "EPOCH[TRAIN]32/50: 100%|██████████| 226/226 [01:28<00:00,  2.55it/s, loss=1.811296, acc=0.248706]\n",
      "EPOCH[VALID]32/50: 100%|██████████| 56/56 [00:12<00:00,  4.50it/s, loss=1.813151, acc=0.258982]\n"
     ]
    },
    {
     "name": "stdout",
     "output_type": "stream",
     "text": [
      "No improvement in validation loss for 1 epoch(s).\n",
      "Epoch 33, LR: 0.00010000000000000003\n",
      "\n"
     ]
    },
    {
     "name": "stderr",
     "output_type": "stream",
     "text": [
      "EPOCH[TRAIN]33/50: 100%|██████████| 226/226 [01:05<00:00,  3.43it/s, loss=1.811762, acc=0.248002]\n",
      "EPOCH[VALID]33/50: 100%|██████████| 56/56 [00:12<00:00,  4.55it/s, loss=1.812561, acc=0.256246]\n"
     ]
    },
    {
     "name": "stdout",
     "output_type": "stream",
     "text": [
      "No improvement in validation loss for 2 epoch(s).\n",
      "Epoch 34, LR: 0.00010000000000000003\n",
      "\n"
     ]
    },
    {
     "name": "stderr",
     "output_type": "stream",
     "text": [
      "EPOCH[TRAIN]34/50: 100%|██████████| 226/226 [01:16<00:00,  2.97it/s, loss=1.811655, acc=0.248706]\n",
      "EPOCH[VALID]34/50: 100%|██████████| 56/56 [00:12<00:00,  4.38it/s, loss=1.829821, acc=0.258435]\n"
     ]
    },
    {
     "name": "stdout",
     "output_type": "stream",
     "text": [
      "No improvement in validation loss for 3 epoch(s).\n",
      "Epoch 35, LR: 0.00010000000000000003\n",
      "\n"
     ]
    },
    {
     "name": "stderr",
     "output_type": "stream",
     "text": [
      "EPOCH[TRAIN]35/50: 100%|██████████| 226/226 [01:05<00:00,  3.43it/s, loss=1.811276, acc=0.248530]\n",
      "EPOCH[VALID]35/50: 100%|██████████| 56/56 [00:12<00:00,  4.34it/s, loss=1.818707, acc=0.259530]\n"
     ]
    },
    {
     "name": "stdout",
     "output_type": "stream",
     "text": [
      "No improvement in validation loss for 4 epoch(s).\n",
      "Epoch 36, LR: 1.0000000000000004e-05\n",
      "\n"
     ]
    },
    {
     "name": "stderr",
     "output_type": "stream",
     "text": [
      "EPOCH[TRAIN]36/50: 100%|██████████| 226/226 [01:06<00:00,  3.38it/s, loss=1.811458, acc=0.248530]\n",
      "EPOCH[VALID]36/50: 100%|██████████| 56/56 [00:12<00:00,  4.42it/s, loss=1.842348, acc=0.258982]\n"
     ]
    },
    {
     "name": "stdout",
     "output_type": "stream",
     "text": [
      "No improvement in validation loss for 5 epoch(s).\n",
      "Epoch 37, LR: 1.0000000000000004e-05\n",
      "\n"
     ]
    },
    {
     "name": "stderr",
     "output_type": "stream",
     "text": [
      "EPOCH[TRAIN]37/50: 100%|██████████| 226/226 [01:24<00:00,  2.68it/s, loss=1.810634, acc=0.248882]\n",
      "EPOCH[VALID]37/50: 100%|██████████| 56/56 [00:12<00:00,  4.33it/s, loss=1.808444, acc=0.260077]\n"
     ]
    },
    {
     "name": "stdout",
     "output_type": "stream",
     "text": [
      "SAVED-BEST-WEIGHTS\n",
      "Epoch 38, LR: 1.0000000000000004e-05\n",
      "\n"
     ]
    },
    {
     "name": "stderr",
     "output_type": "stream",
     "text": [
      "EPOCH[TRAIN]38/50: 100%|██████████| 226/226 [01:07<00:00,  3.37it/s, loss=1.810743, acc=0.248706]\n",
      "EPOCH[VALID]38/50: 100%|██████████| 56/56 [00:12<00:00,  4.47it/s, loss=1.811359, acc=0.257888]\n"
     ]
    },
    {
     "name": "stdout",
     "output_type": "stream",
     "text": [
      "No improvement in validation loss for 1 epoch(s).\n",
      "Epoch 39, LR: 1.0000000000000004e-05\n",
      "\n"
     ]
    },
    {
     "name": "stderr",
     "output_type": "stream",
     "text": [
      "EPOCH[TRAIN]39/50: 100%|██████████| 226/226 [01:06<00:00,  3.42it/s, loss=1.811305, acc=0.248002]\n",
      "EPOCH[VALID]39/50: 100%|██████████| 56/56 [00:11<00:00,  4.68it/s, loss=1.816167, acc=0.257340]\n"
     ]
    },
    {
     "name": "stdout",
     "output_type": "stream",
     "text": [
      "No improvement in validation loss for 2 epoch(s).\n",
      "Epoch 40, LR: 1.0000000000000004e-06\n",
      "\n"
     ]
    },
    {
     "name": "stderr",
     "output_type": "stream",
     "text": [
      "EPOCH[TRAIN]40/50: 100%|██████████| 226/226 [01:05<00:00,  3.44it/s, loss=1.810922, acc=0.248530]\n",
      "EPOCH[VALID]40/50: 100%|██████████| 56/56 [00:12<00:00,  4.49it/s, loss=1.818726, acc=0.258435]\n"
     ]
    },
    {
     "name": "stdout",
     "output_type": "stream",
     "text": [
      "No improvement in validation loss for 3 epoch(s).\n",
      "Epoch 41, LR: 1.0000000000000004e-06\n",
      "\n"
     ]
    },
    {
     "name": "stderr",
     "output_type": "stream",
     "text": [
      "EPOCH[TRAIN]41/50: 100%|██████████| 226/226 [01:05<00:00,  3.43it/s, loss=1.810692, acc=0.248706]\n",
      "EPOCH[VALID]41/50: 100%|██████████| 56/56 [00:12<00:00,  4.55it/s, loss=1.813068, acc=0.257340]\n"
     ]
    },
    {
     "name": "stdout",
     "output_type": "stream",
     "text": [
      "No improvement in validation loss for 4 epoch(s).\n",
      "Epoch 42, LR: 1.0000000000000004e-06\n",
      "\n"
     ]
    },
    {
     "name": "stderr",
     "output_type": "stream",
     "text": [
      "EPOCH[TRAIN]42/50: 100%|██████████| 226/226 [01:05<00:00,  3.48it/s, loss=1.811838, acc=0.248178]\n",
      "EPOCH[VALID]42/50: 100%|██████████| 56/56 [00:12<00:00,  4.59it/s, loss=1.814264, acc=0.255151]\n"
     ]
    },
    {
     "name": "stdout",
     "output_type": "stream",
     "text": [
      "No improvement in validation loss for 5 epoch(s).\n",
      "Epoch 43, LR: 1.0000000000000004e-06\n",
      "\n"
     ]
    },
    {
     "name": "stderr",
     "output_type": "stream",
     "text": [
      "EPOCH[TRAIN]43/50: 100%|██████████| 226/226 [01:29<00:00,  2.52it/s, loss=1.810527, acc=0.249058]\n",
      "EPOCH[VALID]43/50: 100%|██████████| 56/56 [00:12<00:00,  4.58it/s, loss=1.824113, acc=0.260077]"
     ]
    },
    {
     "name": "stdout",
     "output_type": "stream",
     "text": [
      "No improvement in validation loss for 6 epoch(s).\n",
      "Patience exceeded. Early stopping at epoch 43\n",
      "Early stopping triggered. Stopping training.\n"
     ]
    },
    {
     "name": "stderr",
     "output_type": "stream",
     "text": [
      "\n"
     ]
    }
   ],
   "source": [
    "# Main training loop\n",
    "\n",
    "# Dictionary to store loss values over epochs\n",
    "metrics_loss = {\n",
    "    'training_loss': [],\n",
    "    'validation_loss': []\n",
    "}\n",
    "# Dictionary to store accuracy values over epochs\n",
    "metrics_accuracy = {\n",
    "    'training_accuracy': [],\n",
    "    'validation_accuracy': []\n",
    "}\n",
    "\n",
    "iteration_list = []\n",
    "count = 0\n",
    "best_valid_loss = np.inf\n",
    "patience_counter = 0   # Tracks the number of epochs without improvement\n",
    "early_stop = False # Flag to indicate whether to stop training\n",
    "patience = 6\n",
    "\n",
    "for current_epoch in range(EPOCHS):\n",
    "    if early_stop:\n",
    "        print(\"Early stopping triggered. Stopping training.\")\n",
    "        break\n",
    "    print(f\"Epoch {current_epoch + 1}, LR: {scheduler.optimizer.param_groups[0]['lr']}\")\n",
    "    print(\"\")\n",
    "    \n",
    "    # Training step\n",
    "    train_loss, train_accuracy = train_model(cnn, current_epoch, training_loader, optimizer, criterion, DEVICE)\n",
    "    \n",
    "    # Increment count for iterations\n",
    "    count += len(training_loader)\n",
    "\n",
    "    valid_loss, valid_accuracy, predictions_list, labels_list,  = test_model(cnn, current_epoch, test_loader, DEVICE)\n",
    "\n",
    "    # Record metrics\n",
    "    metrics_loss['training_loss'].append(train_loss)\n",
    "    metrics_loss['validation_loss'].append(valid_loss)\n",
    "\n",
    "    metrics_accuracy['training_accuracy'].append(train_accuracy)\n",
    "    metrics_accuracy['validation_accuracy'].append(valid_accuracy)\n",
    "\n",
    "    iteration_list.append(count)\n",
    "\n",
    "    # Update the learning rate based on validation loss and print\n",
    "    scheduler.step(valid_loss)\n",
    "    \n",
    "\n",
    "    if valid_loss < best_valid_loss:\n",
    "        torch.save(cnn.state_dict(), 'best_weights_our_cnn_adam.pt')\n",
    "        print(\"SAVED-BEST-WEIGHTS\")\n",
    "        best_valid_loss = valid_loss\n",
    "        patience_counter = 0 # Reset early stopping\n",
    "    else:\n",
    "        patience_counter += 1\n",
    "        print(f\"No improvement in validation loss for {patience_counter} epoch(s).\")\n",
    "\n",
    "    if patience_counter >= patience:\n",
    "        print(\"Patience exceeded. Early stopping at epoch \" +str(current_epoch + 1))\n",
    "        early_stop = True\n"
   ]
  },
  {
   "cell_type": "markdown",
   "metadata": {},
   "source": [
    "___\n",
    "___"
   ]
  },
  {
   "cell_type": "markdown",
   "metadata": {},
   "source": [
    "#### Testing the CNN on the CK+ dataset"
   ]
  },
  {
   "cell_type": "code",
   "execution_count": null,
   "metadata": {},
   "outputs": [],
   "source": []
  },
  {
   "cell_type": "markdown",
   "metadata": {},
   "source": [
    "#### Testing the CNN on the JAFFE dataset"
   ]
  },
  {
   "cell_type": "markdown",
   "metadata": {},
   "source": []
  },
  {
   "cell_type": "code",
   "execution_count": 48,
   "metadata": {},
   "outputs": [
    {
     "data": {
      "text/plain": [
       "<module 'visualization_plots' from 'c:\\\\Python_Codes\\\\cpe520\\\\visualization_plots.py'>"
      ]
     },
     "execution_count": 48,
     "metadata": {},
     "output_type": "execute_result"
    }
   ],
   "source": [
    "import importlib\n",
    "import visualization_plots\n",
    "importlib.reload(visualization_plots)"
   ]
  },
  {
   "cell_type": "markdown",
   "metadata": {},
   "source": [
    "#### Visualizing the Loss and Accuracy"
   ]
  },
  {
   "cell_type": "code",
   "execution_count": 49,
   "metadata": {},
   "outputs": [
    {
     "data": {
      "image/png": "[encoded data removed]",
      "text/plain": [
       "<Figure size 600x400 with 1 Axes>"
      ]
     },
     "metadata": {},
     "output_type": "display_data"
    }
   ],
   "source": [
    "visualization_plots.plot_accuracy(metrics_accuracy, model_extra_desc=\"Our Model with ADAM and LR from 0.1\")"
   ]
  },
  {
   "cell_type": "code",
   "execution_count": 50,
   "metadata": {},
   "outputs": [
    {
     "data": {
      "image/png": "[encoded data removed]",
      "text/plain": [
       "<Figure size 600x400 with 1 Axes>"
      ]
     },
     "metadata": {},
     "output_type": "display_data"
    }
   ],
   "source": [
    "visualization_plots.plot_loss(metrics_loss, model_extra_desc=\"Our Model with ADAM and LR from 0.1\")"
   ]
  },
  {
   "cell_type": "markdown",
   "metadata": {},
   "source": [
    "#### Looking the Accuracy in each class of dataset"
   ]
  },
  {
   "cell_type": "code",
   "execution_count": 55,
   "metadata": {},
   "outputs": [
    {
     "data": {
      "text/plain": [
       "{0: 'angry',\n",
       " 1: 'disgust',\n",
       " 2: 'fear',\n",
       " 3: 'happy',\n",
       " 4: 'neutral',\n",
       " 5: 'sad',\n",
       " 6: 'surprise'}"
      ]
     },
     "execution_count": 55,
     "metadata": {},
     "output_type": "execute_result"
    }
   ],
   "source": [
    "label_classes = training_set.class_to_idx\n",
    "# Switch keys and values\n",
    "label_classes = {value: key for key, value in label_classes.items()}\n",
    "label_classes"
   ]
  },
  {
   "cell_type": "code",
   "execution_count": 56,
   "metadata": {},
   "outputs": [
    {
     "name": "stdout",
     "output_type": "stream",
     "text": [
      "Accuracy of angry: 0.000%\n",
      "Accuracy of disgust: 0.000%\n",
      "Accuracy of fear: 0.000%\n",
      "Accuracy of happy: 100.000%\n",
      "Accuracy of neutral: 0.000%\n",
      "Accuracy of sad: 0.000%\n",
      "Accuracy of surprise: 0.000%\n"
     ]
    }
   ],
   "source": [
    "class_correct = [0. for _ in range(params['num_classes'])]\n",
    "total_correct = [0. for _ in range(params['num_classes'])]\n",
    "\n",
    "with torch.no_grad():\n",
    "    for images, labels in test_loader:\n",
    "        images, labels = images.to(DEVICE), labels.to(DEVICE)\n",
    "        test = images\n",
    "        outputs = cnn(test)\n",
    "        predicted = torch.max(outputs, 1)[1]\n",
    "        c = (predicted == labels).squeeze()\n",
    "        \n",
    "        for i in range(len(labels)):\n",
    "            label = labels[i]\n",
    "            class_correct[label] += c[i].item()\n",
    "            total_correct[label] += 1\n",
    "        \n",
    "for i in range(params['num_classes']):\n",
    "    if total_correct[i] > 0:  # Avoid division by zero\n",
    "        accuracy = class_correct[i] * 100 / total_correct[i]\n",
    "        print(f\"Accuracy of {label_classes[i]}: {accuracy:.3f}%\")\n",
    "    else:\n",
    "        print(f\"Accuracy of {label_classes[i]}: No samples\")"
   ]
  },
  {
   "cell_type": "code",
   "execution_count": null,
   "metadata": {},
   "outputs": [],
   "source": []
  }
 ],
 "metadata": {
  "kernelspec": {
   "display_name": "cpe520",
   "language": "python",
   "name": "python3"
  },
  "language_info": {
   "codemirror_mode": {
    "name": "ipython",
    "version": 3
   },
   "file_extension": ".py",
   "mimetype": "text/x-python",
   "name": "python",
   "nbconvert_exporter": "python",
   "pygments_lexer": "ipython3",
   "version": "3.9.20"
  }
 },
 "nbformat": 4,
 "nbformat_minor": 2
}
